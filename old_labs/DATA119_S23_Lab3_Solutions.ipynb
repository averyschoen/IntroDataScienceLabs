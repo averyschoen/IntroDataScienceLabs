{
 "cells": [
  {
   "cell_type": "raw",
   "id": "43ee2c71-62e0-4da4-b000-eeb45d5fa687",
   "metadata": {},
   "source": [
    "---\n",
    "title: \"DATA 119 S23 Lab 3 Solutions\"\n",
    "name: \"Amy Nussbaum\"\n",
    "format: pdf\n",
    "---"
   ]
  },
  {
   "cell_type": "markdown",
   "id": "222423d4-24f8-47f3-ae03-22ecbf9d33a1",
   "metadata": {},
   "source": [
    "# Lab 3 Goals\n",
    "\n",
    "The goals of this lab are:\n",
    "\n",
    "* To learn to address failed assumptions in multiple regression.\n",
    "* To find significant predictors for a response variable in multiple regression.\n",
    "* To learn to incorporate categorical variables in multiple regression. \n",
    "* To continue practicing multiple linear regression.\n",
    "* To fit logistic regression.  \n",
    "\n",
    "For this lab, it may be helpful to install and load the following modules: \n",
    "\n",
    "* `numpy`\n",
    "* `pandas` \n",
    "* `plotnine`\n",
    "* `statsmodels`"
   ]
  },
  {
   "cell_type": "code",
   "execution_count": 3,
   "id": "1b37274b-6f6c-4c57-8edf-d383a30304ee",
   "metadata": {},
   "outputs": [],
   "source": [
    "import numpy as np\n",
    "import pandas as pd\n",
    "import plotnine as p9\n",
    "import statsmodels.api as sm"
   ]
  },
  {
   "cell_type": "markdown",
   "id": "dc6c52f1-a511-4b43-956d-4f7e56b137bf",
   "metadata": {},
   "source": [
    "We will be using the AirBnB prices dataset from Homeworks 1 and 2. Refresh yourself on the variables it includes by reading the [Kaggle documentation](https://www.kaggle.com/datasets/thedevastator/airbnb-prices-in-european-cities) as well as the [documentation from the original source, Zenodo.](https://zenodo.org/record/4446043#.ZCTMTezMK3J) Now that you know how it should be cleaned, you can download the full dataset from Canvas and upload it. "
   ]
  },
  {
   "cell_type": "code",
   "execution_count": 4,
   "id": "8e0e83a7-df84-4855-a376-d9f793bf0fb3",
   "metadata": {},
   "outputs": [],
   "source": [
    "AirBnB_prices = pd.read_csv(\"AirBnB_prices.csv\")"
   ]
  },
  {
   "cell_type": "markdown",
   "id": "232bd585-99b6-4d01-a923-b8d23bc06acb",
   "metadata": {},
   "source": [
    "## Addressing Assumptions\n",
    "\n",
    "1. Refit a simple linear regression model predicting `realSum` from `price`, and make a note of the $r^2$ (which can be found in the `.summary()` output. "
   ]
  },
  {
   "cell_type": "code",
   "execution_count": 5,
   "id": "9cd6645b-5624-4fe5-bbaa-8d641f4975fb",
   "metadata": {},
   "outputs": [
    {
     "data": {
      "text/html": [
       "<table class=\"simpletable\">\n",
       "<caption>OLS Regression Results</caption>\n",
       "<tr>\n",
       "  <th>Dep. Variable:</th>         <td>realSum</td>     <th>  R-squared:         </th>  <td>   0.002</td>  \n",
       "</tr>\n",
       "<tr>\n",
       "  <th>Model:</th>                   <td>OLS</td>       <th>  Adj. R-squared:    </th>  <td>   0.002</td>  \n",
       "</tr>\n",
       "<tr>\n",
       "  <th>Method:</th>             <td>Least Squares</td>  <th>  F-statistic:       </th>  <td>   103.6</td>  \n",
       "</tr>\n",
       "<tr>\n",
       "  <th>Date:</th>             <td>Tue, 11 Apr 2023</td> <th>  Prob (F-statistic):</th>  <td>2.56e-24</td>  \n",
       "</tr>\n",
       "<tr>\n",
       "  <th>Time:</th>                 <td>14:22:34</td>     <th>  Log-Likelihood:    </th> <td>-3.7285e+05</td>\n",
       "</tr>\n",
       "<tr>\n",
       "  <th>No. Observations:</th>      <td> 51707</td>      <th>  AIC:               </th>  <td>7.457e+05</td> \n",
       "</tr>\n",
       "<tr>\n",
       "  <th>Df Residuals:</th>          <td> 51705</td>      <th>  BIC:               </th>  <td>7.457e+05</td> \n",
       "</tr>\n",
       "<tr>\n",
       "  <th>Df Model:</th>              <td>     1</td>      <th>                     </th>      <td> </td>     \n",
       "</tr>\n",
       "<tr>\n",
       "  <th>Covariance Type:</th>      <td>nonrobust</td>    <th>                     </th>      <td> </td>     \n",
       "</tr>\n",
       "</table>\n",
       "<table class=\"simpletable\">\n",
       "<tr>\n",
       "    <td></td>       <th>coef</th>     <th>std err</th>      <th>t</th>      <th>P>|t|</th>  <th>[0.025</th>    <th>0.975]</th>  \n",
       "</tr>\n",
       "<tr>\n",
       "  <th>const</th> <td>  299.4337</td> <td>    2.401</td> <td>  124.706</td> <td> 0.000</td> <td>  294.727</td> <td>  304.140</td>\n",
       "</tr>\n",
       "<tr>\n",
       "  <th>dist</th>  <td>   -6.1273</td> <td>    0.602</td> <td>  -10.180</td> <td> 0.000</td> <td>   -7.307</td> <td>   -4.948</td>\n",
       "</tr>\n",
       "</table>\n",
       "<table class=\"simpletable\">\n",
       "<tr>\n",
       "  <th>Omnibus:</th>       <td>117203.778</td> <th>  Durbin-Watson:     </th>    <td>   1.704</td>   \n",
       "</tr>\n",
       "<tr>\n",
       "  <th>Prob(Omnibus):</th>   <td> 0.000</td>   <th>  Jarque-Bera (JB):  </th> <td>1502538372.219</td>\n",
       "</tr>\n",
       "<tr>\n",
       "  <th>Skew:</th>            <td>21.468</td>   <th>  Prob(JB):          </th>    <td>    0.00</td>   \n",
       "</tr>\n",
       "<tr>\n",
       "  <th>Kurtosis:</th>        <td>837.006</td>  <th>  Cond. No.          </th>    <td>    6.92</td>   \n",
       "</tr>\n",
       "</table><br/><br/>Notes:<br/>[1] Standard Errors assume that the covariance matrix of the errors is correctly specified."
      ],
      "text/plain": [
       "<class 'statsmodels.iolib.summary.Summary'>\n",
       "\"\"\"\n",
       "                            OLS Regression Results                            \n",
       "==============================================================================\n",
       "Dep. Variable:                realSum   R-squared:                       0.002\n",
       "Model:                            OLS   Adj. R-squared:                  0.002\n",
       "Method:                 Least Squares   F-statistic:                     103.6\n",
       "Date:                Tue, 11 Apr 2023   Prob (F-statistic):           2.56e-24\n",
       "Time:                        14:22:34   Log-Likelihood:            -3.7285e+05\n",
       "No. Observations:               51707   AIC:                         7.457e+05\n",
       "Df Residuals:                   51705   BIC:                         7.457e+05\n",
       "Df Model:                           1                                         \n",
       "Covariance Type:            nonrobust                                         \n",
       "==============================================================================\n",
       "                 coef    std err          t      P>|t|      [0.025      0.975]\n",
       "------------------------------------------------------------------------------\n",
       "const        299.4337      2.401    124.706      0.000     294.727     304.140\n",
       "dist          -6.1273      0.602    -10.180      0.000      -7.307      -4.948\n",
       "==============================================================================\n",
       "Omnibus:                   117203.778   Durbin-Watson:                   1.704\n",
       "Prob(Omnibus):                  0.000   Jarque-Bera (JB):       1502538372.219\n",
       "Skew:                          21.468   Prob(JB):                         0.00\n",
       "Kurtosis:                     837.006   Cond. No.                         6.92\n",
       "==============================================================================\n",
       "\n",
       "Notes:\n",
       "[1] Standard Errors assume that the covariance matrix of the errors is correctly specified.\n",
       "\"\"\""
      ]
     },
     "execution_count": 5,
     "metadata": {},
     "output_type": "execute_result"
    }
   ],
   "source": [
    "X1 = AirBnB_prices[\"dist\"]\n",
    "X1 = sm.add_constant(X1)\n",
    "\n",
    "Y = AirBnB_prices[\"realSum\"]\n",
    "\n",
    "model1 = sm.OLS(Y, X1).fit()\n",
    "model1.summary()"
   ]
  },
  {
   "cell_type": "markdown",
   "id": "403e3dec-cd0d-4e8a-8a25-befddc805e99",
   "metadata": {},
   "source": [
    "\\textcolor{blue}{The $r^2$ is 0.2\\%, which is very low.}"
   ]
  },
  {
   "cell_type": "markdown",
   "id": "6af73af3-67e8-4cf7-bbc0-d3213ecdbe91",
   "metadata": {},
   "source": [
    "2. Remake the diagnostic plots (a scatterplot of residuals against the predicted values, and a histogram of the residuals). Review why the linear model is not appropriate for this data. "
   ]
  },
  {
   "cell_type": "code",
   "execution_count": 6,
   "id": "abf6cce3-7145-4cf4-b3a5-7603e31f6bea",
   "metadata": {},
   "outputs": [],
   "source": [
    "model1_df = model1.fittedvalues.to_frame(name = 'Fitted')\n",
    "model1_df['Residuals'] = model1.resid"
   ]
  },
  {
   "cell_type": "code",
   "execution_count": 7,
   "id": "0035838d-cfb5-4e2c-809a-195b0b2568bd",
   "metadata": {},
   "outputs": [
    {
     "data": {
      "image/png": "[encoded data removed]",
      "text/plain": [
       "<Figure size 640x480 with 1 Axes>"
      ]
     },
     "metadata": {},
     "output_type": "display_data"
    },
    {
     "data": {
      "text/plain": [
       "<ggplot: (391261805)>"
      ]
     },
     "execution_count": 7,
     "metadata": {},
     "output_type": "execute_result"
    }
   ],
   "source": [
    "(p9.ggplot(model1_df, p9.aes(x = 'Fitted', y = 'Residuals')) +\n",
    " p9.geom_point() +\n",
    " p9.xlab(\"Predicted Price\") +\n",
    " p9.ylab(\"Residuals\"))"
   ]
  },
  {
   "cell_type": "code",
   "execution_count": 8,
   "id": "38b4a4fd-cfb0-4af9-bdfa-525547e5136e",
   "metadata": {},
   "outputs": [
    {
     "data": {
      "image/png": "[encoded data removed]",
      "text/plain": [
       "<Figure size 640x480 with 1 Axes>"
      ]
     },
     "metadata": {},
     "output_type": "display_data"
    },
    {
     "data": {
      "text/plain": [
       "<ggplot: (391146641)>"
      ]
     },
     "execution_count": 8,
     "metadata": {},
     "output_type": "execute_result"
    }
   ],
   "source": [
    "(p9.ggplot(model1_df, p9.aes(x = 'Residuals')) +\n",
    "   p9.geom_histogram(bins = 230) +\n",
    "   p9.xlab(\"Residuals\"))"
   ]
  },
  {
   "cell_type": "markdown",
   "id": "5600dba8-133b-415d-b96e-88978bc8120e",
   "metadata": {},
   "source": [
    "\\textcolor{blue}{The variance of the residuals is not constant, and the residuals are extremely right skewed, violating the assumptions of constant variance and symmetric, unimodal (normal) residuals. This is partially due to the extreme values in the response variable.}"
   ]
  },
  {
   "cell_type": "markdown",
   "id": "7e7f2689-488f-40eb-b508-da5ac949bf0b",
   "metadata": {},
   "source": [
    "3. Sometimes when the response variable is particularly skewed, we can easily address failed assumptions by applying a mathematical transformation to the different variables. You may remember from Homework 2 that the price per night of the AirBnBs has a few very extreme values--specifically, an \\euro 18,54545 per night one bedroom home in Athens. Apply the log (base $e$) transformation to `realSum`, and save the transformed values as a new column in your dataframe (name it `logRealSum`). Plot the distribution of the transformed variable and re-examine the histogram."
   ]
  },
  {
   "cell_type": "code",
   "execution_count": 9,
   "id": "9cfb170e-2b17-45c9-ac16-8c77cab753da",
   "metadata": {},
   "outputs": [
    {
     "data": {
      "image/png": "[encoded data removed]",
      "text/plain": [
       "<Figure size 640x480 with 1 Axes>"
      ]
     },
     "metadata": {},
     "output_type": "display_data"
    },
    {
     "data": {
      "text/plain": [
       "<ggplot: (391261829)>"
      ]
     },
     "execution_count": 9,
     "metadata": {},
     "output_type": "execute_result"
    }
   ],
   "source": [
    "AirBnB_prices['logRealSum'] = np.log(AirBnB_prices['realSum'])\n",
    "\n",
    "(p9.ggplot(AirBnB_prices, p9.aes(x = 'logRealSum')) +\n",
    "  p9.geom_histogram(bins = 230))"
   ]
  },
  {
   "cell_type": "markdown",
   "id": "9ca8e7f3-e6e4-4430-bce7-df0e71dddae8",
   "metadata": {},
   "source": [
    "\\textcolor{blue}{This distribution is far less skewed! The center and spread have also changed since we are working on a new scale, but is the shape that we are primarily concerned with. There are still a handful of extreme values, but nothing quite as bad as before}."
   ]
  },
  {
   "cell_type": "markdown",
   "id": "5b7658a0-406f-48aa-80d7-369fd641d24b",
   "metadata": {},
   "source": [
    "4. Now, fit a new model predicting `logRealSum` from `dist`. Make a note of the $r^2$. Create and examine the diagnostic plots from the new model. Have your conclusions changed about whether or not we can make a good, appropriate linear model for these two variables?"
   ]
  },
  {
   "cell_type": "code",
   "execution_count": 10,
   "id": "738019b8-a46f-49b3-a9f9-b8f8cc0cbfcb",
   "metadata": {},
   "outputs": [
    {
     "data": {
      "text/html": [
       "<table class=\"simpletable\">\n",
       "<caption>OLS Regression Results</caption>\n",
       "<tr>\n",
       "  <th>Dep. Variable:</th>       <td>logRealSum</td>    <th>  R-squared:         </th> <td>   0.007</td> \n",
       "</tr>\n",
       "<tr>\n",
       "  <th>Model:</th>                   <td>OLS</td>       <th>  Adj. R-squared:    </th> <td>   0.007</td> \n",
       "</tr>\n",
       "<tr>\n",
       "  <th>Method:</th>             <td>Least Squares</td>  <th>  F-statistic:       </th> <td>   357.7</td> \n",
       "</tr>\n",
       "<tr>\n",
       "  <th>Date:</th>             <td>Tue, 11 Apr 2023</td> <th>  Prob (F-statistic):</th> <td>1.63e-79</td> \n",
       "</tr>\n",
       "<tr>\n",
       "  <th>Time:</th>                 <td>14:22:37</td>     <th>  Log-Likelihood:    </th> <td> -46483.</td> \n",
       "</tr>\n",
       "<tr>\n",
       "  <th>No. Observations:</th>      <td> 51707</td>      <th>  AIC:               </th> <td>9.297e+04</td>\n",
       "</tr>\n",
       "<tr>\n",
       "  <th>Df Residuals:</th>          <td> 51705</td>      <th>  BIC:               </th> <td>9.299e+04</td>\n",
       "</tr>\n",
       "<tr>\n",
       "  <th>Df Model:</th>              <td>     1</td>      <th>                     </th>     <td> </td>    \n",
       "</tr>\n",
       "<tr>\n",
       "  <th>Covariance Type:</th>      <td>nonrobust</td>    <th>                     </th>     <td> </td>    \n",
       "</tr>\n",
       "</table>\n",
       "<table class=\"simpletable\">\n",
       "<tr>\n",
       "    <td></td>       <th>coef</th>     <th>std err</th>      <th>t</th>      <th>P>|t|</th>  <th>[0.025</th>    <th>0.975]</th>  \n",
       "</tr>\n",
       "<tr>\n",
       "  <th>const</th> <td>    5.4854</td> <td>    0.004</td> <td> 1258.880</td> <td> 0.000</td> <td>    5.477</td> <td>    5.494</td>\n",
       "</tr>\n",
       "<tr>\n",
       "  <th>dist</th>  <td>   -0.0207</td> <td>    0.001</td> <td>  -18.914</td> <td> 0.000</td> <td>   -0.023</td> <td>   -0.019</td>\n",
       "</tr>\n",
       "</table>\n",
       "<table class=\"simpletable\">\n",
       "<tr>\n",
       "  <th>Omnibus:</th>       <td>4982.572</td> <th>  Durbin-Watson:     </th> <td>   1.220</td>\n",
       "</tr>\n",
       "<tr>\n",
       "  <th>Prob(Omnibus):</th>  <td> 0.000</td>  <th>  Jarque-Bera (JB):  </th> <td>8032.542</td>\n",
       "</tr>\n",
       "<tr>\n",
       "  <th>Skew:</th>           <td> 0.709</td>  <th>  Prob(JB):          </th> <td>    0.00</td>\n",
       "</tr>\n",
       "<tr>\n",
       "  <th>Kurtosis:</th>       <td> 4.310</td>  <th>  Cond. No.          </th> <td>    6.92</td>\n",
       "</tr>\n",
       "</table><br/><br/>Notes:<br/>[1] Standard Errors assume that the covariance matrix of the errors is correctly specified."
      ],
      "text/plain": [
       "<class 'statsmodels.iolib.summary.Summary'>\n",
       "\"\"\"\n",
       "                            OLS Regression Results                            \n",
       "==============================================================================\n",
       "Dep. Variable:             logRealSum   R-squared:                       0.007\n",
       "Model:                            OLS   Adj. R-squared:                  0.007\n",
       "Method:                 Least Squares   F-statistic:                     357.7\n",
       "Date:                Tue, 11 Apr 2023   Prob (F-statistic):           1.63e-79\n",
       "Time:                        14:22:37   Log-Likelihood:                -46483.\n",
       "No. Observations:               51707   AIC:                         9.297e+04\n",
       "Df Residuals:                   51705   BIC:                         9.299e+04\n",
       "Df Model:                           1                                         \n",
       "Covariance Type:            nonrobust                                         \n",
       "==============================================================================\n",
       "                 coef    std err          t      P>|t|      [0.025      0.975]\n",
       "------------------------------------------------------------------------------\n",
       "const          5.4854      0.004   1258.880      0.000       5.477       5.494\n",
       "dist          -0.0207      0.001    -18.914      0.000      -0.023      -0.019\n",
       "==============================================================================\n",
       "Omnibus:                     4982.572   Durbin-Watson:                   1.220\n",
       "Prob(Omnibus):                  0.000   Jarque-Bera (JB):             8032.542\n",
       "Skew:                           0.709   Prob(JB):                         0.00\n",
       "Kurtosis:                       4.310   Cond. No.                         6.92\n",
       "==============================================================================\n",
       "\n",
       "Notes:\n",
       "[1] Standard Errors assume that the covariance matrix of the errors is correctly specified.\n",
       "\"\"\""
      ]
     },
     "execution_count": 10,
     "metadata": {},
     "output_type": "execute_result"
    }
   ],
   "source": [
    "Y2 = AirBnB_prices[\"logRealSum\"]\n",
    "\n",
    "model2 = sm.OLS(Y2, X1).fit()\n",
    "model2.summary()"
   ]
  },
  {
   "cell_type": "code",
   "execution_count": 11,
   "id": "17bc300e-b8c8-47eb-94d8-c314cb099f5f",
   "metadata": {},
   "outputs": [
    {
     "data": {
      "image/png": "[encoded data removed]",
      "text/plain": [
       "<Figure size 640x480 with 1 Axes>"
      ]
     },
     "metadata": {},
     "output_type": "display_data"
    },
    {
     "data": {
      "text/plain": [
       "<ggplot: (391442035)>"
      ]
     },
     "execution_count": 11,
     "metadata": {},
     "output_type": "execute_result"
    }
   ],
   "source": [
    "model2_df = model2.fittedvalues.to_frame(name = 'Fitted')\n",
    "model2_df['Residuals'] = model2.resid\n",
    "\n",
    "(p9.ggplot(model2_df, p9.aes(x = 'Fitted', y = 'Residuals')) +\n",
    " p9.geom_point() +\n",
    " p9.xlab(\"Predicted Price\") +\n",
    " p9.ylab(\"Residuals\"))"
   ]
  },
  {
   "cell_type": "code",
   "execution_count": 12,
   "id": "f2268718-b86b-4105-98b0-275f50c91ac8",
   "metadata": {},
   "outputs": [
    {
     "data": {
      "image/png": "[encoded data removed]",
      "text/plain": [
       "<Figure size 640x480 with 1 Axes>"
      ]
     },
     "metadata": {},
     "output_type": "display_data"
    },
    {
     "data": {
      "text/plain": [
       "<ggplot: (391264642)>"
      ]
     },
     "execution_count": 12,
     "metadata": {},
     "output_type": "execute_result"
    }
   ],
   "source": [
    "(p9.ggplot(model2_df, p9.aes(x = 'Residuals')) +\n",
    "   p9.geom_histogram(bins = 230) +\n",
    "   p9.xlab(\"Residuals\"))"
   ]
  },
  {
   "cell_type": "markdown",
   "id": "962691ec-386e-474e-968c-7deb18cd5fb0",
   "metadata": {},
   "source": [
    "\\textcolor{blue}{The $r^2$ is now 0.7\\%--slightly higher but still not very good. The residuals still look wedge-shaped, although slightly less so. The biggest change is in the residuals, which are still not entirely symmetric but are much closer to meeting the assumption.}"
   ]
  },
  {
   "cell_type": "markdown",
   "id": "549d878d-23ec-484b-825e-a72772e7ab56",
   "metadata": {},
   "source": [
    "## Significant Predictors\n",
    "\n",
    "### p-values from the $t$-distribution\n",
    "\n",
    "5. The $r^2$ for both models is fairly low, but let's practice finding significant features in the model. Re-examine the `.()summary` output for your second model (with `logRealSum` as the response). Can you find the p-value for the coefficient on `dist`? Would you reject or fail to reject a formal hypothesis test investigating whether or not the coefficient is zero?"
   ]
  },
  {
   "cell_type": "code",
   "execution_count": 13,
   "id": "133f4466-a621-46ae-958d-d4d392ed6820",
   "metadata": {},
   "outputs": [
    {
     "data": {
      "text/html": [
       "<table class=\"simpletable\">\n",
       "<caption>OLS Regression Results</caption>\n",
       "<tr>\n",
       "  <th>Dep. Variable:</th>       <td>logRealSum</td>    <th>  R-squared:         </th> <td>   0.007</td> \n",
       "</tr>\n",
       "<tr>\n",
       "  <th>Model:</th>                   <td>OLS</td>       <th>  Adj. R-squared:    </th> <td>   0.007</td> \n",
       "</tr>\n",
       "<tr>\n",
       "  <th>Method:</th>             <td>Least Squares</td>  <th>  F-statistic:       </th> <td>   357.7</td> \n",
       "</tr>\n",
       "<tr>\n",
       "  <th>Date:</th>             <td>Tue, 11 Apr 2023</td> <th>  Prob (F-statistic):</th> <td>1.63e-79</td> \n",
       "</tr>\n",
       "<tr>\n",
       "  <th>Time:</th>                 <td>14:22:38</td>     <th>  Log-Likelihood:    </th> <td> -46483.</td> \n",
       "</tr>\n",
       "<tr>\n",
       "  <th>No. Observations:</th>      <td> 51707</td>      <th>  AIC:               </th> <td>9.297e+04</td>\n",
       "</tr>\n",
       "<tr>\n",
       "  <th>Df Residuals:</th>          <td> 51705</td>      <th>  BIC:               </th> <td>9.299e+04</td>\n",
       "</tr>\n",
       "<tr>\n",
       "  <th>Df Model:</th>              <td>     1</td>      <th>                     </th>     <td> </td>    \n",
       "</tr>\n",
       "<tr>\n",
       "  <th>Covariance Type:</th>      <td>nonrobust</td>    <th>                     </th>     <td> </td>    \n",
       "</tr>\n",
       "</table>\n",
       "<table class=\"simpletable\">\n",
       "<tr>\n",
       "    <td></td>       <th>coef</th>     <th>std err</th>      <th>t</th>      <th>P>|t|</th>  <th>[0.025</th>    <th>0.975]</th>  \n",
       "</tr>\n",
       "<tr>\n",
       "  <th>const</th> <td>    5.4854</td> <td>    0.004</td> <td> 1258.880</td> <td> 0.000</td> <td>    5.477</td> <td>    5.494</td>\n",
       "</tr>\n",
       "<tr>\n",
       "  <th>dist</th>  <td>   -0.0207</td> <td>    0.001</td> <td>  -18.914</td> <td> 0.000</td> <td>   -0.023</td> <td>   -0.019</td>\n",
       "</tr>\n",
       "</table>\n",
       "<table class=\"simpletable\">\n",
       "<tr>\n",
       "  <th>Omnibus:</th>       <td>4982.572</td> <th>  Durbin-Watson:     </th> <td>   1.220</td>\n",
       "</tr>\n",
       "<tr>\n",
       "  <th>Prob(Omnibus):</th>  <td> 0.000</td>  <th>  Jarque-Bera (JB):  </th> <td>8032.542</td>\n",
       "</tr>\n",
       "<tr>\n",
       "  <th>Skew:</th>           <td> 0.709</td>  <th>  Prob(JB):          </th> <td>    0.00</td>\n",
       "</tr>\n",
       "<tr>\n",
       "  <th>Kurtosis:</th>       <td> 4.310</td>  <th>  Cond. No.          </th> <td>    6.92</td>\n",
       "</tr>\n",
       "</table><br/><br/>Notes:<br/>[1] Standard Errors assume that the covariance matrix of the errors is correctly specified."
      ],
      "text/plain": [
       "<class 'statsmodels.iolib.summary.Summary'>\n",
       "\"\"\"\n",
       "                            OLS Regression Results                            \n",
       "==============================================================================\n",
       "Dep. Variable:             logRealSum   R-squared:                       0.007\n",
       "Model:                            OLS   Adj. R-squared:                  0.007\n",
       "Method:                 Least Squares   F-statistic:                     357.7\n",
       "Date:                Tue, 11 Apr 2023   Prob (F-statistic):           1.63e-79\n",
       "Time:                        14:22:38   Log-Likelihood:                -46483.\n",
       "No. Observations:               51707   AIC:                         9.297e+04\n",
       "Df Residuals:                   51705   BIC:                         9.299e+04\n",
       "Df Model:                           1                                         \n",
       "Covariance Type:            nonrobust                                         \n",
       "==============================================================================\n",
       "                 coef    std err          t      P>|t|      [0.025      0.975]\n",
       "------------------------------------------------------------------------------\n",
       "const          5.4854      0.004   1258.880      0.000       5.477       5.494\n",
       "dist          -0.0207      0.001    -18.914      0.000      -0.023      -0.019\n",
       "==============================================================================\n",
       "Omnibus:                     4982.572   Durbin-Watson:                   1.220\n",
       "Prob(Omnibus):                  0.000   Jarque-Bera (JB):             8032.542\n",
       "Skew:                           0.709   Prob(JB):                         0.00\n",
       "Kurtosis:                       4.310   Cond. No.                         6.92\n",
       "==============================================================================\n",
       "\n",
       "Notes:\n",
       "[1] Standard Errors assume that the covariance matrix of the errors is correctly specified.\n",
       "\"\"\""
      ]
     },
     "execution_count": 13,
     "metadata": {},
     "output_type": "execute_result"
    }
   ],
   "source": [
    "model2.summary()"
   ]
  },
  {
   "cell_type": "markdown",
   "id": "d818e89b-e23c-48dc-abe3-3ec89f83ee3e",
   "metadata": {},
   "source": [
    "\\textcolor{blue}{The p-value is so small it is recorded as 0.000--we would reject the null hypothesis that the slope is 0.}"
   ]
  },
  {
   "cell_type": "markdown",
   "id": "982e6989-59c0-42bc-a8ff-d840946eb0ec",
   "metadata": {},
   "source": [
    "### p-values from Bootstrapping\n",
    "\n",
    "The p-values calculated by `statsmodels` require assumptions about the distributions of the $\\beta$'s--specifically, that the Central Limit Theorem kicks in and that the sampling distributions are normal/$t$-distributions. We can use a few other methods if we don't want to make those kinds of assumptions. \n",
    "\n",
    "The first of such methods is called \"bootstrapping\". Bootstrapping is a resampling method that was originally developed to find standard errors for hard to calculate statistics. The basic steps of bootstrapping are as follows:\n",
    "\n",
    "* Randomly generate a sample of size $n$ from your original data. The data should be sampled WITH REPLACEMENT. \n",
    "* Calculate the statistic from the \"new\", resampled dataset.\n",
    "* Record the statistic. \n",
    "* Repeat the first three steps a large number of times--the more times you repeat, the longer the computer will take, but for reasonably simple problems it should not be too much of a burden to repeat at least 5,000 times. \n",
    "\n",
    "6. Randomly generate a sample of 51707 observations from the AirBnB dataset WITH REPLACEMENT. `pandas` has a special method, [`DataFrame.sample`](https://pandas.pydata.org/docs/reference/api/pandas.DataFrame.sample.html), for sampling from a dataframe--I suggest you use it! Save the resampled data as a new object, `tempdata`."
   ]
  },
  {
   "cell_type": "code",
   "execution_count": 14,
   "id": "caf6b568-67e9-4896-8a1c-455678f4267c",
   "metadata": {},
   "outputs": [],
   "source": [
    "tempdata = AirBnB_prices.sample(n = 51707, replace=True)"
   ]
  },
  {
   "cell_type": "markdown",
   "id": "9d4ba6e5-ef09-4123-8f58-e8f64945a244",
   "metadata": {},
   "source": [
    "7. Refit the simple linear regression model predicting `logRealSum` using `tempdata`. Examine the coefficients. "
   ]
  },
  {
   "cell_type": "code",
   "execution_count": 15,
   "id": "ec481129-e160-46ed-9bc6-04af7beb0887",
   "metadata": {},
   "outputs": [
    {
     "data": {
      "text/html": [
       "<table class=\"simpletable\">\n",
       "<caption>OLS Regression Results</caption>\n",
       "<tr>\n",
       "  <th>Dep. Variable:</th>       <td>logRealSum</td>    <th>  R-squared:         </th> <td>   0.007</td> \n",
       "</tr>\n",
       "<tr>\n",
       "  <th>Model:</th>                   <td>OLS</td>       <th>  Adj. R-squared:    </th> <td>   0.007</td> \n",
       "</tr>\n",
       "<tr>\n",
       "  <th>Method:</th>             <td>Least Squares</td>  <th>  F-statistic:       </th> <td>   366.2</td> \n",
       "</tr>\n",
       "<tr>\n",
       "  <th>Date:</th>             <td>Tue, 11 Apr 2023</td> <th>  Prob (F-statistic):</th> <td>2.36e-81</td> \n",
       "</tr>\n",
       "<tr>\n",
       "  <th>Time:</th>                 <td>14:22:38</td>     <th>  Log-Likelihood:    </th> <td> -46376.</td> \n",
       "</tr>\n",
       "<tr>\n",
       "  <th>No. Observations:</th>      <td> 51707</td>      <th>  AIC:               </th> <td>9.276e+04</td>\n",
       "</tr>\n",
       "<tr>\n",
       "  <th>Df Residuals:</th>          <td> 51705</td>      <th>  BIC:               </th> <td>9.277e+04</td>\n",
       "</tr>\n",
       "<tr>\n",
       "  <th>Df Model:</th>              <td>     1</td>      <th>                     </th>     <td> </td>    \n",
       "</tr>\n",
       "<tr>\n",
       "  <th>Covariance Type:</th>      <td>nonrobust</td>    <th>                     </th>     <td> </td>    \n",
       "</tr>\n",
       "</table>\n",
       "<table class=\"simpletable\">\n",
       "<tr>\n",
       "    <td></td>       <th>coef</th>     <th>std err</th>      <th>t</th>      <th>P>|t|</th>  <th>[0.025</th>    <th>0.975]</th>  \n",
       "</tr>\n",
       "<tr>\n",
       "  <th>const</th> <td>    5.4884</td> <td>    0.004</td> <td> 1256.813</td> <td> 0.000</td> <td>    5.480</td> <td>    5.497</td>\n",
       "</tr>\n",
       "<tr>\n",
       "  <th>dist</th>  <td>   -0.0210</td> <td>    0.001</td> <td>  -19.137</td> <td> 0.000</td> <td>   -0.023</td> <td>   -0.019</td>\n",
       "</tr>\n",
       "</table>\n",
       "<table class=\"simpletable\">\n",
       "<tr>\n",
       "  <th>Omnibus:</th>       <td>5252.641</td> <th>  Durbin-Watson:     </th> <td>   2.001</td>\n",
       "</tr>\n",
       "<tr>\n",
       "  <th>Prob(Omnibus):</th>  <td> 0.000</td>  <th>  Jarque-Bera (JB):  </th> <td>8967.260</td>\n",
       "</tr>\n",
       "<tr>\n",
       "  <th>Skew:</th>           <td> 0.718</td>  <th>  Prob(JB):          </th> <td>    0.00</td>\n",
       "</tr>\n",
       "<tr>\n",
       "  <th>Kurtosis:</th>       <td> 4.449</td>  <th>  Cond. No.          </th> <td>    6.94</td>\n",
       "</tr>\n",
       "</table><br/><br/>Notes:<br/>[1] Standard Errors assume that the covariance matrix of the errors is correctly specified."
      ],
      "text/plain": [
       "<class 'statsmodels.iolib.summary.Summary'>\n",
       "\"\"\"\n",
       "                            OLS Regression Results                            \n",
       "==============================================================================\n",
       "Dep. Variable:             logRealSum   R-squared:                       0.007\n",
       "Model:                            OLS   Adj. R-squared:                  0.007\n",
       "Method:                 Least Squares   F-statistic:                     366.2\n",
       "Date:                Tue, 11 Apr 2023   Prob (F-statistic):           2.36e-81\n",
       "Time:                        14:22:38   Log-Likelihood:                -46376.\n",
       "No. Observations:               51707   AIC:                         9.276e+04\n",
       "Df Residuals:                   51705   BIC:                         9.277e+04\n",
       "Df Model:                           1                                         \n",
       "Covariance Type:            nonrobust                                         \n",
       "==============================================================================\n",
       "                 coef    std err          t      P>|t|      [0.025      0.975]\n",
       "------------------------------------------------------------------------------\n",
       "const          5.4884      0.004   1256.813      0.000       5.480       5.497\n",
       "dist          -0.0210      0.001    -19.137      0.000      -0.023      -0.019\n",
       "==============================================================================\n",
       "Omnibus:                     5252.641   Durbin-Watson:                   2.001\n",
       "Prob(Omnibus):                  0.000   Jarque-Bera (JB):             8967.260\n",
       "Skew:                           0.718   Prob(JB):                         0.00\n",
       "Kurtosis:                       4.449   Cond. No.                         6.94\n",
       "==============================================================================\n",
       "\n",
       "Notes:\n",
       "[1] Standard Errors assume that the covariance matrix of the errors is correctly specified.\n",
       "\"\"\""
      ]
     },
     "execution_count": 15,
     "metadata": {},
     "output_type": "execute_result"
    }
   ],
   "source": [
    "Xtemp = tempdata[\"dist\"]\n",
    "Xtemp = sm.add_constant(Xtemp)\n",
    "\n",
    "Ytemp = tempdata[\"logRealSum\"]\n",
    "\n",
    "modeltemp = sm.OLS(Ytemp, Xtemp).fit()\n",
    "modeltemp.summary()"
   ]
  },
  {
   "cell_type": "markdown",
   "id": "f579bb0a-8135-4f18-845e-7a40a045b4ee",
   "metadata": {},
   "source": [
    "The saving part is a little tricky with `statsmodels`-we have to unpack our model to find the coefficients somewhere in it. \n",
    "\n",
    "8. First, pull out `params` from your model fit with the temporary dataset. Which one is the slope, and which is the intercept?\n"
   ]
  },
  {
   "cell_type": "code",
   "execution_count": 16,
   "id": "50d34256-80c3-46db-aa29-c331501a74dd",
   "metadata": {},
   "outputs": [
    {
     "data": {
      "text/plain": [
       "const    5.488376\n",
       "dist    -0.020991\n",
       "dtype: float64"
      ]
     },
     "execution_count": 16,
     "metadata": {},
     "output_type": "execute_result"
    }
   ],
   "source": [
    "modeltemp.params"
   ]
  },
  {
   "cell_type": "markdown",
   "id": "d3825490-1501-426f-a384-abfc18f17cbf",
   "metadata": {},
   "source": [
    "\\textcolor{blue}{The first row,} `const`\\textcolor{blue}{, is the intercept, and the second is the slope. }"
   ]
  },
  {
   "cell_type": "markdown",
   "id": "7b8e7a24-2aec-47f8-9c6e-d9d6f6ba2477",
   "metadata": {},
   "source": [
    "9. Use the square brackets to pull out the slope by itself. Save it as a new object, `tempslope`. Now you could refer to it later!"
   ]
  },
  {
   "cell_type": "code",
   "execution_count": 17,
   "id": "565470ea-3313-494a-a4ad-a7630887ee92",
   "metadata": {},
   "outputs": [],
   "source": [
    "tempslope = modeltemp.params[1]"
   ]
  },
  {
   "cell_type": "markdown",
   "id": "3b346c73-e971-4ef1-b59a-ba2eeb2383c8",
   "metadata": {},
   "source": [
    "10. Rather than repeat all this manually 5,000 times, let's set up a loop to do it for us. Create an empty list, `tempslope`, and program the loop to resample data, calculate the slope, and append the value to the list. Run the loop 5,000 times. "
   ]
  },
  {
   "cell_type": "code",
   "execution_count": 18,
   "id": "3404bf2b-b7a3-41ca-a94b-fe169c08e22e",
   "metadata": {},
   "outputs": [],
   "source": [
    "tempslope = []\n",
    "\n",
    "for i in range(5000):\n",
    "    tempdata = AirBnB_prices.sample(n = 51707, replace=True)\n",
    "    \n",
    "    Xtemp = tempdata[\"dist\"]\n",
    "    Xtemp = sm.add_constant(Xtemp)\n",
    "    \n",
    "    Ytemp = tempdata[\"logRealSum\"]\n",
    "    \n",
    "    modeltemp = sm.OLS(Ytemp, Xtemp).fit()\n",
    "    tempslope.append(modeltemp.params[1])"
   ]
  },
  {
   "cell_type": "markdown",
   "id": "fae7bfaf-b895-41cf-ad37-d37c3c2f4337",
   "metadata": {},
   "source": [
    "11. Create a histogram of the \"tempslopes\" (to use `plotnine`, you may have to convert the list to a dataframe first). Based on the histogram, would you conclude that 0 is a reasonable value for the slope on `dist`?"
   ]
  },
  {
   "cell_type": "code",
   "execution_count": 19,
   "id": "3604c7dc-187e-4e59-932d-2e66cb10ec2c",
   "metadata": {},
   "outputs": [
    {
     "data": {
      "image/png": "[encoded data removed]",
      "text/plain": [
       "<Figure size 640x480 with 1 Axes>"
      ]
     },
     "metadata": {},
     "output_type": "display_data"
    },
    {
     "data": {
      "text/plain": [
       "<ggplot: (391415366)>"
      ]
     },
     "execution_count": 19,
     "metadata": {},
     "output_type": "execute_result"
    }
   ],
   "source": [
    "tempslope_df = pd.DataFrame(tempslope, columns = ['tempslope'])\n",
    "\n",
    "(p9.ggplot(tempslope_df, p9.aes(x = 'tempslope')) +\n",
    "   p9.geom_histogram(bins = 230) +\n",
    "   p9.xlab(\"Slope on Distance\"))"
   ]
  },
  {
   "cell_type": "markdown",
   "id": "0b557db7-b4c3-4c5e-9f34-407a9d1226aa",
   "metadata": {},
   "source": [
    "We typically don't calculate p-values for bootstrapped estimates. Instead, we create confidence intervals by taking the \"middle\" of the distribution--e.g., for a 95\\% confidence interval, we give the boundaries of the middle 95\\% of the estimates. We find these boundaries by taking the quantiles of the distribution. For example, see the code for a 95% interval below. "
   ]
  },
  {
   "cell_type": "code",
   "execution_count": 20,
   "id": "290b7d5a-8a21-4269-903e-720b426bbc13",
   "metadata": {},
   "outputs": [
    {
     "name": "stdout",
     "output_type": "stream",
     "text": [
      "tempslope   -0.022696\n",
      "Name: 0.025, dtype: float64\n",
      "tempslope   -0.018624\n",
      "Name: 0.975, dtype: float64\n"
     ]
    }
   ],
   "source": [
    "print(tempslope_df.quantile(0.025))\n",
    "print(tempslope_df.quantile(0.975))"
   ]
  },
  {
   "cell_type": "markdown",
   "id": "b000df7e-919c-4e4c-855d-95f06c5a1e72",
   "metadata": {},
   "source": [
    "So, the 95\\% confidence interval for the slope on `dist` is -0.0227 to -0.0186. This interval does not include 0, so 0 should not be considered a reasonable value-therefore, `dist` is a significant predictor!\n",
    "\n",
    "12. Adapt the code to output a 99\\% confidence interval. Does your conclusion change?"
   ]
  },
  {
   "cell_type": "code",
   "execution_count": 21,
   "id": "88ccef5a-e37e-497f-ae84-a1e82025f047",
   "metadata": {},
   "outputs": [
    {
     "name": "stdout",
     "output_type": "stream",
     "text": [
      "tempslope   -0.023434\n",
      "Name: 0.005, dtype: float64\n",
      "tempslope   -0.017947\n",
      "Name: 0.995, dtype: float64\n"
     ]
    }
   ],
   "source": [
    "print(tempslope_df.quantile(0.005))\n",
    "print(tempslope_df.quantile(0.995))"
   ]
  },
  {
   "cell_type": "markdown",
   "id": "14e92866-8b07-47a3-ba00-4b70add681f9",
   "metadata": {},
   "source": [
    "\\textcolor{blue}{Zero is still not included in the interval, so no, the conclusions do not change.}"
   ]
  },
  {
   "cell_type": "markdown",
   "id": "cb44d98f-9cbb-4631-af3b-3b599e30900e",
   "metadata": {},
   "source": [
    "### p-values from Permutation Testing\n",
    "\n",
    "Another method is called permutation testing. Permutation testing is another resampling method that assumes that if there is no effect from the explanatory variable, the values of the $X$ and $Y$ variables could theoretically be swapped. The basic steps of a permutation test are as follows:\n",
    "\n",
    "* Randomly pair the values of $Y$ with values of $X$. \n",
    "* Calculate the statistic from the \"new\" dataset.\n",
    "* Record the statistic. \n",
    "* Repeat the first three steps a large number of times--again, 5,000 should not be an issue.\n",
    "\n",
    "13. Randomly pair the values of `logRealSum` with `dist` by generating a random sample of 51707 observations from `logRealSum` WITHOUT REPLACEMENT. Save the new $Y$ pairs in an object called `tempLogRealSum`."
   ]
  },
  {
   "cell_type": "code",
   "execution_count": 22,
   "id": "6a93bc17-5975-4bd9-be0e-f29a244bea1f",
   "metadata": {},
   "outputs": [
    {
     "data": {
      "text/plain": [
       "28071    5.157932\n",
       "45237    5.324325\n",
       "43628    5.330003\n",
       "9495     5.310646\n",
       "28264    4.755170\n",
       "           ...   \n",
       "33761    5.097274\n",
       "31819    5.183317\n",
       "27083    5.500571\n",
       "3056     4.935898\n",
       "13466    4.883313\n",
       "Name: logRealSum, Length: 51707, dtype: float64"
      ]
     },
     "execution_count": 22,
     "metadata": {},
     "output_type": "execute_result"
    }
   ],
   "source": [
    "tempLogRealSum = AirBnB_prices['logRealSum'].sample(n = 51707, replace=True)\n",
    "tempLogRealSum"
   ]
  },
  {
   "cell_type": "markdown",
   "id": "9552d6c7-fb81-45d1-a076-b529324bd9df",
   "metadata": {},
   "source": [
    "14. Refit the model predicting `tempLogRealSum` (in list form) from `dist`. Examine the statistics."
   ]
  },
  {
   "cell_type": "code",
   "execution_count": 23,
   "id": "0d10a1d4-d669-482c-8d33-b1d5c7ae3a14",
   "metadata": {},
   "outputs": [
    {
     "data": {
      "text/html": [
       "<table class=\"simpletable\">\n",
       "<caption>OLS Regression Results</caption>\n",
       "<tr>\n",
       "  <th>Dep. Variable:</th>            <td>y</td>        <th>  R-squared:         </th> <td>   0.000</td> \n",
       "</tr>\n",
       "<tr>\n",
       "  <th>Model:</th>                   <td>OLS</td>       <th>  Adj. R-squared:    </th> <td>  -0.000</td> \n",
       "</tr>\n",
       "<tr>\n",
       "  <th>Method:</th>             <td>Least Squares</td>  <th>  F-statistic:       </th> <td> 0.01161</td> \n",
       "</tr>\n",
       "<tr>\n",
       "  <th>Date:</th>             <td>Tue, 11 Apr 2023</td> <th>  Prob (F-statistic):</th>  <td> 0.914</td>  \n",
       "</tr>\n",
       "<tr>\n",
       "  <th>Time:</th>                 <td>14:23:02</td>     <th>  Log-Likelihood:    </th> <td> -47001.</td> \n",
       "</tr>\n",
       "<tr>\n",
       "  <th>No. Observations:</th>      <td> 51707</td>      <th>  AIC:               </th> <td>9.401e+04</td>\n",
       "</tr>\n",
       "<tr>\n",
       "  <th>Df Residuals:</th>          <td> 51705</td>      <th>  BIC:               </th> <td>9.402e+04</td>\n",
       "</tr>\n",
       "<tr>\n",
       "  <th>Df Model:</th>              <td>     1</td>      <th>                     </th>     <td> </td>    \n",
       "</tr>\n",
       "<tr>\n",
       "  <th>Covariance Type:</th>      <td>nonrobust</td>    <th>                     </th>     <td> </td>    \n",
       "</tr>\n",
       "</table>\n",
       "<table class=\"simpletable\">\n",
       "<tr>\n",
       "    <td></td>       <th>coef</th>     <th>std err</th>      <th>t</th>      <th>P>|t|</th>  <th>[0.025</th>    <th>0.975]</th>  \n",
       "</tr>\n",
       "<tr>\n",
       "  <th>const</th> <td>    5.4229</td> <td>    0.004</td> <td> 1232.141</td> <td> 0.000</td> <td>    5.414</td> <td>    5.432</td>\n",
       "</tr>\n",
       "<tr>\n",
       "  <th>dist</th>  <td>   -0.0001</td> <td>    0.001</td> <td>   -0.108</td> <td> 0.914</td> <td>   -0.002</td> <td>    0.002</td>\n",
       "</tr>\n",
       "</table>\n",
       "<table class=\"simpletable\">\n",
       "<tr>\n",
       "  <th>Omnibus:</th>       <td>4916.101</td> <th>  Durbin-Watson:     </th> <td>   2.003</td>\n",
       "</tr>\n",
       "<tr>\n",
       "  <th>Prob(Omnibus):</th>  <td> 0.000</td>  <th>  Jarque-Bera (JB):  </th> <td>7770.333</td>\n",
       "</tr>\n",
       "<tr>\n",
       "  <th>Skew:</th>           <td> 0.710</td>  <th>  Prob(JB):          </th> <td>    0.00</td>\n",
       "</tr>\n",
       "<tr>\n",
       "  <th>Kurtosis:</th>       <td> 4.262</td>  <th>  Cond. No.          </th> <td>    6.92</td>\n",
       "</tr>\n",
       "</table><br/><br/>Notes:<br/>[1] Standard Errors assume that the covariance matrix of the errors is correctly specified."
      ],
      "text/plain": [
       "<class 'statsmodels.iolib.summary.Summary'>\n",
       "\"\"\"\n",
       "                            OLS Regression Results                            \n",
       "==============================================================================\n",
       "Dep. Variable:                      y   R-squared:                       0.000\n",
       "Model:                            OLS   Adj. R-squared:                 -0.000\n",
       "Method:                 Least Squares   F-statistic:                   0.01161\n",
       "Date:                Tue, 11 Apr 2023   Prob (F-statistic):              0.914\n",
       "Time:                        14:23:02   Log-Likelihood:                -47001.\n",
       "No. Observations:               51707   AIC:                         9.401e+04\n",
       "Df Residuals:                   51705   BIC:                         9.402e+04\n",
       "Df Model:                           1                                         \n",
       "Covariance Type:            nonrobust                                         \n",
       "==============================================================================\n",
       "                 coef    std err          t      P>|t|      [0.025      0.975]\n",
       "------------------------------------------------------------------------------\n",
       "const          5.4229      0.004   1232.141      0.000       5.414       5.432\n",
       "dist          -0.0001      0.001     -0.108      0.914      -0.002       0.002\n",
       "==============================================================================\n",
       "Omnibus:                     4916.101   Durbin-Watson:                   2.003\n",
       "Prob(Omnibus):                  0.000   Jarque-Bera (JB):             7770.333\n",
       "Skew:                           0.710   Prob(JB):                         0.00\n",
       "Kurtosis:                       4.262   Cond. No.                         6.92\n",
       "==============================================================================\n",
       "\n",
       "Notes:\n",
       "[1] Standard Errors assume that the covariance matrix of the errors is correctly specified.\n",
       "\"\"\""
      ]
     },
     "execution_count": 23,
     "metadata": {},
     "output_type": "execute_result"
    }
   ],
   "source": [
    "Xpermute = AirBnB_prices[\"dist\"]\n",
    "Xpermute = sm.add_constant(Xpermute)\n",
    "\n",
    "modelpermute = sm.OLS(list(tempLogRealSum), Xpermute).fit()\n",
    "modelpermute.summary()"
   ]
  },
  {
   "cell_type": "markdown",
   "id": "ae3b9d3a-bb5d-4682-8b84-37175325a401",
   "metadata": {},
   "source": [
    "15. Let's write another loop. Create an empty list, `permuteslope`, and program the loop to resample the `logRealSum` values, calculate the slope, and append the value to the list. Run the loop 5,000 times. "
   ]
  },
  {
   "cell_type": "code",
   "execution_count": 24,
   "id": "6b5e001a-386e-4a3d-ac8e-7af596d54500",
   "metadata": {},
   "outputs": [],
   "source": [
    "permuteslope = []\n",
    "\n",
    "for i in range(5000):\n",
    "    tempLogRealSum = AirBnB_prices['logRealSum'].sample(n = 51707, replace=False)\n",
    "\n",
    "    modelpermute = sm.OLS(list(tempLogRealSum), Xpermute).fit()\n",
    "    \n",
    "    permuteslope.append(modelpermute.params[1])    "
   ]
  },
  {
   "cell_type": "markdown",
   "id": "bb81cb43-7a7e-490e-9eed-c8c7d8c7bd03",
   "metadata": {},
   "source": [
    "16. In a permutation test we have to find the original value of the statistic and then count the values from the models fit with resampled data to see how many are as or more extreme than the original value. Finally, to convert to a probability (p-value!), we divide by the number of resamplings. Write a line of code to calculate the p-value--does it change your conclusions about `dist` and `logRealSum`?"
   ]
  },
  {
   "cell_type": "code",
   "execution_count": 33,
   "id": "4709c7dc-84c9-40c6-93a2-d5c12b21e296",
   "metadata": {},
   "outputs": [
    {
     "data": {
      "text/plain": [
       "0.0"
      ]
     },
     "execution_count": 33,
     "metadata": {},
     "output_type": "execute_result"
    }
   ],
   "source": [
    "import numpy as np\n",
    "sum(np.absolute(permuteslope) > np.absolute(-0.0207))/5000"
   ]
  },
  {
   "cell_type": "markdown",
   "id": "608ceca2-8f35-4bb9-910b-a5836fc60b90",
   "metadata": {},
   "source": [
    "\\textcolor{blue}{The approximate p-value is zero, which is less than any reasonable significance level, so we reject the null hypothesis and conclude that} `dist` \\textcolor{blue}{is a significant predictor of} `logRealSum` \\textcolor{blue}{.}"
   ]
  },
  {
   "cell_type": "markdown",
   "id": "12debf24-5909-4668-b303-f371cafe87b0",
   "metadata": {},
   "source": [
    "## Exploratory Data Analysis for Multiple Linear Regression \n",
    "\n",
    "`dist` may be significant, but it doesn't predict `logRealSum` very well. Let's try adding more variables! First, take a good look at `AirBnB_prices`. Some variables are likely collinear--can you identify any pairs that might give you trouble later on? Don't forget to check out the documentation as it might give you some more insight."
   ]
  },
  {
   "cell_type": "code",
   "execution_count": 30,
   "id": "5498b0ed-1b86-4eaa-a6de-2e6f886e6895",
   "metadata": {},
   "outputs": [
    {
     "data": {
      "text/html": [
       "<div>\n",
       "<style scoped>\n",
       "    .dataframe tbody tr th:only-of-type {\n",
       "        vertical-align: middle;\n",
       "    }\n",
       "\n",
       "    .dataframe tbody tr th {\n",
       "        vertical-align: top;\n",
       "    }\n",
       "\n",
       "    .dataframe thead th {\n",
       "        text-align: right;\n",
       "    }\n",
       "</style>\n",
       "<table border=\"1\" class=\"dataframe\">\n",
       "  <thead>\n",
       "    <tr style=\"text-align: right;\">\n",
       "      <th></th>\n",
       "      <th>Unnamed: 0</th>\n",
       "      <th>realSum</th>\n",
       "      <th>person_capacity</th>\n",
       "      <th>multi</th>\n",
       "      <th>biz</th>\n",
       "      <th>cleanliness_rating</th>\n",
       "      <th>guest_satisfaction_overall</th>\n",
       "      <th>bedrooms</th>\n",
       "      <th>dist</th>\n",
       "      <th>metro_dist</th>\n",
       "      <th>attr_index</th>\n",
       "      <th>attr_index_norm</th>\n",
       "      <th>rest_index</th>\n",
       "      <th>rest_index_norm</th>\n",
       "      <th>lng</th>\n",
       "      <th>lat</th>\n",
       "      <th>logRealSum</th>\n",
       "    </tr>\n",
       "  </thead>\n",
       "  <tbody>\n",
       "    <tr>\n",
       "      <th>count</th>\n",
       "      <td>51707.000000</td>\n",
       "      <td>51707.000000</td>\n",
       "      <td>51707.000000</td>\n",
       "      <td>51707.000000</td>\n",
       "      <td>51707.000000</td>\n",
       "      <td>51707.000000</td>\n",
       "      <td>51707.000000</td>\n",
       "      <td>51707.00000</td>\n",
       "      <td>51707.000000</td>\n",
       "      <td>51707.000000</td>\n",
       "      <td>51707.000000</td>\n",
       "      <td>51707.000000</td>\n",
       "      <td>51707.000000</td>\n",
       "      <td>51707.000000</td>\n",
       "      <td>51707.000000</td>\n",
       "      <td>51707.000000</td>\n",
       "      <td>51707.000000</td>\n",
       "    </tr>\n",
       "    <tr>\n",
       "      <th>mean</th>\n",
       "      <td>25854.000000</td>\n",
       "      <td>279.879591</td>\n",
       "      <td>3.161661</td>\n",
       "      <td>0.291353</td>\n",
       "      <td>0.350204</td>\n",
       "      <td>9.390624</td>\n",
       "      <td>92.628232</td>\n",
       "      <td>1.15876</td>\n",
       "      <td>3.191285</td>\n",
       "      <td>0.681540</td>\n",
       "      <td>294.204105</td>\n",
       "      <td>13.423792</td>\n",
       "      <td>626.856696</td>\n",
       "      <td>22.786177</td>\n",
       "      <td>7.426068</td>\n",
       "      <td>45.671128</td>\n",
       "      <td>5.419519</td>\n",
       "    </tr>\n",
       "    <tr>\n",
       "      <th>std</th>\n",
       "      <td>14926.669521</td>\n",
       "      <td>327.948386</td>\n",
       "      <td>1.298545</td>\n",
       "      <td>0.454390</td>\n",
       "      <td>0.477038</td>\n",
       "      <td>0.954868</td>\n",
       "      <td>8.945531</td>\n",
       "      <td>0.62741</td>\n",
       "      <td>2.393803</td>\n",
       "      <td>0.858023</td>\n",
       "      <td>224.754123</td>\n",
       "      <td>9.807985</td>\n",
       "      <td>497.920226</td>\n",
       "      <td>17.804096</td>\n",
       "      <td>9.799725</td>\n",
       "      <td>5.249263</td>\n",
       "      <td>0.596600</td>\n",
       "    </tr>\n",
       "    <tr>\n",
       "      <th>min</th>\n",
       "      <td>1.000000</td>\n",
       "      <td>34.779339</td>\n",
       "      <td>2.000000</td>\n",
       "      <td>0.000000</td>\n",
       "      <td>0.000000</td>\n",
       "      <td>2.000000</td>\n",
       "      <td>20.000000</td>\n",
       "      <td>0.00000</td>\n",
       "      <td>0.015045</td>\n",
       "      <td>0.002301</td>\n",
       "      <td>15.152201</td>\n",
       "      <td>0.926301</td>\n",
       "      <td>19.576924</td>\n",
       "      <td>0.592757</td>\n",
       "      <td>-9.226340</td>\n",
       "      <td>37.953000</td>\n",
       "      <td>3.549024</td>\n",
       "    </tr>\n",
       "    <tr>\n",
       "      <th>25%</th>\n",
       "      <td>12927.500000</td>\n",
       "      <td>148.752174</td>\n",
       "      <td>2.000000</td>\n",
       "      <td>0.000000</td>\n",
       "      <td>0.000000</td>\n",
       "      <td>9.000000</td>\n",
       "      <td>90.000000</td>\n",
       "      <td>1.00000</td>\n",
       "      <td>1.453142</td>\n",
       "      <td>0.248480</td>\n",
       "      <td>136.797385</td>\n",
       "      <td>6.380926</td>\n",
       "      <td>250.854114</td>\n",
       "      <td>8.751480</td>\n",
       "      <td>-0.072500</td>\n",
       "      <td>41.399510</td>\n",
       "      <td>5.002282</td>\n",
       "    </tr>\n",
       "    <tr>\n",
       "      <th>50%</th>\n",
       "      <td>25854.000000</td>\n",
       "      <td>211.343089</td>\n",
       "      <td>3.000000</td>\n",
       "      <td>0.000000</td>\n",
       "      <td>0.000000</td>\n",
       "      <td>10.000000</td>\n",
       "      <td>95.000000</td>\n",
       "      <td>1.00000</td>\n",
       "      <td>2.613538</td>\n",
       "      <td>0.413269</td>\n",
       "      <td>234.331748</td>\n",
       "      <td>11.468305</td>\n",
       "      <td>522.052783</td>\n",
       "      <td>17.542238</td>\n",
       "      <td>4.873000</td>\n",
       "      <td>47.506690</td>\n",
       "      <td>5.353483</td>\n",
       "    </tr>\n",
       "    <tr>\n",
       "      <th>75%</th>\n",
       "      <td>38780.500000</td>\n",
       "      <td>319.694287</td>\n",
       "      <td>4.000000</td>\n",
       "      <td>1.000000</td>\n",
       "      <td>1.000000</td>\n",
       "      <td>10.000000</td>\n",
       "      <td>99.000000</td>\n",
       "      <td>1.00000</td>\n",
       "      <td>4.263077</td>\n",
       "      <td>0.737840</td>\n",
       "      <td>385.756381</td>\n",
       "      <td>17.415082</td>\n",
       "      <td>832.628988</td>\n",
       "      <td>32.964603</td>\n",
       "      <td>13.518825</td>\n",
       "      <td>51.471885</td>\n",
       "      <td>5.767365</td>\n",
       "    </tr>\n",
       "    <tr>\n",
       "      <th>max</th>\n",
       "      <td>51707.000000</td>\n",
       "      <td>18545.450285</td>\n",
       "      <td>6.000000</td>\n",
       "      <td>1.000000</td>\n",
       "      <td>1.000000</td>\n",
       "      <td>10.000000</td>\n",
       "      <td>100.000000</td>\n",
       "      <td>10.00000</td>\n",
       "      <td>25.284557</td>\n",
       "      <td>14.273577</td>\n",
       "      <td>4513.563486</td>\n",
       "      <td>100.000000</td>\n",
       "      <td>6696.156772</td>\n",
       "      <td>100.000000</td>\n",
       "      <td>23.786020</td>\n",
       "      <td>52.641410</td>\n",
       "      <td>9.827980</td>\n",
       "    </tr>\n",
       "  </tbody>\n",
       "</table>\n",
       "</div>"
      ],
      "text/plain": [
       "         Unnamed: 0       realSum  person_capacity         multi  \\\n",
       "count  51707.000000  51707.000000     51707.000000  51707.000000   \n",
       "mean   25854.000000    279.879591         3.161661      0.291353   \n",
       "std    14926.669521    327.948386         1.298545      0.454390   \n",
       "min        1.000000     34.779339         2.000000      0.000000   \n",
       "25%    12927.500000    148.752174         2.000000      0.000000   \n",
       "50%    25854.000000    211.343089         3.000000      0.000000   \n",
       "75%    38780.500000    319.694287         4.000000      1.000000   \n",
       "max    51707.000000  18545.450285         6.000000      1.000000   \n",
       "\n",
       "                biz  cleanliness_rating  guest_satisfaction_overall  \\\n",
       "count  51707.000000        51707.000000                51707.000000   \n",
       "mean       0.350204            9.390624                   92.628232   \n",
       "std        0.477038            0.954868                    8.945531   \n",
       "min        0.000000            2.000000                   20.000000   \n",
       "25%        0.000000            9.000000                   90.000000   \n",
       "50%        0.000000           10.000000                   95.000000   \n",
       "75%        1.000000           10.000000                   99.000000   \n",
       "max        1.000000           10.000000                  100.000000   \n",
       "\n",
       "          bedrooms          dist    metro_dist    attr_index  attr_index_norm  \\\n",
       "count  51707.00000  51707.000000  51707.000000  51707.000000     51707.000000   \n",
       "mean       1.15876      3.191285      0.681540    294.204105        13.423792   \n",
       "std        0.62741      2.393803      0.858023    224.754123         9.807985   \n",
       "min        0.00000      0.015045      0.002301     15.152201         0.926301   \n",
       "25%        1.00000      1.453142      0.248480    136.797385         6.380926   \n",
       "50%        1.00000      2.613538      0.413269    234.331748        11.468305   \n",
       "75%        1.00000      4.263077      0.737840    385.756381        17.415082   \n",
       "max       10.00000     25.284557     14.273577   4513.563486       100.000000   \n",
       "\n",
       "         rest_index  rest_index_norm           lng           lat    logRealSum  \n",
       "count  51707.000000     51707.000000  51707.000000  51707.000000  51707.000000  \n",
       "mean     626.856696        22.786177      7.426068     45.671128      5.419519  \n",
       "std      497.920226        17.804096      9.799725      5.249263      0.596600  \n",
       "min       19.576924         0.592757     -9.226340     37.953000      3.549024  \n",
       "25%      250.854114         8.751480     -0.072500     41.399510      5.002282  \n",
       "50%      522.052783        17.542238      4.873000     47.506690      5.353483  \n",
       "75%      832.628988        32.964603     13.518825     51.471885      5.767365  \n",
       "max     6696.156772       100.000000     23.786020     52.641410      9.827980  "
      ]
     },
     "execution_count": 30,
     "metadata": {},
     "output_type": "execute_result"
    }
   ],
   "source": [
    "AirBnB_prices.describe()"
   ]
  },
  {
   "cell_type": "markdown",
   "id": "be2a1ec5-adbb-4127-87b1-6d6b487f764d",
   "metadata": {},
   "source": [
    "\\textcolor{blue}{First, notice that } `attr_index` \\textcolor{blue}{and} `attr_index_norm` \\textcolor{blue}{and} `rest_index` \\textcolor{blue}{and} `rest_index_norm` \\textcolor{blue}{are likely correlated, since one is a normalized version of the other. Note also that } `room_type` \\textcolor{blue}{,} `room_shared` \\textcolor{blue}{, and} `room_private` \\textcolor{blue}{also seem to contain the same types of information.} "
   ]
  },
  {
   "cell_type": "markdown",
   "id": "88b43e47-ddcf-457b-870c-c7d78f5c1806",
   "metadata": {},
   "source": [
    "17. Now calculate the correlation matrix for the numeric variables (ignore indicators for now). Do you see any correlations (other than the 1's along the diagonal) that are very high? This is another indication of collinearity. "
   ]
  },
  {
   "cell_type": "code",
   "execution_count": 31,
   "id": "333f3ea0-1e09-4acb-9843-7663397944b0",
   "metadata": {},
   "outputs": [
    {
     "data": {
      "text/html": [
       "<div>\n",
       "<style scoped>\n",
       "    .dataframe tbody tr th:only-of-type {\n",
       "        vertical-align: middle;\n",
       "    }\n",
       "\n",
       "    .dataframe tbody tr th {\n",
       "        vertical-align: top;\n",
       "    }\n",
       "\n",
       "    .dataframe thead th {\n",
       "        text-align: right;\n",
       "    }\n",
       "</style>\n",
       "<table border=\"1\" class=\"dataframe\">\n",
       "  <thead>\n",
       "    <tr style=\"text-align: right;\">\n",
       "      <th></th>\n",
       "      <th>logRealSum</th>\n",
       "      <th>person_capacity</th>\n",
       "      <th>cleanliness_rating</th>\n",
       "      <th>guest_satisfaction_overall</th>\n",
       "      <th>bedrooms</th>\n",
       "      <th>dist</th>\n",
       "      <th>metro_dist</th>\n",
       "      <th>attr_index</th>\n",
       "      <th>attr_index_norm</th>\n",
       "      <th>rest_index</th>\n",
       "      <th>rest_index_norm</th>\n",
       "      <th>lng</th>\n",
       "      <th>lat</th>\n",
       "    </tr>\n",
       "  </thead>\n",
       "  <tbody>\n",
       "    <tr>\n",
       "      <th>logRealSum</th>\n",
       "      <td>1.000000</td>\n",
       "      <td>0.317951</td>\n",
       "      <td>0.000302</td>\n",
       "      <td>-0.013133</td>\n",
       "      <td>0.267104</td>\n",
       "      <td>-0.082892</td>\n",
       "      <td>-0.107958</td>\n",
       "      <td>0.322130</td>\n",
       "      <td>0.463870</td>\n",
       "      <td>0.273031</td>\n",
       "      <td>0.291385</td>\n",
       "      <td>-0.348736</td>\n",
       "      <td>0.350186</td>\n",
       "    </tr>\n",
       "    <tr>\n",
       "      <th>person_capacity</th>\n",
       "      <td>0.317951</td>\n",
       "      <td>1.000000</td>\n",
       "      <td>0.003256</td>\n",
       "      <td>0.005181</td>\n",
       "      <td>0.560627</td>\n",
       "      <td>-0.128488</td>\n",
       "      <td>-0.037267</td>\n",
       "      <td>0.028394</td>\n",
       "      <td>-0.050487</td>\n",
       "      <td>0.037330</td>\n",
       "      <td>0.038059</td>\n",
       "      <td>0.146848</td>\n",
       "      <td>-0.168265</td>\n",
       "    </tr>\n",
       "    <tr>\n",
       "      <th>cleanliness_rating</th>\n",
       "      <td>0.000302</td>\n",
       "      <td>0.003256</td>\n",
       "      <td>1.000000</td>\n",
       "      <td>0.714045</td>\n",
       "      <td>0.033489</td>\n",
       "      <td>-0.030202</td>\n",
       "      <td>0.010441</td>\n",
       "      <td>-0.025322</td>\n",
       "      <td>-0.075372</td>\n",
       "      <td>-0.031929</td>\n",
       "      <td>-0.005995</td>\n",
       "      <td>0.120379</td>\n",
       "      <td>-0.092502</td>\n",
       "    </tr>\n",
       "    <tr>\n",
       "      <th>guest_satisfaction_overall</th>\n",
       "      <td>-0.013133</td>\n",
       "      <td>0.005181</td>\n",
       "      <td>0.714045</td>\n",
       "      <td>1.000000</td>\n",
       "      <td>0.047573</td>\n",
       "      <td>-0.004178</td>\n",
       "      <td>0.029788</td>\n",
       "      <td>-0.050624</td>\n",
       "      <td>-0.074146</td>\n",
       "      <td>-0.069319</td>\n",
       "      <td>-0.008765</td>\n",
       "      <td>0.156079</td>\n",
       "      <td>-0.033957</td>\n",
       "    </tr>\n",
       "    <tr>\n",
       "      <th>bedrooms</th>\n",
       "      <td>0.267104</td>\n",
       "      <td>0.560627</td>\n",
       "      <td>0.033489</td>\n",
       "      <td>0.047573</td>\n",
       "      <td>1.000000</td>\n",
       "      <td>-0.006262</td>\n",
       "      <td>0.044431</td>\n",
       "      <td>-0.011735</td>\n",
       "      <td>-0.063773</td>\n",
       "      <td>-0.014047</td>\n",
       "      <td>-0.057726</td>\n",
       "      <td>0.013688</td>\n",
       "      <td>-0.104694</td>\n",
       "    </tr>\n",
       "    <tr>\n",
       "      <th>dist</th>\n",
       "      <td>-0.082892</td>\n",
       "      <td>-0.128488</td>\n",
       "      <td>-0.030202</td>\n",
       "      <td>-0.004178</td>\n",
       "      <td>-0.006262</td>\n",
       "      <td>1.000000</td>\n",
       "      <td>0.558064</td>\n",
       "      <td>-0.363088</td>\n",
       "      <td>-0.242862</td>\n",
       "      <td>-0.346653</td>\n",
       "      <td>-0.467791</td>\n",
       "      <td>-0.147424</td>\n",
       "      <td>0.405878</td>\n",
       "    </tr>\n",
       "    <tr>\n",
       "      <th>metro_dist</th>\n",
       "      <td>-0.107958</td>\n",
       "      <td>-0.037267</td>\n",
       "      <td>0.010441</td>\n",
       "      <td>0.029788</td>\n",
       "      <td>0.044431</td>\n",
       "      <td>0.558064</td>\n",
       "      <td>1.000000</td>\n",
       "      <td>-0.168010</td>\n",
       "      <td>-0.219587</td>\n",
       "      <td>-0.138876</td>\n",
       "      <td>-0.259654</td>\n",
       "      <td>-0.069506</td>\n",
       "      <td>0.086424</td>\n",
       "    </tr>\n",
       "    <tr>\n",
       "      <th>attr_index</th>\n",
       "      <td>0.322130</td>\n",
       "      <td>0.028394</td>\n",
       "      <td>-0.025322</td>\n",
       "      <td>-0.050624</td>\n",
       "      <td>-0.011735</td>\n",
       "      <td>-0.363088</td>\n",
       "      <td>-0.168010</td>\n",
       "      <td>1.000000</td>\n",
       "      <td>0.714847</td>\n",
       "      <td>0.850229</td>\n",
       "      <td>0.544403</td>\n",
       "      <td>-0.126942</td>\n",
       "      <td>-0.052438</td>\n",
       "    </tr>\n",
       "    <tr>\n",
       "      <th>attr_index_norm</th>\n",
       "      <td>0.463870</td>\n",
       "      <td>-0.050487</td>\n",
       "      <td>-0.075372</td>\n",
       "      <td>-0.074146</td>\n",
       "      <td>-0.063773</td>\n",
       "      <td>-0.242862</td>\n",
       "      <td>-0.219587</td>\n",
       "      <td>0.714847</td>\n",
       "      <td>1.000000</td>\n",
       "      <td>0.527623</td>\n",
       "      <td>0.472143</td>\n",
       "      <td>-0.221591</td>\n",
       "      <td>0.435237</td>\n",
       "    </tr>\n",
       "    <tr>\n",
       "      <th>rest_index</th>\n",
       "      <td>0.273031</td>\n",
       "      <td>0.037330</td>\n",
       "      <td>-0.031929</td>\n",
       "      <td>-0.069319</td>\n",
       "      <td>-0.014047</td>\n",
       "      <td>-0.346653</td>\n",
       "      <td>-0.138876</td>\n",
       "      <td>0.850229</td>\n",
       "      <td>0.527623</td>\n",
       "      <td>1.000000</td>\n",
       "      <td>0.617970</td>\n",
       "      <td>-0.176704</td>\n",
       "      <td>-0.113163</td>\n",
       "    </tr>\n",
       "    <tr>\n",
       "      <th>rest_index_norm</th>\n",
       "      <td>0.291385</td>\n",
       "      <td>0.038059</td>\n",
       "      <td>-0.005995</td>\n",
       "      <td>-0.008765</td>\n",
       "      <td>-0.057726</td>\n",
       "      <td>-0.467791</td>\n",
       "      <td>-0.259654</td>\n",
       "      <td>0.544403</td>\n",
       "      <td>0.472143</td>\n",
       "      <td>0.617970</td>\n",
       "      <td>1.000000</td>\n",
       "      <td>-0.134731</td>\n",
       "      <td>0.023698</td>\n",
       "    </tr>\n",
       "    <tr>\n",
       "      <th>lng</th>\n",
       "      <td>-0.348736</td>\n",
       "      <td>0.146848</td>\n",
       "      <td>0.120379</td>\n",
       "      <td>0.156079</td>\n",
       "      <td>0.013688</td>\n",
       "      <td>-0.147424</td>\n",
       "      <td>-0.069506</td>\n",
       "      <td>-0.126942</td>\n",
       "      <td>-0.221591</td>\n",
       "      <td>-0.176704</td>\n",
       "      <td>-0.134731</td>\n",
       "      <td>1.000000</td>\n",
       "      <td>-0.159214</td>\n",
       "    </tr>\n",
       "    <tr>\n",
       "      <th>lat</th>\n",
       "      <td>0.350186</td>\n",
       "      <td>-0.168265</td>\n",
       "      <td>-0.092502</td>\n",
       "      <td>-0.033957</td>\n",
       "      <td>-0.104694</td>\n",
       "      <td>0.405878</td>\n",
       "      <td>0.086424</td>\n",
       "      <td>-0.052438</td>\n",
       "      <td>0.435237</td>\n",
       "      <td>-0.113163</td>\n",
       "      <td>0.023698</td>\n",
       "      <td>-0.159214</td>\n",
       "      <td>1.000000</td>\n",
       "    </tr>\n",
       "  </tbody>\n",
       "</table>\n",
       "</div>"
      ],
      "text/plain": [
       "                            logRealSum  person_capacity  cleanliness_rating  \\\n",
       "logRealSum                    1.000000         0.317951            0.000302   \n",
       "person_capacity               0.317951         1.000000            0.003256   \n",
       "cleanliness_rating            0.000302         0.003256            1.000000   \n",
       "guest_satisfaction_overall   -0.013133         0.005181            0.714045   \n",
       "bedrooms                      0.267104         0.560627            0.033489   \n",
       "dist                         -0.082892        -0.128488           -0.030202   \n",
       "metro_dist                   -0.107958        -0.037267            0.010441   \n",
       "attr_index                    0.322130         0.028394           -0.025322   \n",
       "attr_index_norm               0.463870        -0.050487           -0.075372   \n",
       "rest_index                    0.273031         0.037330           -0.031929   \n",
       "rest_index_norm               0.291385         0.038059           -0.005995   \n",
       "lng                          -0.348736         0.146848            0.120379   \n",
       "lat                           0.350186        -0.168265           -0.092502   \n",
       "\n",
       "                            guest_satisfaction_overall  bedrooms      dist  \\\n",
       "logRealSum                                   -0.013133  0.267104 -0.082892   \n",
       "person_capacity                               0.005181  0.560627 -0.128488   \n",
       "cleanliness_rating                            0.714045  0.033489 -0.030202   \n",
       "guest_satisfaction_overall                    1.000000  0.047573 -0.004178   \n",
       "bedrooms                                      0.047573  1.000000 -0.006262   \n",
       "dist                                         -0.004178 -0.006262  1.000000   \n",
       "metro_dist                                    0.029788  0.044431  0.558064   \n",
       "attr_index                                   -0.050624 -0.011735 -0.363088   \n",
       "attr_index_norm                              -0.074146 -0.063773 -0.242862   \n",
       "rest_index                                   -0.069319 -0.014047 -0.346653   \n",
       "rest_index_norm                              -0.008765 -0.057726 -0.467791   \n",
       "lng                                           0.156079  0.013688 -0.147424   \n",
       "lat                                          -0.033957 -0.104694  0.405878   \n",
       "\n",
       "                            metro_dist  attr_index  attr_index_norm  \\\n",
       "logRealSum                   -0.107958    0.322130         0.463870   \n",
       "person_capacity              -0.037267    0.028394        -0.050487   \n",
       "cleanliness_rating            0.010441   -0.025322        -0.075372   \n",
       "guest_satisfaction_overall    0.029788   -0.050624        -0.074146   \n",
       "bedrooms                      0.044431   -0.011735        -0.063773   \n",
       "dist                          0.558064   -0.363088        -0.242862   \n",
       "metro_dist                    1.000000   -0.168010        -0.219587   \n",
       "attr_index                   -0.168010    1.000000         0.714847   \n",
       "attr_index_norm              -0.219587    0.714847         1.000000   \n",
       "rest_index                   -0.138876    0.850229         0.527623   \n",
       "rest_index_norm              -0.259654    0.544403         0.472143   \n",
       "lng                          -0.069506   -0.126942        -0.221591   \n",
       "lat                           0.086424   -0.052438         0.435237   \n",
       "\n",
       "                            rest_index  rest_index_norm       lng       lat  \n",
       "logRealSum                    0.273031         0.291385 -0.348736  0.350186  \n",
       "person_capacity               0.037330         0.038059  0.146848 -0.168265  \n",
       "cleanliness_rating           -0.031929        -0.005995  0.120379 -0.092502  \n",
       "guest_satisfaction_overall   -0.069319        -0.008765  0.156079 -0.033957  \n",
       "bedrooms                     -0.014047        -0.057726  0.013688 -0.104694  \n",
       "dist                         -0.346653        -0.467791 -0.147424  0.405878  \n",
       "metro_dist                   -0.138876        -0.259654 -0.069506  0.086424  \n",
       "attr_index                    0.850229         0.544403 -0.126942 -0.052438  \n",
       "attr_index_norm               0.527623         0.472143 -0.221591  0.435237  \n",
       "rest_index                    1.000000         0.617970 -0.176704 -0.113163  \n",
       "rest_index_norm               0.617970         1.000000 -0.134731  0.023698  \n",
       "lng                          -0.176704        -0.134731  1.000000 -0.159214  \n",
       "lat                          -0.113163         0.023698 -0.159214  1.000000  "
      ]
     },
     "execution_count": 31,
     "metadata": {},
     "output_type": "execute_result"
    }
   ],
   "source": [
    "AirBnB_prices[['logRealSum', 'person_capacity', 'cleanliness_rating', 'guest_satisfaction_overall', \n",
    "              'bedrooms', 'dist', 'metro_dist', 'attr_index', 'attr_index_norm', 'rest_index', \n",
    "              'rest_index_norm', 'lng', 'lat']].corr()"
   ]
  },
  {
   "cell_type": "markdown",
   "id": "33f27785-b044-45b2-9b12-fe92d95b38b1",
   "metadata": {},
   "source": [
    "\\textcolor{blue}{The following pairs might be considered collinear, although none of the correlations are particularly high:}\n",
    "\n",
    "* `guest_satisfaction_overall`\\textcolor{blue}{,} `cleanliness_rating`\n",
    "* `attr_index`\\textcolor{blue}{,} `attr_index_norm` \\textcolor{blue}{(as suspected)}"
   ]
  },
  {
   "cell_type": "markdown",
   "id": "f6ff68e7-41a8-4c37-9d68-c0428dae054f",
   "metadata": {},
   "source": [
    "## Categorical Variables\n",
    "\n",
    "18. Now let's reconsider the categorical variables. First, from the documentation, identify which variables should be categorical (regardless of how they have been stored). "
   ]
  },
  {
   "cell_type": "markdown",
   "id": "2e52add4-2623-484e-a776-7c1b6dc94664",
   "metadata": {},
   "source": [
    "\\textcolor{blue}{The variables that are categorical are} `room_type`\\textcolor{blue}{, the type of the accommodation (\"Private room\", \"Entire home/apt\", \"Shared room\"), } `room_shared`\\textcolor{blue}{, a dummy variable for shared rooms, } `room_private`\\textcolor{blue}{, a dummy variable for private rooms, } `host_is_superhost`\\textcolor{blue}{, a dummy variable for superhost status, } `multi`\\textcolor{blue}{, a dummy variable if the listing belongs to hosts with 2-4 offers, } `biz` \\textcolor{blue}{, a dummy variable if the listing belongs to hosts with more than 4 offers, } `city`\\textcolor{blue}{, the European city (Amsterdam, Athens, Barcelona, Berlin, Budapest, Lisbon, London, Paris, Rome, and Vienna), and } `dayType`\\textcolor{blue}{, whether the day is a weekday or a weekend. Note that \"dummy\" variable is another way of saying indicator variable. }\n"
   ]
  },
  {
   "cell_type": "markdown",
   "id": "35a07e7e-7400-4043-bef3-8987c88d0312",
   "metadata": {},
   "source": [
    "19. Many of these variables are already stored as numbers (0 and 1). Investigate the dataset to see which you can already use. "
   ]
  },
  {
   "cell_type": "markdown",
   "id": "3218175a-26dd-43da-9373-54e8c5c5bb86",
   "metadata": {},
   "source": [
    "`room_shared` \\textcolor{blue}{,} `room_private` \\textcolor{blue}{,} `host_is_superhost` \\textcolor{blue}{,} `multi`\\textcolor{blue}{, and } `biz` \\textcolor{blue}{are already stored as 0's and 1's.} `room_type` \\textcolor{blue}{,} `city` \\textcolor{blue}{, and} `dayType` \\textcolor{blue}{are not, and need to be converted. }"
   ]
  },
  {
   "cell_type": "markdown",
   "id": "7b2bfa17-81a8-423b-9361-c131f3160bcc",
   "metadata": {},
   "source": [
    "20. How many indicator variables does `room_type` need? How many indicator variables does `city` need?"
   ]
  },
  {
   "cell_type": "markdown",
   "id": "62e9f1b6-628f-4554-bd2a-9498334d7aca",
   "metadata": {},
   "source": [
    "`room_type` \\textcolor{blue}{needs two (three room types minus one), and } `city` \\textcolor{blue}{needs nine (ten cities minus one)}."
   ]
  },
  {
   "cell_type": "markdown",
   "id": "5ab1fffa-69c2-4d6e-8b23-b30bc8738ae3",
   "metadata": {},
   "source": [
    "21. The method for converting these categorical variables into a series of indicator variables is called \"one-hot encoding\", and there are methods built into Python that can handle it neatly! Let's use the methods from `pandas` since we already have it installed. The specific function is `get_dummies()`. Run the code below, and see if you can identify which columns were added to the dataframe. "
   ]
  },
  {
   "cell_type": "code",
   "execution_count": 32,
   "id": "455fa775-7432-4de8-87a0-a0b0b2574b02",
   "metadata": {},
   "outputs": [
    {
     "name": "stdout",
     "output_type": "stream",
     "text": [
      "       Unnamed: 0      realSum  room_shared  room_private  person_capacity  \\\n",
      "0               1   319.640053        False          True                2   \n",
      "1               2   347.995219        False          True                2   \n",
      "2               3   482.975183        False          True                4   \n",
      "3               4   485.552926        False          True                2   \n",
      "4               5  2771.541724        False         False                4   \n",
      "...           ...          ...          ...           ...              ...   \n",
      "51702       51703   715.938574        False         False                6   \n",
      "51703       51704   304.793960        False         False                2   \n",
      "51704       51705   637.168969        False         False                2   \n",
      "51705       51706   301.054157        False          True                2   \n",
      "51706       51707   133.230489        False          True                4   \n",
      "\n",
      "       host_is_superhost  multi  biz  cleanliness_rating  \\\n",
      "0                  False      0    1                   9   \n",
      "1                  False      0    1                   9   \n",
      "2                  False      0    1                   9   \n",
      "3                   True      0    0                  10   \n",
      "4                   True      0    0                  10   \n",
      "...                  ...    ...  ...                 ...   \n",
      "51702              False      0    1                  10   \n",
      "51703              False      0    0                   8   \n",
      "51704              False      0    0                  10   \n",
      "51705              False      0    0                  10   \n",
      "51706               True      1    0                  10   \n",
      "\n",
      "       guest_satisfaction_overall  ...  rest_index  rest_index_norm       lng  \\\n",
      "0                              88  ...  136.982208        11.941560   4.84639   \n",
      "1                              87  ...   95.386468         8.315410   4.97512   \n",
      "2                              90  ...  875.114817        76.289005   4.89417   \n",
      "3                              98  ...  815.303994        71.074937   4.90051   \n",
      "4                             100  ...  272.315202        23.739349   4.88467   \n",
      "...                           ...  ...         ...              ...       ...   \n",
      "51702                         100  ...  438.756874        10.604584  16.37940   \n",
      "51703                          86  ...  342.182813         8.270427  16.38070   \n",
      "51704                          93  ...  282.296424         6.822996  16.38568   \n",
      "51705                          87  ...  158.563398         3.832416  16.34100   \n",
      "51706                          93  ...  225.247293         5.444140  16.39066   \n",
      "\n",
      "            lat       city   dayType  logRealSum  room_type_Entire home/apt  \\\n",
      "0      52.34137  amsterdam  weekends    5.767196                          0   \n",
      "1      52.36103  amsterdam  weekends    5.852189                          0   \n",
      "2      52.37663  amsterdam  weekends    6.179965                          0   \n",
      "3      52.37508  amsterdam  weekends    6.185288                          0   \n",
      "4      52.38749  amsterdam  weekends    7.927159                          1   \n",
      "...         ...        ...       ...         ...                        ...   \n",
      "51702  48.21136     vienna  weekends    6.573594                          1   \n",
      "51703  48.20296     vienna  weekends    5.719636                          1   \n",
      "51704  48.20460     vienna  weekends    6.457035                          1   \n",
      "51705  48.19200     vienna  weekends    5.707290                          0   \n",
      "51706  48.20811     vienna  weekends    4.892081                          0   \n",
      "\n",
      "       room_type_Private room room_type_Shared room  \n",
      "0                           1                     0  \n",
      "1                           1                     0  \n",
      "2                           1                     0  \n",
      "3                           1                     0  \n",
      "4                           0                     0  \n",
      "...                       ...                   ...  \n",
      "51702                       0                     0  \n",
      "51703                       0                     0  \n",
      "51704                       0                     0  \n",
      "51705                       1                     0  \n",
      "51706                       1                     0  \n",
      "\n",
      "[51707 rows x 25 columns]\n"
     ]
    }
   ],
   "source": [
    "one_hot_encoded_data = pd.get_dummies(AirBnB_prices, columns = ['room_type'])\n",
    "print(one_hot_encoded_data)"
   ]
  },
  {
   "cell_type": "markdown",
   "id": "82a69338-d5b8-4f5d-9bb9-478fc2237ab3",
   "metadata": {},
   "source": [
    "`room_type` was perhaps a bad example--if you look closely, you should see that there are already dummy variables for `room_type`: `room_shared` and `room_private`. WARNING! If you put two columns that have identical information into a linear regression model, the math will not work. Be careful when examining the documentation to see that you do not put shared information into your model. As it turns out, we still do need to add *numeric* dummy variables in some way--True/False will not work. Run the following code to make sure everything in the dataframe is numeric. "
   ]
  },
  {
   "cell_type": "code",
   "execution_count": 33,
   "id": "d0c79542-55e1-4b20-8ee3-4e6745275506",
   "metadata": {},
   "outputs": [],
   "source": [
    "AirBnB_prices['room_shared'] = AirBnB_prices['room_shared'].astype('int')\n",
    "AirBnB_prices['room_private'] = AirBnB_prices['room_private'].astype('int')\n",
    "AirBnB_prices['host_is_superhost'] = AirBnB_prices['host_is_superhost'].astype('int')"
   ]
  },
  {
   "cell_type": "markdown",
   "id": "baad6503-662b-46c8-9441-767e197287d3",
   "metadata": {},
   "source": [
    "22. Add indicator variables for  `city` and `dayType`. "
   ]
  },
  {
   "cell_type": "code",
   "execution_count": 34,
   "id": "3a0bd2ef-f874-4986-b7ea-7fcb06b42ef8",
   "metadata": {},
   "outputs": [
    {
     "name": "stdout",
     "output_type": "stream",
     "text": [
      "       Unnamed: 0      realSum  room_shared  room_private  person_capacity  \\\n",
      "0               1   319.640053            0             1                2   \n",
      "1               2   347.995219            0             1                2   \n",
      "2               3   482.975183            0             1                4   \n",
      "3               4   485.552926            0             1                2   \n",
      "4               5  2771.541724            0             0                4   \n",
      "...           ...          ...          ...           ...              ...   \n",
      "51702       51703   715.938574            0             0                6   \n",
      "51703       51704   304.793960            0             0                2   \n",
      "51704       51705   637.168969            0             0                2   \n",
      "51705       51706   301.054157            0             1                2   \n",
      "51706       51707   133.230489            0             1                4   \n",
      "\n",
      "       host_is_superhost  multi  biz  cleanliness_rating  \\\n",
      "0                      0      0    1                   9   \n",
      "1                      0      0    1                   9   \n",
      "2                      0      0    1                   9   \n",
      "3                      1      0    0                  10   \n",
      "4                      1      0    0                  10   \n",
      "...                  ...    ...  ...                 ...   \n",
      "51702                  0      0    1                  10   \n",
      "51703                  0      0    0                   8   \n",
      "51704                  0      0    0                  10   \n",
      "51705                  0      0    0                  10   \n",
      "51706                  1      1    0                  10   \n",
      "\n",
      "       guest_satisfaction_overall  ...  city_barcelona  city_berlin  \\\n",
      "0                              88  ...               0            0   \n",
      "1                              87  ...               0            0   \n",
      "2                              90  ...               0            0   \n",
      "3                              98  ...               0            0   \n",
      "4                             100  ...               0            0   \n",
      "...                           ...  ...             ...          ...   \n",
      "51702                         100  ...               0            0   \n",
      "51703                          86  ...               0            0   \n",
      "51704                          93  ...               0            0   \n",
      "51705                          87  ...               0            0   \n",
      "51706                          93  ...               0            0   \n",
      "\n",
      "       city_budapest  city_lisbon  city_london  city_paris  city_rome  \\\n",
      "0                  0            0            0           0          0   \n",
      "1                  0            0            0           0          0   \n",
      "2                  0            0            0           0          0   \n",
      "3                  0            0            0           0          0   \n",
      "4                  0            0            0           0          0   \n",
      "...              ...          ...          ...         ...        ...   \n",
      "51702              0            0            0           0          0   \n",
      "51703              0            0            0           0          0   \n",
      "51704              0            0            0           0          0   \n",
      "51705              0            0            0           0          0   \n",
      "51706              0            0            0           0          0   \n",
      "\n",
      "       city_vienna  dayType_weekdays  dayType_weekends  \n",
      "0                0                 0                 1  \n",
      "1                0                 0                 1  \n",
      "2                0                 0                 1  \n",
      "3                0                 0                 1  \n",
      "4                0                 0                 1  \n",
      "...            ...               ...               ...  \n",
      "51702            1                 0                 1  \n",
      "51703            1                 0                 1  \n",
      "51704            1                 0                 1  \n",
      "51705            1                 0                 1  \n",
      "51706            1                 0                 1  \n",
      "\n",
      "[51707 rows x 35 columns]\n"
     ]
    }
   ],
   "source": [
    "AirBnB_prices = pd.get_dummies(AirBnB_prices, columns = ['room_type', 'city', 'dayType'])\n",
    "print(AirBnB_prices)"
   ]
  },
  {
   "cell_type": "markdown",
   "id": "6fb8ce97-0fbe-4bc5-beaa-c24ce28302e9",
   "metadata": {},
   "source": [
    "## Multiple Linear Regression\n",
    "\n",
    "23. Now let's try multiple linear regression. Fit a model predicting `realSum` with one of each variable--be careful to use only one set of the `attr` and `rest` variables. What is the adjusted $r^2$? Is this an improvement?"
   ]
  },
  {
   "cell_type": "code",
   "execution_count": 35,
   "id": "ef3b4a55-100e-4c5c-8249-c7917d4dff0c",
   "metadata": {},
   "outputs": [
    {
     "data": {
      "text/html": [
       "<table class=\"simpletable\">\n",
       "<caption>OLS Regression Results</caption>\n",
       "<tr>\n",
       "  <th>Dep. Variable:</th>         <td>realSum</td>     <th>  R-squared:         </th>  <td>   0.236</td>  \n",
       "</tr>\n",
       "<tr>\n",
       "  <th>Model:</th>                   <td>OLS</td>       <th>  Adj. R-squared:    </th>  <td>   0.235</td>  \n",
       "</tr>\n",
       "<tr>\n",
       "  <th>Method:</th>             <td>Least Squares</td>  <th>  F-statistic:       </th>  <td>   637.2</td>  \n",
       "</tr>\n",
       "<tr>\n",
       "  <th>Date:</th>             <td>Sun, 02 Apr 2023</td> <th>  Prob (F-statistic):</th>   <td>  0.00</td>   \n",
       "</tr>\n",
       "<tr>\n",
       "  <th>Time:</th>                 <td>08:09:49</td>     <th>  Log-Likelihood:    </th> <td>-3.6595e+05</td>\n",
       "</tr>\n",
       "<tr>\n",
       "  <th>No. Observations:</th>      <td> 51707</td>      <th>  AIC:               </th>  <td>7.320e+05</td> \n",
       "</tr>\n",
       "<tr>\n",
       "  <th>Df Residuals:</th>          <td> 51681</td>      <th>  BIC:               </th>  <td>7.322e+05</td> \n",
       "</tr>\n",
       "<tr>\n",
       "  <th>Df Model:</th>              <td>    25</td>      <th>                     </th>      <td> </td>     \n",
       "</tr>\n",
       "<tr>\n",
       "  <th>Covariance Type:</th>      <td>nonrobust</td>    <th>                     </th>      <td> </td>     \n",
       "</tr>\n",
       "</table>\n",
       "<table class=\"simpletable\">\n",
       "<tr>\n",
       "               <td></td>                 <th>coef</th>     <th>std err</th>      <th>t</th>      <th>P>|t|</th>  <th>[0.025</th>    <th>0.975]</th>  \n",
       "</tr>\n",
       "<tr>\n",
       "  <th>const</th>                      <td>-4376.4295</td> <td> 3139.563</td> <td>   -1.394</td> <td> 0.163</td> <td>-1.05e+04</td> <td> 1777.145</td>\n",
       "</tr>\n",
       "<tr>\n",
       "  <th>room_shared</th>                <td> -200.6815</td> <td>   15.203</td> <td>  -13.200</td> <td> 0.000</td> <td> -230.479</td> <td> -170.884</td>\n",
       "</tr>\n",
       "<tr>\n",
       "  <th>room_private</th>               <td> -115.9483</td> <td>    3.378</td> <td>  -34.329</td> <td> 0.000</td> <td> -122.568</td> <td> -109.328</td>\n",
       "</tr>\n",
       "<tr>\n",
       "  <th>person_capacity</th>            <td>   24.0637</td> <td>    1.393</td> <td>   17.279</td> <td> 0.000</td> <td>   21.334</td> <td>   26.793</td>\n",
       "</tr>\n",
       "<tr>\n",
       "  <th>host_is_superhost</th>          <td>   -1.6784</td> <td>    3.095</td> <td>   -0.542</td> <td> 0.588</td> <td>   -7.744</td> <td>    4.387</td>\n",
       "</tr>\n",
       "<tr>\n",
       "  <th>multi</th>                      <td>   13.1147</td> <td>    3.252</td> <td>    4.032</td> <td> 0.000</td> <td>    6.740</td> <td>   19.489</td>\n",
       "</tr>\n",
       "<tr>\n",
       "  <th>biz</th>                        <td>   35.6271</td> <td>    3.292</td> <td>   10.821</td> <td> 0.000</td> <td>   29.174</td> <td>   42.080</td>\n",
       "</tr>\n",
       "<tr>\n",
       "  <th>cleanliness_rating</th>         <td>    6.7461</td> <td>    1.912</td> <td>    3.528</td> <td> 0.000</td> <td>    2.998</td> <td>   10.494</td>\n",
       "</tr>\n",
       "<tr>\n",
       "  <th>guest_satisfaction_overall</th> <td>    0.7143</td> <td>    0.208</td> <td>    3.431</td> <td> 0.001</td> <td>    0.306</td> <td>    1.122</td>\n",
       "</tr>\n",
       "<tr>\n",
       "  <th>bedrooms</th>                   <td>   88.8234</td> <td>    2.523</td> <td>   35.205</td> <td> 0.000</td> <td>   83.878</td> <td>   93.769</td>\n",
       "</tr>\n",
       "<tr>\n",
       "  <th>dist</th>                       <td>   -8.8932</td> <td>    0.931</td> <td>   -9.556</td> <td> 0.000</td> <td>  -10.717</td> <td>   -7.069</td>\n",
       "</tr>\n",
       "<tr>\n",
       "  <th>metro_dist</th>                 <td>   -4.3466</td> <td>    1.989</td> <td>   -2.185</td> <td> 0.029</td> <td>   -8.246</td> <td>   -0.447</td>\n",
       "</tr>\n",
       "<tr>\n",
       "  <th>attr_index</th>                 <td>    0.1577</td> <td>    0.011</td> <td>   14.059</td> <td> 0.000</td> <td>    0.136</td> <td>    0.180</td>\n",
       "</tr>\n",
       "<tr>\n",
       "  <th>rest_index</th>                 <td>    0.0123</td> <td>    0.006</td> <td>    2.111</td> <td> 0.035</td> <td>    0.001</td> <td>    0.024</td>\n",
       "</tr>\n",
       "<tr>\n",
       "  <th>lat</th>                        <td>  118.5040</td> <td>   60.129</td> <td>    1.971</td> <td> 0.049</td> <td>    0.651</td> <td>  236.357</td>\n",
       "</tr>\n",
       "<tr>\n",
       "  <th>lng</th>                        <td> -315.2883</td> <td>   31.927</td> <td>   -9.875</td> <td> 0.000</td> <td> -377.866</td> <td> -252.711</td>\n",
       "</tr>\n",
       "<tr>\n",
       "  <th>city_athens</th>                <td> 7156.1257</td> <td> 1096.166</td> <td>    6.528</td> <td> 0.000</td> <td> 5007.630</td> <td> 9304.621</td>\n",
       "</tr>\n",
       "<tr>\n",
       "  <th>city_barcelona</th>             <td>  167.2820</td> <td>  657.985</td> <td>    0.254</td> <td> 0.799</td> <td>-1122.375</td> <td> 1456.939</td>\n",
       "</tr>\n",
       "<tr>\n",
       "  <th>city_berlin</th>                <td> 2426.3266</td> <td>  271.440</td> <td>    8.939</td> <td> 0.000</td> <td> 1894.301</td> <td> 2958.352</td>\n",
       "</tr>\n",
       "<tr>\n",
       "  <th>city_budapest</th>              <td> 4593.3038</td> <td>  560.213</td> <td>    8.199</td> <td> 0.000</td> <td> 3495.281</td> <td> 5691.326</td>\n",
       "</tr>\n",
       "<tr>\n",
       "  <th>city_lisbon</th>                <td>-3187.7443</td> <td>  899.838</td> <td>   -3.543</td> <td> 0.000</td> <td>-4951.435</td> <td>-1424.053</td>\n",
       "</tr>\n",
       "<tr>\n",
       "  <th>city_london</th>                <td>-1653.5434</td> <td>  163.329</td> <td>  -10.124</td> <td> 0.000</td> <td>-1973.671</td> <td>-1333.416</td>\n",
       "</tr>\n",
       "<tr>\n",
       "  <th>city_paris</th>                 <td> -595.4262</td> <td>  219.007</td> <td>   -2.719</td> <td> 0.007</td> <td>-1024.682</td> <td> -166.171</td>\n",
       "</tr>\n",
       "<tr>\n",
       "  <th>city_rome</th>                  <td> 3200.3312</td> <td>  694.347</td> <td>    4.609</td> <td> 0.000</td> <td> 1839.405</td> <td> 4561.257</td>\n",
       "</tr>\n",
       "<tr>\n",
       "  <th>city_vienna</th>                <td> 3771.2761</td> <td>  461.576</td> <td>    8.170</td> <td> 0.000</td> <td> 2866.582</td> <td> 4675.970</td>\n",
       "</tr>\n",
       "<tr>\n",
       "  <th>dayType_weekends</th>           <td>    6.0428</td> <td>    2.527</td> <td>    2.392</td> <td> 0.017</td> <td>    1.090</td> <td>   10.995</td>\n",
       "</tr>\n",
       "</table>\n",
       "<table class=\"simpletable\">\n",
       "<tr>\n",
       "  <th>Omnibus:</th>       <td>134363.725</td> <th>  Durbin-Watson:     </th>    <td>   1.907</td>   \n",
       "</tr>\n",
       "<tr>\n",
       "  <th>Prob(Omnibus):</th>   <td> 0.000</td>   <th>  Jarque-Bera (JB):  </th> <td>4104396063.604</td>\n",
       "</tr>\n",
       "<tr>\n",
       "  <th>Skew:</th>            <td>30.102</td>   <th>  Prob(JB):          </th>    <td>    0.00</td>   \n",
       "</tr>\n",
       "<tr>\n",
       "  <th>Kurtosis:</th>       <td>1381.929</td>  <th>  Cond. No.          </th>    <td>2.45e+06</td>   \n",
       "</tr>\n",
       "</table><br/><br/>Notes:<br/>[1] Standard Errors assume that the covariance matrix of the errors is correctly specified.<br/>[2] The condition number is large, 2.45e+06. This might indicate that there are<br/>strong multicollinearity or other numerical problems."
      ],
      "text/plain": [
       "<class 'statsmodels.iolib.summary.Summary'>\n",
       "\"\"\"\n",
       "                            OLS Regression Results                            \n",
       "==============================================================================\n",
       "Dep. Variable:                realSum   R-squared:                       0.236\n",
       "Model:                            OLS   Adj. R-squared:                  0.235\n",
       "Method:                 Least Squares   F-statistic:                     637.2\n",
       "Date:                Sun, 02 Apr 2023   Prob (F-statistic):               0.00\n",
       "Time:                        08:09:49   Log-Likelihood:            -3.6595e+05\n",
       "No. Observations:               51707   AIC:                         7.320e+05\n",
       "Df Residuals:                   51681   BIC:                         7.322e+05\n",
       "Df Model:                          25                                         \n",
       "Covariance Type:            nonrobust                                         \n",
       "==============================================================================================\n",
       "                                 coef    std err          t      P>|t|      [0.025      0.975]\n",
       "----------------------------------------------------------------------------------------------\n",
       "const                      -4376.4295   3139.563     -1.394      0.163   -1.05e+04    1777.145\n",
       "room_shared                 -200.6815     15.203    -13.200      0.000    -230.479    -170.884\n",
       "room_private                -115.9483      3.378    -34.329      0.000    -122.568    -109.328\n",
       "person_capacity               24.0637      1.393     17.279      0.000      21.334      26.793\n",
       "host_is_superhost             -1.6784      3.095     -0.542      0.588      -7.744       4.387\n",
       "multi                         13.1147      3.252      4.032      0.000       6.740      19.489\n",
       "biz                           35.6271      3.292     10.821      0.000      29.174      42.080\n",
       "cleanliness_rating             6.7461      1.912      3.528      0.000       2.998      10.494\n",
       "guest_satisfaction_overall     0.7143      0.208      3.431      0.001       0.306       1.122\n",
       "bedrooms                      88.8234      2.523     35.205      0.000      83.878      93.769\n",
       "dist                          -8.8932      0.931     -9.556      0.000     -10.717      -7.069\n",
       "metro_dist                    -4.3466      1.989     -2.185      0.029      -8.246      -0.447\n",
       "attr_index                     0.1577      0.011     14.059      0.000       0.136       0.180\n",
       "rest_index                     0.0123      0.006      2.111      0.035       0.001       0.024\n",
       "lat                          118.5040     60.129      1.971      0.049       0.651     236.357\n",
       "lng                         -315.2883     31.927     -9.875      0.000    -377.866    -252.711\n",
       "city_athens                 7156.1257   1096.166      6.528      0.000    5007.630    9304.621\n",
       "city_barcelona               167.2820    657.985      0.254      0.799   -1122.375    1456.939\n",
       "city_berlin                 2426.3266    271.440      8.939      0.000    1894.301    2958.352\n",
       "city_budapest               4593.3038    560.213      8.199      0.000    3495.281    5691.326\n",
       "city_lisbon                -3187.7443    899.838     -3.543      0.000   -4951.435   -1424.053\n",
       "city_london                -1653.5434    163.329    -10.124      0.000   -1973.671   -1333.416\n",
       "city_paris                  -595.4262    219.007     -2.719      0.007   -1024.682    -166.171\n",
       "city_rome                   3200.3312    694.347      4.609      0.000    1839.405    4561.257\n",
       "city_vienna                 3771.2761    461.576      8.170      0.000    2866.582    4675.970\n",
       "dayType_weekends               6.0428      2.527      2.392      0.017       1.090      10.995\n",
       "==============================================================================\n",
       "Omnibus:                   134363.725   Durbin-Watson:                   1.907\n",
       "Prob(Omnibus):                  0.000   Jarque-Bera (JB):       4104396063.604\n",
       "Skew:                          30.102   Prob(JB):                         0.00\n",
       "Kurtosis:                    1381.929   Cond. No.                     2.45e+06\n",
       "==============================================================================\n",
       "\n",
       "Notes:\n",
       "[1] Standard Errors assume that the covariance matrix of the errors is correctly specified.\n",
       "[2] The condition number is large, 2.45e+06. This might indicate that there are\n",
       "strong multicollinearity or other numerical problems.\n",
       "\"\"\""
      ]
     },
     "execution_count": 35,
     "metadata": {},
     "output_type": "execute_result"
    }
   ],
   "source": [
    "X3 = AirBnB_prices[['room_shared', 'room_private', 'person_capacity', 'host_is_superhost',\n",
    "                  'multi', 'biz', 'cleanliness_rating', 'guest_satisfaction_overall', \n",
    "                  'bedrooms', 'dist', 'metro_dist', 'attr_index', 'rest_index', 'lat', 'lng', \n",
    "                  'city_athens', 'city_barcelona', 'city_berlin', 'city_budapest', 'city_lisbon', \n",
    "                  'city_london', 'city_paris', 'city_rome', 'city_vienna', 'dayType_weekends']]\n",
    "X3 = sm.add_constant(X3)\n",
    "\n",
    "model3 = sm.OLS(Y, X3).fit()\n",
    "model3.summary()"
   ]
  },
  {
   "cell_type": "markdown",
   "id": "fa77eefb-804d-4dc7-9c4c-d5b37eabc0e8",
   "metadata": {},
   "source": [
    "\\textcolor{blue}{The adjusted $r^2$ is now 0.235, which is an improvement, although still not particularly high.}"
   ]
  },
  {
   "cell_type": "markdown",
   "id": "7e2287e0-aa0d-4ac2-8704-86a51ca1f2ea",
   "metadata": {},
   "source": [
    "24. Create the diagnostic plots. How do they look? Is the linear model appropriate?"
   ]
  },
  {
   "cell_type": "code",
   "execution_count": 36,
   "id": "a11927d8-49d2-46e1-8a01-10c9c7da46f9",
   "metadata": {},
   "outputs": [
    {
     "data": {
      "image/png": "[encoded data removed]",
      "text/plain": [
       "<Figure size 640x480 with 1 Axes>"
      ]
     },
     "metadata": {},
     "output_type": "display_data"
    },
    {
     "data": {
      "text/plain": [
       "<ggplot: (368520334)>"
      ]
     },
     "execution_count": 36,
     "metadata": {},
     "output_type": "execute_result"
    }
   ],
   "source": [
    "model3_df = model3.fittedvalues.to_frame(name = 'Fitted')\n",
    "model3_df['Residuals'] = model3.resid\n",
    "\n",
    "(p9.ggplot(model3_df, p9.aes(x = 'Fitted', y = 'Residuals')) +\n",
    " p9.geom_point() +\n",
    " p9.xlab(\"Predicted Price\") +\n",
    " p9.ylab(\"Residuals\"))"
   ]
  },
  {
   "cell_type": "code",
   "execution_count": 37,
   "id": "8ed9ffa5-aaea-42e1-bc66-7bf02fb8fe8a",
   "metadata": {},
   "outputs": [
    {
     "data": {
      "image/png": "[encoded data removed]",
      "text/plain": [
       "<Figure size 640x480 with 1 Axes>"
      ]
     },
     "metadata": {},
     "output_type": "display_data"
    },
    {
     "data": {
      "text/plain": [
       "<ggplot: (368516226)>"
      ]
     },
     "execution_count": 37,
     "metadata": {},
     "output_type": "execute_result"
    }
   ],
   "source": [
    "(p9.ggplot(model3_df, p9.aes(x = 'Residuals')) +\n",
    "   p9.geom_histogram(bins = 230) +\n",
    "   p9.xlab(\"Residuals\"))"
   ]
  },
  {
   "cell_type": "markdown",
   "id": "9751baaa-5ef0-4e42-94f6-bc7fcb6064bd",
   "metadata": {},
   "source": [
    "\\textcolor{blue}{The residuals plots are back to looking very bad. }"
   ]
  },
  {
   "cell_type": "markdown",
   "id": "fd2c85a5-ab5c-4cf7-8779-d06ab3b4a71a",
   "metadata": {},
   "source": [
    "25. Don't forget that that the transformed response had much better diagnostic plots for the simple linear regression! Refit the data to predict `logRealSum`. Compare the adjusted $r^2$ (because we're in multiple linear regression now!!) to the simple linear regression model. Is there an improvement?"
   ]
  },
  {
   "cell_type": "code",
   "execution_count": 187,
   "id": "78658225-6e87-493c-8cdf-7504ef6ea869",
   "metadata": {},
   "outputs": [
    {
     "data": {
      "text/html": [
       "<table class=\"simpletable\">\n",
       "<caption>OLS Regression Results</caption>\n",
       "<tr>\n",
       "  <th>Dep. Variable:</th>       <td>logRealSum</td>    <th>  R-squared:         </th> <td>   0.660</td> \n",
       "</tr>\n",
       "<tr>\n",
       "  <th>Model:</th>                   <td>OLS</td>       <th>  Adj. R-squared:    </th> <td>   0.660</td> \n",
       "</tr>\n",
       "<tr>\n",
       "  <th>Method:</th>             <td>Least Squares</td>  <th>  F-statistic:       </th> <td>   4017.</td> \n",
       "</tr>\n",
       "<tr>\n",
       "  <th>Date:</th>             <td>Thu, 30 Mar 2023</td> <th>  Prob (F-statistic):</th>  <td>  0.00</td>  \n",
       "</tr>\n",
       "<tr>\n",
       "  <th>Time:</th>                 <td>16:35:53</td>     <th>  Log-Likelihood:    </th> <td> -18754.</td> \n",
       "</tr>\n",
       "<tr>\n",
       "  <th>No. Observations:</th>      <td> 51707</td>      <th>  AIC:               </th> <td>3.756e+04</td>\n",
       "</tr>\n",
       "<tr>\n",
       "  <th>Df Residuals:</th>          <td> 51681</td>      <th>  BIC:               </th> <td>3.779e+04</td>\n",
       "</tr>\n",
       "<tr>\n",
       "  <th>Df Model:</th>              <td>    25</td>      <th>                     </th>     <td> </td>    \n",
       "</tr>\n",
       "<tr>\n",
       "  <th>Covariance Type:</th>      <td>nonrobust</td>    <th>                     </th>     <td> </td>    \n",
       "</tr>\n",
       "</table>\n",
       "<table class=\"simpletable\">\n",
       "<tr>\n",
       "               <td></td>                 <th>coef</th>     <th>std err</th>      <th>t</th>      <th>P>|t|</th>  <th>[0.025</th>    <th>0.975]</th>  \n",
       "</tr>\n",
       "<tr>\n",
       "  <th>const</th>                      <td>    3.0023</td> <td>    3.808</td> <td>    0.788</td> <td> 0.430</td> <td>   -4.461</td> <td>   10.466</td>\n",
       "</tr>\n",
       "<tr>\n",
       "  <th>room_shared</th>                <td>   -0.8214</td> <td>    0.018</td> <td>  -44.548</td> <td> 0.000</td> <td>   -0.858</td> <td>   -0.785</td>\n",
       "</tr>\n",
       "<tr>\n",
       "  <th>room_private</th>               <td>   -0.4155</td> <td>    0.004</td> <td> -101.438</td> <td> 0.000</td> <td>   -0.424</td> <td>   -0.408</td>\n",
       "</tr>\n",
       "<tr>\n",
       "  <th>person_capacity</th>            <td>    0.0894</td> <td>    0.002</td> <td>   52.952</td> <td> 0.000</td> <td>    0.086</td> <td>    0.093</td>\n",
       "</tr>\n",
       "<tr>\n",
       "  <th>host_is_superhost</th>          <td>    0.0181</td> <td>    0.004</td> <td>    4.814</td> <td> 0.000</td> <td>    0.011</td> <td>    0.025</td>\n",
       "</tr>\n",
       "<tr>\n",
       "  <th>multi</th>                      <td>    0.0491</td> <td>    0.004</td> <td>   12.452</td> <td> 0.000</td> <td>    0.041</td> <td>    0.057</td>\n",
       "</tr>\n",
       "<tr>\n",
       "  <th>biz</th>                        <td>    0.1125</td> <td>    0.004</td> <td>   28.175</td> <td> 0.000</td> <td>    0.105</td> <td>    0.120</td>\n",
       "</tr>\n",
       "<tr>\n",
       "  <th>cleanliness_rating</th>         <td>    0.0382</td> <td>    0.002</td> <td>   16.467</td> <td> 0.000</td> <td>    0.034</td> <td>    0.043</td>\n",
       "</tr>\n",
       "<tr>\n",
       "  <th>guest_satisfaction_overall</th> <td>    0.0009</td> <td>    0.000</td> <td>    3.515</td> <td> 0.000</td> <td>    0.000</td> <td>    0.001</td>\n",
       "</tr>\n",
       "<tr>\n",
       "  <th>bedrooms</th>                   <td>    0.1488</td> <td>    0.003</td> <td>   48.610</td> <td> 0.000</td> <td>    0.143</td> <td>    0.155</td>\n",
       "</tr>\n",
       "<tr>\n",
       "  <th>dist</th>                       <td>   -0.0269</td> <td>    0.001</td> <td>  -23.791</td> <td> 0.000</td> <td>   -0.029</td> <td>   -0.025</td>\n",
       "</tr>\n",
       "<tr>\n",
       "  <th>metro_dist</th>                 <td>   -0.0082</td> <td>    0.002</td> <td>   -3.395</td> <td> 0.001</td> <td>   -0.013</td> <td>   -0.003</td>\n",
       "</tr>\n",
       "<tr>\n",
       "  <th>attr_index</th>                 <td>    0.0004</td> <td> 1.36e-05</td> <td>   28.080</td> <td> 0.000</td> <td>    0.000</td> <td>    0.000</td>\n",
       "</tr>\n",
       "<tr>\n",
       "  <th>rest_index</th>                 <td>  9.66e-05</td> <td> 7.09e-06</td> <td>   13.628</td> <td> 0.000</td> <td> 8.27e-05</td> <td>    0.000</td>\n",
       "</tr>\n",
       "<tr>\n",
       "  <th>lat</th>                        <td>    0.1371</td> <td>    0.073</td> <td>    1.880</td> <td> 0.060</td> <td>   -0.006</td> <td>    0.280</td>\n",
       "</tr>\n",
       "<tr>\n",
       "  <th>lng</th>                        <td>   -0.9776</td> <td>    0.039</td> <td>  -25.244</td> <td> 0.000</td> <td>   -1.053</td> <td>   -0.902</td>\n",
       "</tr>\n",
       "<tr>\n",
       "  <th>city_athens</th>                <td>   18.8388</td> <td>    1.330</td> <td>   14.170</td> <td> 0.000</td> <td>   16.233</td> <td>   21.445</td>\n",
       "</tr>\n",
       "<tr>\n",
       "  <th>city_barcelona</th>             <td>   -1.8644</td> <td>    0.798</td> <td>   -2.336</td> <td> 0.019</td> <td>   -3.429</td> <td>   -0.300</td>\n",
       "</tr>\n",
       "<tr>\n",
       "  <th>city_berlin</th>                <td>    7.7010</td> <td>    0.329</td> <td>   23.391</td> <td> 0.000</td> <td>    7.056</td> <td>    8.346</td>\n",
       "</tr>\n",
       "<tr>\n",
       "  <th>city_budapest</th>              <td>   13.1610</td> <td>    0.679</td> <td>   19.369</td> <td> 0.000</td> <td>   11.829</td> <td>   14.493</td>\n",
       "</tr>\n",
       "<tr>\n",
       "  <th>city_lisbon</th>                <td>  -12.8334</td> <td>    1.091</td> <td>  -11.759</td> <td> 0.000</td> <td>  -14.973</td> <td>  -10.694</td>\n",
       "</tr>\n",
       "<tr>\n",
       "  <th>city_london</th>                <td>   -5.2537</td> <td>    0.198</td> <td>  -26.520</td> <td> 0.000</td> <td>   -5.642</td> <td>   -4.865</td>\n",
       "</tr>\n",
       "<tr>\n",
       "  <th>city_paris</th>                 <td>   -2.5239</td> <td>    0.266</td> <td>   -9.501</td> <td> 0.000</td> <td>   -3.045</td> <td>   -2.003</td>\n",
       "</tr>\n",
       "<tr>\n",
       "  <th>city_rome</th>                  <td>    7.6310</td> <td>    0.842</td> <td>    9.061</td> <td> 0.000</td> <td>    5.980</td> <td>    9.282</td>\n",
       "</tr>\n",
       "<tr>\n",
       "  <th>city_vienna</th>                <td>   10.8796</td> <td>    0.560</td> <td>   19.433</td> <td> 0.000</td> <td>    9.782</td> <td>   11.977</td>\n",
       "</tr>\n",
       "<tr>\n",
       "  <th>dayType_weekends</th>           <td>    0.0291</td> <td>    0.003</td> <td>    9.483</td> <td> 0.000</td> <td>    0.023</td> <td>    0.035</td>\n",
       "</tr>\n",
       "</table>\n",
       "<table class=\"simpletable\">\n",
       "<tr>\n",
       "  <th>Omnibus:</th>       <td>18276.474</td> <th>  Durbin-Watson:     </th>  <td>   1.773</td> \n",
       "</tr>\n",
       "<tr>\n",
       "  <th>Prob(Omnibus):</th>  <td> 0.000</td>   <th>  Jarque-Bera (JB):  </th> <td>179225.886</td>\n",
       "</tr>\n",
       "<tr>\n",
       "  <th>Skew:</th>           <td> 1.419</td>   <th>  Prob(JB):          </th>  <td>    0.00</td> \n",
       "</tr>\n",
       "<tr>\n",
       "  <th>Kurtosis:</th>       <td>11.668</td>   <th>  Cond. No.          </th>  <td>2.45e+06</td> \n",
       "</tr>\n",
       "</table><br/><br/>Notes:<br/>[1] Standard Errors assume that the covariance matrix of the errors is correctly specified.<br/>[2] The condition number is large, 2.45e+06. This might indicate that there are<br/>strong multicollinearity or other numerical problems."
      ],
      "text/plain": [
       "<class 'statsmodels.iolib.summary.Summary'>\n",
       "\"\"\"\n",
       "                            OLS Regression Results                            \n",
       "==============================================================================\n",
       "Dep. Variable:             logRealSum   R-squared:                       0.660\n",
       "Model:                            OLS   Adj. R-squared:                  0.660\n",
       "Method:                 Least Squares   F-statistic:                     4017.\n",
       "Date:                Thu, 30 Mar 2023   Prob (F-statistic):               0.00\n",
       "Time:                        16:35:53   Log-Likelihood:                -18754.\n",
       "No. Observations:               51707   AIC:                         3.756e+04\n",
       "Df Residuals:                   51681   BIC:                         3.779e+04\n",
       "Df Model:                          25                                         \n",
       "Covariance Type:            nonrobust                                         \n",
       "==============================================================================================\n",
       "                                 coef    std err          t      P>|t|      [0.025      0.975]\n",
       "----------------------------------------------------------------------------------------------\n",
       "const                          3.0023      3.808      0.788      0.430      -4.461      10.466\n",
       "room_shared                   -0.8214      0.018    -44.548      0.000      -0.858      -0.785\n",
       "room_private                  -0.4155      0.004   -101.438      0.000      -0.424      -0.408\n",
       "person_capacity                0.0894      0.002     52.952      0.000       0.086       0.093\n",
       "host_is_superhost              0.0181      0.004      4.814      0.000       0.011       0.025\n",
       "multi                          0.0491      0.004     12.452      0.000       0.041       0.057\n",
       "biz                            0.1125      0.004     28.175      0.000       0.105       0.120\n",
       "cleanliness_rating             0.0382      0.002     16.467      0.000       0.034       0.043\n",
       "guest_satisfaction_overall     0.0009      0.000      3.515      0.000       0.000       0.001\n",
       "bedrooms                       0.1488      0.003     48.610      0.000       0.143       0.155\n",
       "dist                          -0.0269      0.001    -23.791      0.000      -0.029      -0.025\n",
       "metro_dist                    -0.0082      0.002     -3.395      0.001      -0.013      -0.003\n",
       "attr_index                     0.0004   1.36e-05     28.080      0.000       0.000       0.000\n",
       "rest_index                   9.66e-05   7.09e-06     13.628      0.000    8.27e-05       0.000\n",
       "lat                            0.1371      0.073      1.880      0.060      -0.006       0.280\n",
       "lng                           -0.9776      0.039    -25.244      0.000      -1.053      -0.902\n",
       "city_athens                   18.8388      1.330     14.170      0.000      16.233      21.445\n",
       "city_barcelona                -1.8644      0.798     -2.336      0.019      -3.429      -0.300\n",
       "city_berlin                    7.7010      0.329     23.391      0.000       7.056       8.346\n",
       "city_budapest                 13.1610      0.679     19.369      0.000      11.829      14.493\n",
       "city_lisbon                  -12.8334      1.091    -11.759      0.000     -14.973     -10.694\n",
       "city_london                   -5.2537      0.198    -26.520      0.000      -5.642      -4.865\n",
       "city_paris                    -2.5239      0.266     -9.501      0.000      -3.045      -2.003\n",
       "city_rome                      7.6310      0.842      9.061      0.000       5.980       9.282\n",
       "city_vienna                   10.8796      0.560     19.433      0.000       9.782      11.977\n",
       "dayType_weekends               0.0291      0.003      9.483      0.000       0.023       0.035\n",
       "==============================================================================\n",
       "Omnibus:                    18276.474   Durbin-Watson:                   1.773\n",
       "Prob(Omnibus):                  0.000   Jarque-Bera (JB):           179225.886\n",
       "Skew:                           1.419   Prob(JB):                         0.00\n",
       "Kurtosis:                      11.668   Cond. No.                     2.45e+06\n",
       "==============================================================================\n",
       "\n",
       "Notes:\n",
       "[1] Standard Errors assume that the covariance matrix of the errors is correctly specified.\n",
       "[2] The condition number is large, 2.45e+06. This might indicate that there are\n",
       "strong multicollinearity or other numerical problems.\n",
       "\"\"\""
      ]
     },
     "execution_count": 187,
     "metadata": {},
     "output_type": "execute_result"
    }
   ],
   "source": [
    "model4 = sm.OLS(Y2, X3).fit()\n",
    "model4.summary()"
   ]
  },
  {
   "cell_type": "markdown",
   "id": "b2c4da6f-da13-42e4-a601-43df54cf145c",
   "metadata": {},
   "source": [
    "\\textcolor{blue}{Now the adjusted $r^2$ is 0.660! This is a substantial improvement, and in practice would be considered pretty good.}\n",
    "\n",
    "\\textcolor{red}{Note that there is a warning about a large condition number. I'm not sure precisely how it is related to VIF, but my guess is that there is a relationship. What I would do here is first check out the VIFs (which you can do with [VIF function from the statsmodels](https://www.geeksforgeeks.org/detecting-multicollinearity-with-vif-python/)) and then start eliminating variables from the model to see if I could address the issue. You might even get a higher adjusted $r^2$ due to the penalty from additional variables.}"
   ]
  },
  {
   "cell_type": "markdown",
   "id": "d774c434-9208-4032-bac3-44c2bde712bf",
   "metadata": {},
   "source": [
    "26. Redo the diagnostic plots. Is a linear model appropriate?"
   ]
  },
  {
   "cell_type": "code",
   "execution_count": 188,
   "id": "6e8015bd-4b28-4ca5-b714-6ec3f611e454",
   "metadata": {},
   "outputs": [
    {
     "data": {
      "image/png": "[encoded data removed]",
      "text/plain": [
       "<Figure size 640x480 with 1 Axes>"
      ]
     },
     "metadata": {},
     "output_type": "display_data"
    },
    {
     "data": {
      "text/plain": [
       "<ggplot: (367687897)>"
      ]
     },
     "execution_count": 188,
     "metadata": {},
     "output_type": "execute_result"
    }
   ],
   "source": [
    "model4_df = model4.fittedvalues.to_frame(name = 'Fitted')\n",
    "model4_df['Residuals'] = model4.resid\n",
    "\n",
    "(p9.ggplot(model4_df, p9.aes(x = 'Fitted', y = 'Residuals')) +\n",
    " p9.geom_point() +\n",
    " p9.xlab(\"Predicted Price\") +\n",
    " p9.ylab(\"Residuals\"))"
   ]
  },
  {
   "cell_type": "code",
   "execution_count": 189,
   "id": "87a6478e-b6e3-4e31-bb0d-4fae1635adfd",
   "metadata": {},
   "outputs": [
    {
     "data": {
      "image/png": "[encoded data removed]",
      "text/plain": [
       "<Figure size 640x480 with 1 Axes>"
      ]
     },
     "metadata": {},
     "output_type": "display_data"
    },
    {
     "data": {
      "text/plain": [
       "<ggplot: (367698429)>"
      ]
     },
     "execution_count": 189,
     "metadata": {},
     "output_type": "execute_result"
    }
   ],
   "source": [
    "(p9.ggplot(model4_df, p9.aes(x = 'Residuals')) +\n",
    "   p9.geom_histogram(bins = 230) +\n",
    "   p9.xlab(\"Residuals\"))"
   ]
  },
  {
   "cell_type": "code",
   "execution_count": null,
   "id": "041c9a58-4b2f-4fb5-87c8-fa6f1703d124",
   "metadata": {},
   "outputs": [],
   "source": [
    "\\textcolor{blue}{This is even better, the residuals look great! There would be no problem using this linear regression model based on the diagnostic plots.}"
   ]
  },
  {
   "cell_type": "markdown",
   "id": "4b51a7d7-a881-432b-acf5-a5f312d9b2e2",
   "metadata": {},
   "source": [
    "27. Now, look at the summary output. Are any of the variables not significant? Which might you drop?"
   ]
  },
  {
   "cell_type": "code",
   "execution_count": 75,
   "id": "ba64072d-22de-4793-978c-b981e6b973ad",
   "metadata": {},
   "outputs": [],
   "source": []
  },
  {
   "cell_type": "markdown",
   "id": "9eed1431-c634-4345-9373-6df5aa0efbd8",
   "metadata": {},
   "source": [
    "## Logistic Regression\n",
    "\n",
    "Let's switch to practicing logistic regression. Say we are interested in predicting whether or not a host is considered a superhost based on `multi`, `biz`, `cleanliness_rating`, and `guest_satisfaction_overall`. \n",
    "\n",
    "28. First, we need a categorical variable with two levels. View `host_is_superhost`--is this the case?\n"
   ]
  },
  {
   "cell_type": "code",
   "execution_count": 88,
   "id": "1c3e555a-4f8a-4fde-ab54-d766613e13d2",
   "metadata": {},
   "outputs": [
    {
     "data": {
      "text/plain": [
       "0        False\n",
       "1        False\n",
       "2        False\n",
       "3         True\n",
       "4         True\n",
       "         ...  \n",
       "51702    False\n",
       "51703    False\n",
       "51704    False\n",
       "51705    False\n",
       "51706     True\n",
       "Name: host_is_superhost, Length: 51707, dtype: bool"
      ]
     },
     "execution_count": 88,
     "metadata": {},
     "output_type": "execute_result"
    }
   ],
   "source": [
    "AirBnB_prices['host_is_superhost']"
   ]
  },
  {
   "cell_type": "markdown",
   "id": "714e83e6-6fd0-48fe-8ee3-a671b79109f3",
   "metadata": {},
   "source": [
    "\\textcolor{blue}{Yes, it is a binary variable. }"
   ]
  },
  {
   "cell_type": "markdown",
   "id": "2f47fee1-dd62-4609-a358-844157b185b7",
   "metadata": {},
   "source": [
    "29. Save `host_is_superhost` as a new response variable."
   ]
  },
  {
   "cell_type": "code",
   "execution_count": 38,
   "id": "5bd948e6-b1bc-4196-baaa-98f305428edb",
   "metadata": {},
   "outputs": [
    {
     "data": {
      "text/plain": [
       "0        0\n",
       "1        0\n",
       "2        0\n",
       "3        1\n",
       "4        1\n",
       "        ..\n",
       "51702    0\n",
       "51703    0\n",
       "51704    0\n",
       "51705    0\n",
       "51706    1\n",
       "Name: host_is_superhost, Length: 51707, dtype: int64"
      ]
     },
     "execution_count": 38,
     "metadata": {},
     "output_type": "execute_result"
    }
   ],
   "source": [
    "Y4 = AirBnB_prices['host_is_superhost']\n",
    "Y4"
   ]
  },
  {
   "cell_type": "markdown",
   "id": "7fdab220-003b-4880-b41d-67dd3d7ad261",
   "metadata": {},
   "source": [
    "30. Now, save the predictors of interest as new explanatory variables. Don't forget to add the constant!"
   ]
  },
  {
   "cell_type": "code",
   "execution_count": 39,
   "id": "cdf10eee-03fa-44a5-ae79-891ef650ebf0",
   "metadata": {},
   "outputs": [],
   "source": [
    "X4 = AirBnB_prices[['multi', 'biz', 'cleanliness_rating', 'guest_satisfaction_overall']]\n",
    "X4 = sm.add_constant(X4)"
   ]
  },
  {
   "cell_type": "markdown",
   "id": "7c5ee3dd-15b9-47c0-9bdd-4c9613ccbd85",
   "metadata": {
    "tags": []
   },
   "source": [
    "31. Finally, fit the model. You can do this with `statmodels`, you just need `.Logit` instead of `.OLS`."
   ]
  },
  {
   "cell_type": "code",
   "execution_count": 40,
   "id": "7e8d1207-9dbc-4991-a4a0-e9a90967206c",
   "metadata": {},
   "outputs": [
    {
     "name": "stdout",
     "output_type": "stream",
     "text": [
      "Optimization terminated successfully.\n",
      "         Current function value: 0.483455\n",
      "         Iterations 7\n"
     ]
    }
   ],
   "source": [
    "model4 = sm.Logit(Y4, X4).fit()"
   ]
  },
  {
   "cell_type": "markdown",
   "id": "14147d99-6fba-46f4-b486-06b1ac0e985a",
   "metadata": {},
   "source": [
    "32. Investigate the summary. Which variables appear to be important?"
   ]
  },
  {
   "cell_type": "code",
   "execution_count": 43,
   "id": "392c40f2-7d96-41db-bc10-1c7b280e7738",
   "metadata": {},
   "outputs": [
    {
     "data": {
      "text/html": [
       "<table class=\"simpletable\">\n",
       "<caption>Logit Regression Results</caption>\n",
       "<tr>\n",
       "  <th>Dep. Variable:</th>   <td>host_is_superhost</td> <th>  No. Observations:  </th>  <td> 51707</td> \n",
       "</tr>\n",
       "<tr>\n",
       "  <th>Model:</th>                 <td>Logit</td>       <th>  Df Residuals:      </th>  <td> 51702</td> \n",
       "</tr>\n",
       "<tr>\n",
       "  <th>Method:</th>                 <td>MLE</td>        <th>  Df Model:          </th>  <td>     4</td> \n",
       "</tr>\n",
       "<tr>\n",
       "  <th>Date:</th>            <td>Sun, 02 Apr 2023</td>  <th>  Pseudo R-squ.:     </th>  <td>0.1499</td> \n",
       "</tr>\n",
       "<tr>\n",
       "  <th>Time:</th>                <td>08:17:00</td>      <th>  Log-Likelihood:    </th> <td> -24998.</td>\n",
       "</tr>\n",
       "<tr>\n",
       "  <th>converged:</th>             <td>True</td>        <th>  LL-Null:           </th> <td> -29407.</td>\n",
       "</tr>\n",
       "<tr>\n",
       "  <th>Covariance Type:</th>     <td>nonrobust</td>     <th>  LLR p-value:       </th>  <td> 0.000</td> \n",
       "</tr>\n",
       "</table>\n",
       "<table class=\"simpletable\">\n",
       "<tr>\n",
       "               <td></td>                 <th>coef</th>     <th>std err</th>      <th>z</th>      <th>P>|z|</th>  <th>[0.025</th>    <th>0.975]</th>  \n",
       "</tr>\n",
       "<tr>\n",
       "  <th>const</th>                      <td>  -21.2589</td> <td>    0.296</td> <td>  -71.752</td> <td> 0.000</td> <td>  -21.840</td> <td>  -20.678</td>\n",
       "</tr>\n",
       "<tr>\n",
       "  <th>multi</th>                      <td>    0.4431</td> <td>    0.026</td> <td>   17.030</td> <td> 0.000</td> <td>    0.392</td> <td>    0.494</td>\n",
       "</tr>\n",
       "<tr>\n",
       "  <th>biz</th>                        <td>    0.0052</td> <td>    0.027</td> <td>    0.190</td> <td> 0.849</td> <td>   -0.049</td> <td>    0.059</td>\n",
       "</tr>\n",
       "<tr>\n",
       "  <th>cleanliness_rating</th>         <td>    0.8623</td> <td>    0.026</td> <td>   32.629</td> <td> 0.000</td> <td>    0.810</td> <td>    0.914</td>\n",
       "</tr>\n",
       "<tr>\n",
       "  <th>guest_satisfaction_overall</th> <td>    0.1237</td> <td>    0.003</td> <td>   40.331</td> <td> 0.000</td> <td>    0.118</td> <td>    0.130</td>\n",
       "</tr>\n",
       "</table>"
      ],
      "text/plain": [
       "<class 'statsmodels.iolib.summary.Summary'>\n",
       "\"\"\"\n",
       "                           Logit Regression Results                           \n",
       "==============================================================================\n",
       "Dep. Variable:      host_is_superhost   No. Observations:                51707\n",
       "Model:                          Logit   Df Residuals:                    51702\n",
       "Method:                           MLE   Df Model:                            4\n",
       "Date:                Sun, 02 Apr 2023   Pseudo R-squ.:                  0.1499\n",
       "Time:                        08:17:00   Log-Likelihood:                -24998.\n",
       "converged:                       True   LL-Null:                       -29407.\n",
       "Covariance Type:            nonrobust   LLR p-value:                     0.000\n",
       "==============================================================================================\n",
       "                                 coef    std err          z      P>|z|      [0.025      0.975]\n",
       "----------------------------------------------------------------------------------------------\n",
       "const                        -21.2589      0.296    -71.752      0.000     -21.840     -20.678\n",
       "multi                          0.4431      0.026     17.030      0.000       0.392       0.494\n",
       "biz                            0.0052      0.027      0.190      0.849      -0.049       0.059\n",
       "cleanliness_rating             0.8623      0.026     32.629      0.000       0.810       0.914\n",
       "guest_satisfaction_overall     0.1237      0.003     40.331      0.000       0.118       0.130\n",
       "==============================================================================================\n",
       "\"\"\""
      ]
     },
     "execution_count": 43,
     "metadata": {},
     "output_type": "execute_result"
    }
   ],
   "source": [
    "model4.summary()"
   ]
  },
  {
   "cell_type": "markdown",
   "id": "cbb2c751-ed31-4266-9542-06aa3e3b2b92",
   "metadata": {},
   "source": [
    "\\textcolor{blue}{All variables except } `biz` \\textcolor{blue}{have p-values less than 0, so they are all significant predictors of whether the host is a superhost.}"
   ]
  }
 ],
 "metadata": {
  "kernelspec": {
   "display_name": "Python 3 (ipykernel)",
   "language": "python",
   "name": "python3"
  },
  "language_info": {
   "codemirror_mode": {
    "name": "ipython",
    "version": 3
   },
   "file_extension": ".py",
   "mimetype": "text/x-python",
   "name": "python",
   "nbconvert_exporter": "python",
   "pygments_lexer": "ipython3",
   "version": "3.9.13"
  }
 },
 "nbformat": 4,
 "nbformat_minor": 5
}
