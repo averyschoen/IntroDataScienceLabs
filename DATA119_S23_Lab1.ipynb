{
 "cells": [
  {
   "cell_type": "raw",
   "id": "88dfb39f-149f-42a4-937f-cc17cf619cb5",
   "metadata": {},
   "source": [
    "---\n",
    "title: \"DATA 119 S23 Lab 1\"\n",
    "format: pdf\n",
    "---"
   ]
  },
  {
   "cell_type": "markdown",
   "id": "d355450c-2dba-4d0f-85a8-386f94cf18fa",
   "metadata": {},
   "source": [
    "# Lab 1 Goals\n",
    "\n",
    "The goals of this lab are:\n",
    "\n",
    "* To refamiliarize yourself with Jupyter notebooks.\n",
    "* To output a PDF document from a Jupyter notebook.\n",
    "* To practice data cleaning skills, including selecting columns, identifying and removing unusual values, and maintaining a tidy dataset. \n",
    "* To practice calculating summary statistics.\n",
    "* To practice making data visualizations, such as histograms and scatterplots. \n",
    "\n",
    "For this lab, it may be helpful to install and load the following modules: \n",
    "\n",
    "* `numpy`\n",
    "* `pandas` "
   ]
  },
  {
   "cell_type": "code",
   "execution_count": null,
   "id": "ef15ba93-a160-4bba-9949-ff4f9a901a5f",
   "metadata": {},
   "outputs": [],
   "source": [
    "import numpy as np\n",
    "import pandas as pd"
   ]
  },
  {
   "cell_type": "markdown",
   "id": "00f10c82-bfce-4414-afdd-7cdf19b7cf41",
   "metadata": {},
   "source": [
    "We will be using a dataset scraped from the website Epicurious, which curates different recipes. The epi_r.csv file can be found in the Week 1 module on Canvas. Load the dataset, and title it `epicurious`."
   ]
  },
  {
   "cell_type": "code",
   "execution_count": null,
   "id": "5f4dc281-b880-47cc-ae4e-f6603a68dee2",
   "metadata": {},
   "outputs": [],
   "source": [
    "epicurious = pd.read_csv(\"epi_r.csv\")"
   ]
  },
  {
   "cell_type": "markdown",
   "id": "8618402a-b09e-4176-803b-af1922eb4818",
   "metadata": {},
   "source": [
    "# Data Cleaning\n",
    "\n",
    "1. Print the dimensions of the dataset. How many observations are there? How many variables are there?"
   ]
  },
  {
   "cell_type": "code",
   "execution_count": null,
   "id": "d059626d-9312-4e2e-a1ec-5543f7aa091e",
   "metadata": {},
   "outputs": [],
   "source": []
  },
  {
   "cell_type": "markdown",
   "id": "c480dd42-b397-490d-a9bd-7ca64bfdf706",
   "metadata": {},
   "source": []
  },
  {
   "cell_type": "markdown",
   "id": "3293c129-4c9a-48e6-a46d-65f13bd45dbe",
   "metadata": {},
   "source": [
    "2. View the head of the dataset. What kinds of variables do you see?"
   ]
  },
  {
   "cell_type": "code",
   "execution_count": null,
   "id": "6e663abb-8aa4-4b70-a0e2-c33c1fdbc0b3",
   "metadata": {},
   "outputs": [],
   "source": []
  },
  {
   "cell_type": "markdown",
   "id": "e29e96a9-8fd2-409a-9902-8f3080da0cf5",
   "metadata": {},
   "source": []
  },
  {
   "cell_type": "markdown",
   "id": "cd7b7755-fee9-4936-8c53-65da134dbbe7",
   "metadata": {},
   "source": [
    "3. Since so many of the variables are actually binary variables indicating different facts about the recipes, let's discard most of them them for now and focus on the numeric variables. Identify which of the variables are numeric (if you get stuck, check out the [data dictionary](https://www.kaggle.com/datasets/hugodarwood/epirecipes/code)). Save a version of the dataset with only those variables as `epicurious_num`. You should also keep the recipe titles to use later."
   ]
  },
  {
   "cell_type": "code",
   "execution_count": null,
   "id": "c65aaf17-7157-4b19-a33a-e1f539fe5355",
   "metadata": {},
   "outputs": [],
   "source": [
    "epicurious_num = "
   ]
  },
  {
   "cell_type": "markdown",
   "id": "4234ab0f-7ffb-4a77-8387-821a3dc63a0e",
   "metadata": {},
   "source": [
    "4. As you can see, many of these variables have to do with the nutritional information. Compute a table of summary statistics for these variables, including the minimum, first quartile, median, third quartile, maximum, mean, and standard deviation. "
   ]
  },
  {
   "cell_type": "code",
   "execution_count": null,
   "id": "2a22bf64-c1b3-4f31-8a2b-a0b601c8bc74",
   "metadata": {},
   "outputs": [],
   "source": []
  },
  {
   "cell_type": "markdown",
   "id": "0e3f0e84-f5b3-460c-bdb4-b6af098649b8",
   "metadata": {},
   "source": [
    "5. It is also helpful to discuss how many missing values the dataset has. Identify the percentage of missing values in each column. "
   ]
  },
  {
   "cell_type": "code",
   "execution_count": null,
   "id": "05ca9a26-db50-4856-997e-18307c15913d",
   "metadata": {},
   "outputs": [],
   "source": []
  },
  {
   "cell_type": "markdown",
   "id": "1f6d3fcc-f72d-4a6c-be48-9d622d731e54",
   "metadata": {},
   "source": [
    "6. It depends on how many observations you have to begin with, but a general rule of thumb is that if the observations are missing at random (i.e., the reason that they are missing is not tied to any other confounding variable) and less than 10% of the values are missing, you can simply discard the values. Is it appropriate to discard the values in this case? Either way, drop the rows with missing values and save the remaining values in a new data frame called `epicurious_num_2`. "
   ]
  },
  {
   "cell_type": "markdown",
   "id": "48287e80-4fc8-48bb-8d1f-6d5a7b03bb48",
   "metadata": {},
   "source": []
  },
  {
   "cell_type": "code",
   "execution_count": null,
   "id": "4380bd89-03f7-42ef-bed9-670d0f03448d",
   "metadata": {},
   "outputs": [],
   "source": [
    "epicurious_num_2"
   ]
  },
  {
   "cell_type": "markdown",
   "id": "bc8b6e82-837d-478b-8c0d-a453d98c9e69",
   "metadata": {},
   "source": [
    "7. Now, take a closer look at the summary statistics. What are the means for calories, protein, fat, and sodium? Do a quick Google search to try and identify what reasonable values for those variables might be. "
   ]
  },
  {
   "cell_type": "code",
   "execution_count": null,
   "id": "ff9d4d0d-5a78-4bf7-8ed2-2a4ff05ab9b9",
   "metadata": {},
   "outputs": [],
   "source": []
  },
  {
   "cell_type": "markdown",
   "id": "c0d4ce57-a195-477d-9fe0-1302992e27bb",
   "metadata": {},
   "source": []
  },
  {
   "cell_type": "markdown",
   "id": "0584fe2e-12e1-468f-918b-ebcefaadf7f3",
   "metadata": {},
   "source": [
    "# Making Plots\n",
    "\n",
    "## `plotnine`\n",
    "\n",
    "8. For this class, I want to try using the `plotnine` module for creating visualizations. Install and load the `plotnine` module (you may want to use the alias `p9`)."
   ]
  },
  {
   "cell_type": "code",
   "execution_count": null,
   "id": "aba06a8e-db34-4c0d-902c-d5fbe34f7495",
   "metadata": {},
   "outputs": [],
   "source": [
    "import plotnine as p9"
   ]
  },
  {
   "cell_type": "markdown",
   "id": "db99dcd8-fdba-4930-937b-9f1de1d407eb",
   "metadata": {},
   "source": [
    "`plotnine` is based off of `ggplot2`, part of Hadley Wickham's work on the `tidyverse` in R (in which tidy data plays a large role).`ggplot2` is a \"system for declaratively creating graphics\". Here is the basic idea: You, as the user, tell `ggplot2` or `plotnine` what data to use, how to map the variables to the different aesthetics (encoding channels) of the graph, and what type of graph you need--`ggplot2` takes care of the rest! \n",
    "\n",
    "First, we start by providing the data and mapping the variables to the graph's aesthetics. This means that we are defining things like what's on the $x$-axis or what color the graph is, among many others. \n",
    "\n",
    "A sample line of code for investigating the average ratings of the different recipes appears inside the box below. Note that the functions `ggplot()` and `aes()` come from `plotnine`-- the data frame comes first, then the aesthetics of the graph are defined with `aes()`. "
   ]
  },
  {
   "cell_type": "code",
   "execution_count": null,
   "id": "69adf6a1-4c25-4462-8522-eea515b457a2",
   "metadata": {},
   "outputs": [],
   "source": [
    "(p9.ggplot(epicurious_num_2, p9.aes(x = 'rating')))"
   ]
  },
  {
   "cell_type": "markdown",
   "id": "8a022920-7558-44ce-aeb7-74839c9c872a",
   "metadata": {},
   "source": [
    "## Histograms\n",
    "\n",
    "If you run this chunk, a big, nearly blank box appears--there is no actual graph, but we can see that the `height` variable is now located on the $x$-axis. There's nothing there because we haven't added a **geom** yet. A geom is a command representing the type of plot we want. To add a histogram, we use `+ geom_histogram()` from `plotnine`. "
   ]
  },
  {
   "cell_type": "code",
   "execution_count": null,
   "id": "2f83d63b-c01b-4c2c-8c67-6f0f38cfc6dc",
   "metadata": {},
   "outputs": [],
   "source": [
    "(p9.ggplot(epicurious_num_2, p9.aes(x = 'rating')) \n",
    " + p9.geom_histogram())"
   ]
  },
  {
   "cell_type": "markdown",
   "id": "a96cee55-8094-4e7a-a5fe-8961f41a17c6",
   "metadata": {},
   "source": [
    "9. Do you see a warning message saying \"`stat_bin() using bins = 30. Pick better value with binwidth`\"? This error is unique to `geom_histogram()`. To fix the warning, we can change the number of bins by adding a new argument, `bins = 10`, into the \"`geom_histogram()`\" function. "
   ]
  },
  {
   "cell_type": "code",
   "execution_count": null,
   "id": "026a9ba8-45a6-448c-86fa-a0971df4f78a",
   "metadata": {},
   "outputs": [],
   "source": [
    "(p9.ggplot(epicurious_num_2, p9.aes(x = 'rating')) \n",
    " + p9.geom_histogram())"
   ]
  },
  {
   "cell_type": "markdown",
   "id": "3d760882-7dde-4d9a-b4d1-ff6c64fbaa71",
   "metadata": {},
   "source": [
    "10. What happens to the histogram? Would you describe it in the same way as you described your first histogram? Are there any differences?\n",
    "\n"
   ]
  },
  {
   "cell_type": "markdown",
   "id": "f268b07f-e046-4c05-af96-fac4aa220d94",
   "metadata": {},
   "source": []
  },
  {
   "cell_type": "markdown",
   "id": "f8dd414a-6487-43fc-a945-6286c168483d",
   "metadata": {},
   "source": [
    "You can also avoid the message by specifying the `binwidth` instead of `bins`. There is a direct relationship between the bin width and the number of bins, so setting one also fixes the other. In general, increasing the number of bins leads to narrower wins, and decreasing the number of bins leads to wider bins.\n",
    "\n",
    "11. Instead of creating a histogram with 10 bins, create a histogram where the bin width is 0.5. "
   ]
  },
  {
   "cell_type": "code",
   "execution_count": null,
   "id": "e9cd940b-9a05-43f9-910f-4f1905f23dd2",
   "metadata": {},
   "outputs": [],
   "source": [
    "(p9.ggplot(epicurious_num_2, p9.aes(x = 'rating')) \n",
    " + p9.geom_histogram(bins = 10))"
   ]
  },
  {
   "cell_type": "markdown",
   "id": "518839d2-4cf4-4b70-9dc9-1480b79a798e",
   "metadata": {},
   "source": [
    "Notice that on the $y$-axis, we are displaying the counts of the observations in each bin. We can change this to instead display the frequency by adding another argument to `ggplot()`."
   ]
  },
  {
   "cell_type": "code",
   "execution_count": null,
   "id": "8ad34b4f-e685-47dc-a512-a862b2f3172d",
   "metadata": {},
   "outputs": [],
   "source": [
    "(p9.ggplot(epicurious_num_2, p9.aes(x = 'rating', y=p9.after_stat('density'))) \n",
    " + p9.geom_histogram(binwidth = 0.5))"
   ]
  },
  {
   "cell_type": "markdown",
   "id": "0dbc9e43-c3e3-4242-af53-2c1012b89485",
   "metadata": {},
   "source": [
    "Now, let's actually add a density--"
   ]
  },
  {
   "cell_type": "code",
   "execution_count": null,
   "id": "0b28058a-592d-45e8-a4b3-265fb768013a",
   "metadata": {},
   "outputs": [],
   "source": [
    "(p9.ggplot(epicurious_num_2, p9.aes(x = 'rating', y=p9.after_stat('density'))) \n",
    " + p9.geom_histogram(binwidth = 0.5) \n",
    " + p9.geom_density())"
   ]
  },
  {
   "cell_type": "markdown",
   "id": "fdde418a-6389-4b11-aa00-e245a9241181",
   "metadata": {},
   "source": [
    "We can see two things from this latest graph--\n",
    "\n",
    "1. There is a relationship between a histogram and a density plot! When created from the same dataset, they should show roughly the same shape. \n",
    "2. You can add multiple geoms to a graph! In fact, this is how we build the graphs--by supplying the dataset and variable mapping in the first `ggplot()` command, then by adding different things using different geoms. In this case, we added both a histogram (`geom_histogram()`) and a density (`geom_density()`). "
   ]
  },
  {
   "cell_type": "markdown",
   "id": "8075cdcc-7922-4d4c-bd03-5d646fd66a13",
   "metadata": {},
   "source": [
    "12. Now, try creating your own combination histogram/density plot for the variable `calories`. Describe the distribution. \n"
   ]
  },
  {
   "cell_type": "code",
   "execution_count": null,
   "id": "55823810-6b83-48ff-962d-497f8808b4ae",
   "metadata": {},
   "outputs": [],
   "source": [
    "(p9.ggplot(epicurious_num_2, p9.aes(x = , y = )) \n",
    " + p9.geom \n",
    " + p9.geom)"
   ]
  },
  {
   "cell_type": "markdown",
   "id": "f0b0c4a6-8b29-47aa-98bc-93a49489ea34",
   "metadata": {},
   "source": [
    "13. Hopefully you have arrived at the conclusion that some of these values seem very unreasonable. Let's take a closer look--create histograms for each of the other numeric variables. Make sure that you are able to write reasonable captions for each plot. What do you see?"
   ]
  },
  {
   "cell_type": "code",
   "execution_count": null,
   "id": "0af62d06-7a2b-4912-9748-f2593c00d0fa",
   "metadata": {},
   "outputs": [],
   "source": []
  },
  {
   "cell_type": "markdown",
   "id": "90999a7f-4f2c-4fec-bc54-081e932f027c",
   "metadata": {},
   "source": [
    "14. Between the mean and the histograms, you should be able to see that the distributions are being skewed by a handful of extreme values. Find the top ten largest values for `calories`, `protein`, `fat`, and `sodium`. Which recipes do they correspond to? Does the calorie count make sense knowing what the recipes were for?"
   ]
  },
  {
   "cell_type": "code",
   "execution_count": null,
   "id": "cef526e2-0e8e-4cf2-a7d2-61dc3f50995b",
   "metadata": {},
   "outputs": [],
   "source": []
  },
  {
   "cell_type": "markdown",
   "id": "3bce00e4-d409-4f35-8bf6-02779d33b72b",
   "metadata": {},
   "source": []
  },
  {
   "cell_type": "markdown",
   "id": "691f71c4-f040-4315-ae3f-d635eaa0955f",
   "metadata": {},
   "source": [
    "15. Now, remove the rows containing those values. Save the remaining values in a new data frame called `epicurious_num_3`. Remake the histograms and note the changes in the distributions. "
   ]
  },
  {
   "cell_type": "code",
   "execution_count": null,
   "id": "1fe5dab6-8583-43f8-8ecf-bb1e62839787",
   "metadata": {},
   "outputs": [],
   "source": [
    "epicurious_num_3 = "
   ]
  },
  {
   "cell_type": "markdown",
   "id": "b004c042-d2ce-4933-a901-05a6d2587dbd",
   "metadata": {},
   "source": [
    "## Scatterplots\n",
    "\n",
    "16. Let's continue to the last type of graph we will review for this lab, the scatterplot. This time, try using the [ggplot2 cheat sheet](https://rstudio.com/wp-content/uploads/2015/03/ggplot2-cheatsheet.pdf) to look up the appropriate geom you need (the cheat sheet is written from R, but you should be able to convert to Python relatively easily). Create a plot displaying the relationship between `calories` and `fat`. Notice that unlike the other plots we have created, such as histograms and densities, you *have* to supply an `x` and a `y` aesthetic. Remember that $x$ is traditionally the explanatory variable and $y$ is traditionally the response--which one makes sense to use as the explanatory variable here?\n"
   ]
  },
  {
   "cell_type": "markdown",
   "id": "77e0b1a0-1842-4149-ab92-c415a5a3365b",
   "metadata": {},
   "source": [
    "*Adding fatty ingredients (or more of a particular fatty ingredient) increases the calories, so it makes sense to have `fat` on the $x$-axis.*"
   ]
  },
  {
   "cell_type": "code",
   "execution_count": null,
   "id": "e7f912e3-2d1a-464e-916e-50b50c1c35fe",
   "metadata": {},
   "outputs": [],
   "source": [
    "(p9.ggplot(epicurious_num_3, p9.aes(x = , y = )) \n",
    " + p9.geom())\n"
   ]
  },
  {
   "cell_type": "markdown",
   "id": "8105fb48-e667-4364-907e-9fc239853d2e",
   "metadata": {},
   "source": [
    "17. Describe this relationship in terms of its form, direction, strength, and unusual values. Google the relationship between calories and fat. Does this plot make sense in light of what we know about those two variables?"
   ]
  },
  {
   "cell_type": "markdown",
   "id": "58e9df0c-719d-441a-bafe-e7772bb6612a",
   "metadata": {},
   "source": []
  },
  {
   "cell_type": "markdown",
   "id": "69417e8c-ef90-4145-b4bd-7be61e4612c1",
   "metadata": {},
   "source": [
    "18. Let's get a little fancier. Now try adding a `color = \"red\"` argument to the `geom_point()` statement. "
   ]
  },
  {
   "cell_type": "code",
   "execution_count": null,
   "id": "d95e7bbc-9015-481c-a9fd-aa0c75e49cb3",
   "metadata": {},
   "outputs": [],
   "source": [
    "(p9.ggplot(epicurious_num_3, p9.aes(x = 'fat', y = 'calories')) \n",
    " + p9.geom_point())"
   ]
  },
  {
   "cell_type": "markdown",
   "id": "f6a9fb62-e041-4ff5-be28-8abc1bdf8998",
   "metadata": {},
   "source": [
    "19. This looks kind of messy, but you should have managed to change the color! Now try changing the color to something different. You might be able to use this [R color guide](http://www.stat.columbia.edu/~tzheng/files/Rcolor.pdf) to look up the available colors--but I haven't tested all of them to see if they work in Python, so no promises.\n"
   ]
  },
  {
   "cell_type": "code",
   "execution_count": null,
   "id": "7bbf3333-b302-417c-b5dd-22908d821c38",
   "metadata": {},
   "outputs": [],
   "source": [
    "(p9.ggplot(epicurious_num_3, p9.aes(x = 'fat', y = 'calories')) \n",
    " + p9.geom_point(color = \"red\"))"
   ]
  },
  {
   "cell_type": "markdown",
   "id": "511f5147-f69d-4fcd-987b-5752dcd66fbe",
   "metadata": {},
   "source": [
    "On your assignments, you can pick whatever color you want! But in addition, you can change the color according to another variable for an additional encoding channel. To do this, you can change the `color` argument to be the name of a variable inside the `aes()` statement (rather than inside the geom).\n",
    "\n",
    "20. Based on the following chunk, color the points according their average rating.\n"
   ]
  },
  {
   "cell_type": "code",
   "execution_count": null,
   "id": "4c1cc620-85be-40d6-9a38-9a6d39140096",
   "metadata": {},
   "outputs": [],
   "source": [
    "(p9.ggplot(epicurious_num_3, p9.aes(x = 'fat', y = 'calories')) \n",
    " + p9.geom_point(color = \"red\"))"
   ]
  },
  {
   "cell_type": "markdown",
   "id": "98500356-c909-4e2c-891e-45656bb97e11",
   "metadata": {},
   "source": [
    "21. Does knowing the `rating` in the recipe add any additional information to the relationship?"
   ]
  },
  {
   "cell_type": "markdown",
   "id": "2227d68e-7010-4975-83fe-7df346d39d72",
   "metadata": {},
   "source": []
  },
  {
   "cell_type": "markdown",
   "id": "afc4da03-a5b9-4516-8315-d5ea716e800d",
   "metadata": {},
   "source": [
    "22. Now create a scatterplot beween `calories` and `protein`. Describe this relationship in terms of its form, direction, strength, and unusual values. Does *this* plot make sense in light of what we know about those two variables?"
   ]
  },
  {
   "cell_type": "code",
   "execution_count": null,
   "id": "918f0356-5063-4c3d-9839-bc29228ce071",
   "metadata": {},
   "outputs": [],
   "source": [
    "(p9.ggplot(p9.aes(x = , y = )) \n",
    "+ geom())"
   ]
  },
  {
   "cell_type": "markdown",
   "id": "ea2474ea-ed76-4eb0-a2c5-daad8c5882b4",
   "metadata": {},
   "source": []
  },
  {
   "cell_type": "markdown",
   "id": "88cbcbb9-accc-4a31-b5b0-81a9e6369273",
   "metadata": {},
   "source": [
    "23. Finally, create a scatterplot between `calories` and `average rating`. Describe this relationship in terms of its form, direction, strength, and unusual values. If time allows, try experimenting with various aesthetics like color, size, etc. You can also try changing the title, labels, and font size. "
   ]
  },
  {
   "cell_type": "code",
   "execution_count": null,
   "id": "5c44984f-7aea-44b9-bb3b-f3fe8a9f6354",
   "metadata": {},
   "outputs": [],
   "source": [
    "(p9.ggplot())"
   ]
  },
  {
   "cell_type": "markdown",
   "id": "2336db77-9bdc-4fe0-8628-c405f613d8f7",
   "metadata": {},
   "source": []
  },
  {
   "cell_type": "code",
   "execution_count": null,
   "id": "6cfed996-26f7-41e1-a012-c24bdae970d1",
   "metadata": {},
   "outputs": [],
   "source": []
  }
 ],
 "metadata": {
  "kernelspec": {
   "display_name": "Python 3 (ipykernel)",
   "language": "python",
   "name": "python3"
  },
  "language_info": {
   "codemirror_mode": {
    "name": "ipython",
    "version": 3
   },
   "file_extension": ".py",
   "mimetype": "text/x-python",
   "name": "python",
   "nbconvert_exporter": "python",
   "pygments_lexer": "ipython3",
   "version": "3.9.13"
  }
 },
 "nbformat": 4,
 "nbformat_minor": 5
}
