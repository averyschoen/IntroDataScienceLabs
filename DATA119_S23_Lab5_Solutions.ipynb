{
 "cells": [
  {
   "cell_type": "raw",
   "id": "6880c48c-16aa-439b-a4be-b327f6c8f2d5",
   "metadata": {},
   "source": [
    "---\n",
    "title: \"DATA 119 S23 Lab 5 Solutions\"\n",
    "name: \"Amy Nussbaum\"\n",
    "format: pdf\n",
    "---"
   ]
  },
  {
   "cell_type": "markdown",
   "id": "8371df1e-7ec6-4da4-ae3e-be72208e8211",
   "metadata": {},
   "source": [
    "# Lab 5 Goals\n",
    "\n",
    "The goals of this lab are:\n",
    "\n",
    "* To implement leave-one-out and $K$-fold cross validation in a regression setting. \n",
    "* To select a tuning parameter and apply ridge regression to the datasets used for regression. \n",
    "\n",
    "For this lab, it may be helpful to install and load the following modules:\n",
    " \n",
    "* `numpy`\n",
    "* `pandas`\n",
    "* `plotnine`\n",
    "* `random`\n",
    "* `sklearn`"
   ]
  },
  {
   "cell_type": "code",
   "execution_count": 1,
   "id": "ebc16586-f9b8-45ec-8564-14b216d1923d",
   "metadata": {},
   "outputs": [],
   "source": [
    "import numpy as np\n",
    "import pandas as pd\n",
    "import plotnine as p9\n",
    "import random\n",
    "import sklearn"
   ]
  },
  {
   "cell_type": "markdown",
   "id": "a7d689bf-8e7b-47a9-b554-74be4f57d564",
   "metadata": {},
   "source": [
    "We will be using the AirBnB prices dataset from Homeworks 1 and 2. Refresh yourself on the variables it includes by reading the [Kaggle documentation](https://www.kaggle.com/datasets/thedevastator/airbnb-prices-in-european-cities) as well as the [documentation from the original source, Zenodo.](https://zenodo.org/record/4446043#.ZCTMTezMK3J) Now that you know how it should be cleaned, you can download the full dataset from Canvas and upload it. "
   ]
  },
  {
   "cell_type": "code",
   "execution_count": 2,
   "id": "6988c2d6-31e0-4916-810c-f4c48a64d62d",
   "metadata": {},
   "outputs": [],
   "source": [
    "AirBnB_prices = pd.read_csv(\"AirBnB_prices.csv\")"
   ]
  },
  {
   "cell_type": "markdown",
   "id": "1d09b924-1c4e-46b1-b6a4-8b2a5e6d0167",
   "metadata": {},
   "source": [
    "# Exploratory Data Analysis\n",
    "\n",
    "1. We've looked at this dataset in class, but you haven't necessarily explored it by yourself. Take some time to look at summary statistics and distributions of each of the variables. Now might also be a good time to identify categorical variables and convert them to indicators--remember that price is named `realSum` and `room_type` already has been converted into indicators for `room_shared` and `room_private`. "
   ]
  },
  {
   "cell_type": "code",
   "execution_count": 3,
   "id": "f54b9817-c1a5-4c42-9f3d-204435787594",
   "metadata": {},
   "outputs": [],
   "source": [
    "AirBnB_prices.describe()\n",
    "\n",
    "AirBnB_prices = pd.get_dummies(AirBnB_prices, columns = ['city', 'dayType'])"
   ]
  },
  {
   "cell_type": "markdown",
   "id": "2c0de8e3-bc9a-447a-adda-01cbbea70134",
   "metadata": {},
   "source": [
    "\\textcolor{blue}{I haven't included them here for space concerns, but when you write your reports for the project, you should be looking at graphs for the variables as well!}\n",
    "\n",
    "## Cross Validation\n",
    "\n",
    "2. We have been using `statsmodels` for the extra information packaged into the `.summary()` output, but we should also familiarize ourself with the `sklearn` syntax. First, save the predictors as `X` (don't forget you don't need the normalized and unnormalized predictors, and you only need $k-1$ of each of the indicators), and save the log of `realSum` as `Y`. "
   ]
  },
  {
   "cell_type": "code",
   "execution_count": 4,
   "id": "8cfb0d3a-40c6-4f7c-aa3d-bdb4b3a897d1",
   "metadata": {},
   "outputs": [],
   "source": [
    "X = AirBnB_prices[['room_shared', 'room_private', 'person_capacity', 'host_is_superhost', \n",
    "                   'multi', 'biz', 'cleanliness_rating', 'guest_satisfaction_overall', \n",
    "                   'bedrooms', 'dist', 'metro_dist', 'attr_index', 'rest_index', 'lng', \n",
    "                   'lat', 'city_athens', 'city_barcelona', 'city_berlin', 'city_budapest',\n",
    "                   'city_lisbon', 'city_london', 'city_paris', 'city_rome', 'city_vienna',\n",
    "                   'dayType_weekends']]\n",
    "\n",
    "Y = np.log(AirBnB_prices['realSum'])"
   ]
  },
  {
   "cell_type": "markdown",
   "id": "6a6fb4fb-54a3-4dde-94f6-63b4cf87b838",
   "metadata": {},
   "source": [
    "3. Now, review the documentation for [`sklearn`'s `LinearRegression`](https://scikit-learn.org/stable/modules/generated/sklearn.linear_model.LinearRegression.html). Fit the model and print out the coefficients--make sure you know how to add the intercept, since we did not add a constant! "
   ]
  },
  {
   "cell_type": "code",
   "execution_count": 5,
   "id": "23fe3b0b-56d9-436d-a751-0ccd1dbca979",
   "metadata": {},
   "outputs": [
    {
     "name": "stdout",
     "output_type": "stream",
     "text": [
      "[-8.21436278e-01 -4.15544477e-01  8.94419513e-02  1.80697042e-02\n",
      "  4.91204036e-02  1.12511760e-01  3.81924679e-02  8.87545475e-04\n",
      "  1.48753965e-01 -2.68552690e-02 -8.19214414e-03  3.81933195e-04\n",
      "  9.65956730e-05 -9.77567881e-01  1.37121997e-01  1.88387596e+01\n",
      " -1.86443305e+00  7.70097552e+00  1.31609537e+01 -1.28333761e+01\n",
      " -5.25367794e+00 -2.52387614e+00  7.63096377e+00  1.08796229e+01\n",
      "  2.90616719e-02]\n",
      "3.002292439088295\n"
     ]
    }
   ],
   "source": [
    "model0 = sklearn.linear_model.LinearRegression(fit_intercept = True).fit(X, Y)\n",
    "print(model0.coef_)\n",
    "print(model0.intercept_)"
   ]
  },
  {
   "cell_type": "markdown",
   "id": "326b6615-99cf-468a-a5e7-41ef514fe66f",
   "metadata": {},
   "source": [
    "\\textcolor{blue}{These are the coefficients written in the order they appear in the set of features } `X`\\textcolor{blue}{, plus the intercept extracted with a separate line of code.}\n",
    "\n",
    "4. Now, see if you can use `.predict()` to get the predicted values (save them as `preds0`)."
   ]
  },
  {
   "cell_type": "code",
   "execution_count": 6,
   "id": "097be347-ca7b-4815-b6ed-0ae49c5c2628",
   "metadata": {},
   "outputs": [],
   "source": [
    "preds0 = model0.predict(X)"
   ]
  },
  {
   "cell_type": "markdown",
   "id": "3a15e510-7a8c-413d-a211-0a805c6a5222",
   "metadata": {},
   "source": [
    "5. Remember that for cross validation we want to get the errors for each observation and then \"aggregate\" them somehow. \"Aggregate\" in this context just means combine in a meaningful way--for cross validation with a numeric response, this often just means taking the sum of the squared errors (a.k.a., the loss function for ordinary least squares). We aren't cross validating just yet, but practice calculating this quantity with your existing model. "
   ]
  },
  {
   "cell_type": "code",
   "execution_count": 7,
   "id": "c47c4f27-a3b0-4416-bcb3-5e0d587a0eaa",
   "metadata": {},
   "outputs": [
    {
     "data": {
      "text/plain": [
       "6253.32302766854"
      ]
     },
     "execution_count": 7,
     "metadata": {},
     "output_type": "execute_result"
    }
   ],
   "source": [
    "resids0 = Y-preds0\n",
    "resids0_2 = resids0**2\n",
    "resids0_2.sum()"
   ]
  },
  {
   "cell_type": "markdown",
   "id": "af1e626f-529e-4922-93f0-3d17d4117f4a",
   "metadata": {},
   "source": [
    "### Leave-One-Out Cross Validation\n",
    "\n",
    "Now, let's consider leave-one-out cross validation. In this context, we will leave out one row of the dataframe at a time, use the remaining rows to fit a linear regression model, and use that model to predict the response for the left-out row. We'll save that value, put the row back in, and repeat the process for the rest of the dataset. \n",
    "\n",
    "6. First, use the `drop()` and `.loc()` methods from `pandas` to split the dataset into two smaller datasets of the predictors--a dataframe called `Xrows_out` and a dataframe called `Xrows_in`. Leave the first row out and examine the datasets to make sure they have 1 row and $n-1$ rows, respectively."
   ]
  },
  {
   "cell_type": "code",
   "execution_count": 8,
   "id": "b4bbb812-8770-40a3-92ee-dfeba348ddaa",
   "metadata": {},
   "outputs": [
    {
     "data": {
      "text/plain": [
       "(51706, 25)"
      ]
     },
     "execution_count": 8,
     "metadata": {},
     "output_type": "execute_result"
    }
   ],
   "source": [
    "Xrows_out = X.loc[1]\n",
    "Xrows_in = X.drop(1)\n",
    "\n",
    "Xrows_out.shape\n",
    "Xrows_in.shape"
   ]
  },
  {
   "cell_type": "markdown",
   "id": "33fc75db-ded4-43a9-bfa8-ac40379859d7",
   "metadata": {},
   "source": [
    "7. Note that `Xrows_out` is no longer a dataframe. This will cause issues later, so take a minute to familiarize yourself with the code to turn it back into a dataframe. "
   ]
  },
  {
   "cell_type": "code",
   "execution_count": 9,
   "id": "82ac06b3-4cc2-42b0-89ee-c147afd101e4",
   "metadata": {},
   "outputs": [],
   "source": [
    "Xrows_out = Xrows_out.to_frame().transpose()"
   ]
  },
  {
   "cell_type": "markdown",
   "id": "b451233e-8825-4a74-979e-325f4743b08e",
   "metadata": {},
   "source": [
    "8. Repeat Step 6. for the response `Y`. "
   ]
  },
  {
   "cell_type": "code",
   "execution_count": 10,
   "id": "0f810592-5611-48c0-b325-bbccba8e6d22",
   "metadata": {},
   "outputs": [
    {
     "data": {
      "text/plain": [
       "(51706,)"
      ]
     },
     "execution_count": 10,
     "metadata": {},
     "output_type": "execute_result"
    }
   ],
   "source": [
    "Yrows_out = Y.loc[1]\n",
    "Yrows_in = Y.drop(1)\n",
    "\n",
    "Yrows_out\n",
    "Yrows_in.shape"
   ]
  },
  {
   "cell_type": "markdown",
   "id": "edbe06f6-f10b-4469-adcf-ddb90ea3b11c",
   "metadata": {},
   "source": [
    "9. Using your code from 3., fit the model with the bigger of the two datasets. "
   ]
  },
  {
   "cell_type": "code",
   "execution_count": 11,
   "id": "578d6d1a-c87c-409a-b834-e78efbd83ce5",
   "metadata": {},
   "outputs": [],
   "source": [
    "model1 = sklearn.linear_model.LinearRegression(fit_intercept = True).fit(Xrows_in, Yrows_in)"
   ]
  },
  {
   "cell_type": "markdown",
   "id": "da780a4c-c9dc-4203-ae7c-ee4f737a5d0a",
   "metadata": {},
   "source": [
    "10. Now, predict the response for the left out row (use code from Step 4). I saved mine as `pred1`."
   ]
  },
  {
   "cell_type": "code",
   "execution_count": 12,
   "id": "e81d5c42-d365-4c64-b57d-72f72a3ca590",
   "metadata": {},
   "outputs": [],
   "source": [
    "pred1 = model1.predict(Xrows_out)"
   ]
  },
  {
   "cell_type": "markdown",
   "id": "d5171d30-3943-4037-b05f-55898986cb85",
   "metadata": {},
   "source": [
    "11. Now, find the residual for the left out observation and square it. "
   ]
  },
  {
   "cell_type": "code",
   "execution_count": 13,
   "id": "f89675f8-d9c9-423e-b6dd-448aa0036091",
   "metadata": {},
   "outputs": [
    {
     "data": {
      "text/plain": [
       "array([0.04221133])"
      ]
     },
     "execution_count": 13,
     "metadata": {},
     "output_type": "execute_result"
    }
   ],
   "source": [
    "resid1 = Yrows_out - pred1\n",
    "resid1**2"
   ]
  },
  {
   "cell_type": "markdown",
   "id": "7656c9af-d458-4f57-8fad-c845259461b9",
   "metadata": {},
   "source": [
    "12. You have the general steps down! Now, combine Steps 6 - 11 into a loop. Make sure to create an empty object to save the squared residuals in and save them in each iteration. "
   ]
  },
  {
   "cell_type": "code",
   "execution_count": 14,
   "id": "f42e92ad-fc9e-47ed-8ecb-6e6354c47fd4",
   "metadata": {},
   "outputs": [],
   "source": [
    "resids_LOO = []\n",
    "\n",
    "for i in range(X.shape[0]):\n",
    "  Xrows_out = X.loc[i].to_frame().transpose()\n",
    "  Xrows_in = X.drop(i)\n",
    "\n",
    "  Yrows_out = Y.loc[i]\n",
    "  Yrows_in = Y.drop(i)\n",
    "\n",
    "  modelLOO = sklearn.linear_model.LinearRegression(fit_intercept = True).fit(Xrows_in, Yrows_in)\n",
    "\n",
    "  predLOO = modelLOO.predict(Xrows_out)\n",
    "\n",
    "  residLOO = Yrows_out - predLOO\n",
    "  resids_LOO.append(residLOO.item()**2)"
   ]
  },
  {
   "cell_type": "markdown",
   "id": "f8f528bc-f073-490c-be15-944fbb0ca92e",
   "metadata": {},
   "source": [
    "13. Take the sum of the squared residuals. Now, you can compare this value to similar cross-validated scores from other models! \n"
   ]
  },
  {
   "cell_type": "code",
   "execution_count": 20,
   "id": "1b83538c-a721-49c9-af82-f3f60b59a480",
   "metadata": {},
   "outputs": [
    {
     "data": {
      "text/plain": [
       "6261.117972494781"
      ]
     },
     "execution_count": 20,
     "metadata": {},
     "output_type": "execute_result"
    }
   ],
   "source": [
    "sum(resids_LOO)"
   ]
  },
  {
   "cell_type": "markdown",
   "id": "de314a8c-7cd7-481c-b4c5-3c56cd6a2b54",
   "metadata": {},
   "source": [
    "### $K$-Fold Cross Validation\n",
    "\n",
    "You've probably noticed that while it takes a neglible amount of time to fit one linear regression model, it takes quite a bit longer to fit 50,000+ of them. This is a perfect example of why you might prefer $K$-Fold Cross Validation, where $K$ is usually 5 or 10. With the exception of a few minor details, the code is extremely similar--let's proceed with 5-Fold CV. \n",
    "\n",
    "14. First, run the following lines of code. Can you figure out what this does?"
   ]
  },
  {
   "cell_type": "code",
   "execution_count": 21,
   "id": "b4553022-4ce2-4f66-8888-694cd759a9b5",
   "metadata": {},
   "outputs": [],
   "source": [
    "n = AirBnB_prices.shape[0]\n",
    "\n",
    "Xrows_out = X.loc[range(0, round(n/5) - 1)]\n",
    "Xrows_in = X.drop(range(0, round(n/5) - 1))"
   ]
  },
  {
   "cell_type": "markdown",
   "id": "af5c4edb-c342-43b0-9ffa-bb008e74d7f3",
   "metadata": {},
   "source": [
    "\\textcolor{blue}{This line of code takes the first 20\\% of rows for Fold 1, and leaves the remaining 80\\% of rows for training the first model.}\n",
    "\n",
    "15. Now, run these new lines of code. What's wrong with choosing the first fold in this way?"
   ]
  },
  {
   "cell_type": "code",
   "execution_count": 22,
   "id": "5782f555-176e-407a-918a-7c1b368e2970",
   "metadata": {},
   "outputs": [
    {
     "data": {
      "text/html": [
       "<div>\n",
       "<style scoped>\n",
       "    .dataframe tbody tr th:only-of-type {\n",
       "        vertical-align: middle;\n",
       "    }\n",
       "\n",
       "    .dataframe tbody tr th {\n",
       "        vertical-align: top;\n",
       "    }\n",
       "\n",
       "    .dataframe thead th {\n",
       "        text-align: right;\n",
       "    }\n",
       "</style>\n",
       "<table border=\"1\" class=\"dataframe\">\n",
       "  <thead>\n",
       "    <tr style=\"text-align: right;\">\n",
       "      <th></th>\n",
       "      <th>room_shared</th>\n",
       "      <th>room_private</th>\n",
       "      <th>person_capacity</th>\n",
       "      <th>host_is_superhost</th>\n",
       "      <th>multi</th>\n",
       "      <th>biz</th>\n",
       "      <th>cleanliness_rating</th>\n",
       "      <th>guest_satisfaction_overall</th>\n",
       "      <th>bedrooms</th>\n",
       "      <th>dist</th>\n",
       "      <th>...</th>\n",
       "      <th>city_athens</th>\n",
       "      <th>city_barcelona</th>\n",
       "      <th>city_berlin</th>\n",
       "      <th>city_budapest</th>\n",
       "      <th>city_lisbon</th>\n",
       "      <th>city_london</th>\n",
       "      <th>city_paris</th>\n",
       "      <th>city_rome</th>\n",
       "      <th>city_vienna</th>\n",
       "      <th>dayType_weekends</th>\n",
       "    </tr>\n",
       "  </thead>\n",
       "  <tbody>\n",
       "    <tr>\n",
       "      <th>51702</th>\n",
       "      <td>False</td>\n",
       "      <td>False</td>\n",
       "      <td>6</td>\n",
       "      <td>False</td>\n",
       "      <td>0</td>\n",
       "      <td>1</td>\n",
       "      <td>10</td>\n",
       "      <td>100</td>\n",
       "      <td>3</td>\n",
       "      <td>0.530181</td>\n",
       "      <td>...</td>\n",
       "      <td>0</td>\n",
       "      <td>0</td>\n",
       "      <td>0</td>\n",
       "      <td>0</td>\n",
       "      <td>0</td>\n",
       "      <td>0</td>\n",
       "      <td>0</td>\n",
       "      <td>0</td>\n",
       "      <td>1</td>\n",
       "      <td>1</td>\n",
       "    </tr>\n",
       "    <tr>\n",
       "      <th>51703</th>\n",
       "      <td>False</td>\n",
       "      <td>False</td>\n",
       "      <td>2</td>\n",
       "      <td>False</td>\n",
       "      <td>0</td>\n",
       "      <td>0</td>\n",
       "      <td>8</td>\n",
       "      <td>86</td>\n",
       "      <td>1</td>\n",
       "      <td>0.810205</td>\n",
       "      <td>...</td>\n",
       "      <td>0</td>\n",
       "      <td>0</td>\n",
       "      <td>0</td>\n",
       "      <td>0</td>\n",
       "      <td>0</td>\n",
       "      <td>0</td>\n",
       "      <td>0</td>\n",
       "      <td>0</td>\n",
       "      <td>1</td>\n",
       "      <td>1</td>\n",
       "    </tr>\n",
       "    <tr>\n",
       "      <th>51704</th>\n",
       "      <td>False</td>\n",
       "      <td>False</td>\n",
       "      <td>2</td>\n",
       "      <td>False</td>\n",
       "      <td>0</td>\n",
       "      <td>0</td>\n",
       "      <td>10</td>\n",
       "      <td>93</td>\n",
       "      <td>1</td>\n",
       "      <td>0.994051</td>\n",
       "      <td>...</td>\n",
       "      <td>0</td>\n",
       "      <td>0</td>\n",
       "      <td>0</td>\n",
       "      <td>0</td>\n",
       "      <td>0</td>\n",
       "      <td>0</td>\n",
       "      <td>0</td>\n",
       "      <td>0</td>\n",
       "      <td>1</td>\n",
       "      <td>1</td>\n",
       "    </tr>\n",
       "    <tr>\n",
       "      <th>51705</th>\n",
       "      <td>False</td>\n",
       "      <td>True</td>\n",
       "      <td>2</td>\n",
       "      <td>False</td>\n",
       "      <td>0</td>\n",
       "      <td>0</td>\n",
       "      <td>10</td>\n",
       "      <td>87</td>\n",
       "      <td>1</td>\n",
       "      <td>3.044100</td>\n",
       "      <td>...</td>\n",
       "      <td>0</td>\n",
       "      <td>0</td>\n",
       "      <td>0</td>\n",
       "      <td>0</td>\n",
       "      <td>0</td>\n",
       "      <td>0</td>\n",
       "      <td>0</td>\n",
       "      <td>0</td>\n",
       "      <td>1</td>\n",
       "      <td>1</td>\n",
       "    </tr>\n",
       "    <tr>\n",
       "      <th>51706</th>\n",
       "      <td>False</td>\n",
       "      <td>True</td>\n",
       "      <td>4</td>\n",
       "      <td>True</td>\n",
       "      <td>1</td>\n",
       "      <td>0</td>\n",
       "      <td>10</td>\n",
       "      <td>93</td>\n",
       "      <td>1</td>\n",
       "      <td>1.263932</td>\n",
       "      <td>...</td>\n",
       "      <td>0</td>\n",
       "      <td>0</td>\n",
       "      <td>0</td>\n",
       "      <td>0</td>\n",
       "      <td>0</td>\n",
       "      <td>0</td>\n",
       "      <td>0</td>\n",
       "      <td>0</td>\n",
       "      <td>1</td>\n",
       "      <td>1</td>\n",
       "    </tr>\n",
       "  </tbody>\n",
       "</table>\n",
       "<p>5 rows × 25 columns</p>\n",
       "</div>"
      ],
      "text/plain": [
       "       room_shared  room_private  person_capacity  host_is_superhost  multi  \\\n",
       "51702        False         False                6              False      0   \n",
       "51703        False         False                2              False      0   \n",
       "51704        False         False                2              False      0   \n",
       "51705        False          True                2              False      0   \n",
       "51706        False          True                4               True      1   \n",
       "\n",
       "       biz  cleanliness_rating  guest_satisfaction_overall  bedrooms  \\\n",
       "51702    1                  10                         100         3   \n",
       "51703    0                   8                          86         1   \n",
       "51704    0                  10                          93         1   \n",
       "51705    0                  10                          87         1   \n",
       "51706    0                  10                          93         1   \n",
       "\n",
       "           dist  ...  city_athens  city_barcelona  city_berlin  city_budapest  \\\n",
       "51702  0.530181  ...            0               0            0              0   \n",
       "51703  0.810205  ...            0               0            0              0   \n",
       "51704  0.994051  ...            0               0            0              0   \n",
       "51705  3.044100  ...            0               0            0              0   \n",
       "51706  1.263932  ...            0               0            0              0   \n",
       "\n",
       "       city_lisbon  city_london  city_paris  city_rome  city_vienna  \\\n",
       "51702            0            0           0          0            1   \n",
       "51703            0            0           0          0            1   \n",
       "51704            0            0           0          0            1   \n",
       "51705            0            0           0          0            1   \n",
       "51706            0            0           0          0            1   \n",
       "\n",
       "       dayType_weekends  \n",
       "51702                 1  \n",
       "51703                 1  \n",
       "51704                 1  \n",
       "51705                 1  \n",
       "51706                 1  \n",
       "\n",
       "[5 rows x 25 columns]"
      ]
     },
     "execution_count": 22,
     "metadata": {},
     "output_type": "execute_result"
    }
   ],
   "source": [
    "Xrows_out.head()\n",
    "Xrows_in.head()\n",
    "\n",
    "Xrows_out.tail()\n",
    "Xrows_in.tail()"
   ]
  },
  {
   "cell_type": "markdown",
   "id": "2709cf83-f288-412b-9d40-86b91fd56400",
   "metadata": {},
   "source": [
    "\\textcolor{blue}{This might be easier to see with the original, non-dummy version of } `city`\\textcolor{blue}{, but in cases where the datasets are organized according to some order (in this specific instance, alphabetically by city), the models trained with the remaining folds aren't trained on representative samples of the data. With} `AirBnB_prices` \\textcolor{blue}{, we won't get any instances of hotels in Amsterdam and Athens in the training data for the first fold, but we would be predicting error on them--technically, I would call this extrapolation.}\n",
    "\n",
    "16. To address this issue, I like to \"scramble\" the rows, a.k.a., put them in random order. We can do it by selecting a sample of size $n$ from the range of 0 to $n-1$ (to account for zero-indexing). Run the following line of code--I've saved it as `ind` for index. Review each line to make sure you understand each step. "
   ]
  },
  {
   "cell_type": "code",
   "execution_count": 23,
   "id": "559b0b44-4802-40bf-8f38-d167ba0b4a68",
   "metadata": {},
   "outputs": [],
   "source": [
    "random.seed(108)\n",
    "\n",
    "ind = random.sample(range(0, n), k = n)\n",
    "\n",
    "ind1 = ind[0:(round(n/5))]\n",
    "\n",
    "Xrows_out = X.loc[ind1]\n",
    "Xrows_in = X.drop(ind1)\n",
    "\n",
    "Yrows_out = Y.loc[ind1]\n",
    "Yrows_in = Y.drop(ind1)"
   ]
  },
  {
   "cell_type": "markdown",
   "id": "25d211c3-1af5-461e-aa00-86a3640af3ca",
   "metadata": {},
   "source": [
    "\\textcolor{blue}{This code scrambles the rows, then saves the first twenty percent of the scrambled lines as Fold 1. This does not guarantee a representative sample, but on average, the samples will be representative. Doing it this way allows you to separate } `X` \\textcolor{blue}{and } `Y` \\textcolor{blue}{separately. Consider also using the } `.sample()` \\textcolor{blue}{function from } `pandas`\\textcolor{blue}{:}\n"
   ]
  },
  {
   "cell_type": "code",
   "execution_count": 24,
   "id": "7776a6ab-c468-442f-b858-c948219e554e",
   "metadata": {},
   "outputs": [
    {
     "ename": "KeyError",
     "evalue": "\"None of [Index(['city', 'dayType'], dtype='object')] are in the [columns]\"",
     "output_type": "error",
     "traceback": [
      "\u001b[0;31m---------------------------------------------------------------------------\u001b[0m",
      "\u001b[0;31mKeyError\u001b[0m                                  Traceback (most recent call last)",
      "Input \u001b[0;32mIn [24]\u001b[0m, in \u001b[0;36m<cell line: 4>\u001b[0;34m()\u001b[0m\n\u001b[1;32m      1\u001b[0m random\u001b[38;5;241m.\u001b[39mseed(\u001b[38;5;241m108\u001b[39m)\n\u001b[1;32m      3\u001b[0m AirBnB_prices \u001b[38;5;241m=\u001b[39m AirBnB_prices\u001b[38;5;241m.\u001b[39msample(frac \u001b[38;5;241m=\u001b[39m \u001b[38;5;241m1\u001b[39m)\n\u001b[0;32m----> 4\u001b[0m AirBnB_prices \u001b[38;5;241m=\u001b[39m \u001b[43mpd\u001b[49m\u001b[38;5;241;43m.\u001b[39;49m\u001b[43mget_dummies\u001b[49m\u001b[43m(\u001b[49m\u001b[43mAirBnB_prices\u001b[49m\u001b[43m,\u001b[49m\u001b[43m \u001b[49m\u001b[43mcolumns\u001b[49m\u001b[43m \u001b[49m\u001b[38;5;241;43m=\u001b[39;49m\u001b[43m \u001b[49m\u001b[43m[\u001b[49m\u001b[38;5;124;43m'\u001b[39;49m\u001b[38;5;124;43mcity\u001b[39;49m\u001b[38;5;124;43m'\u001b[39;49m\u001b[43m,\u001b[49m\u001b[43m \u001b[49m\u001b[38;5;124;43m'\u001b[39;49m\u001b[38;5;124;43mdayType\u001b[39;49m\u001b[38;5;124;43m'\u001b[39;49m\u001b[43m]\u001b[49m\u001b[43m)\u001b[49m\n",
      "File \u001b[0;32m~/opt/anaconda3/lib/python3.9/site-packages/pandas/core/reshape/reshape.py:931\u001b[0m, in \u001b[0;36mget_dummies\u001b[0;34m(data, prefix, prefix_sep, dummy_na, columns, sparse, drop_first, dtype)\u001b[0m\n\u001b[1;32m    929\u001b[0m     \u001b[38;5;28;01mraise\u001b[39;00m \u001b[38;5;167;01mTypeError\u001b[39;00m(\u001b[38;5;124m\"\u001b[39m\u001b[38;5;124mInput must be a list-like for parameter `columns`\u001b[39m\u001b[38;5;124m\"\u001b[39m)\n\u001b[1;32m    930\u001b[0m \u001b[38;5;28;01melse\u001b[39;00m:\n\u001b[0;32m--> 931\u001b[0m     data_to_encode \u001b[38;5;241m=\u001b[39m \u001b[43mdata\u001b[49m\u001b[43m[\u001b[49m\u001b[43mcolumns\u001b[49m\u001b[43m]\u001b[49m\n\u001b[1;32m    933\u001b[0m \u001b[38;5;66;03m# validate prefixes and separator to avoid silently dropping cols\u001b[39;00m\n\u001b[1;32m    934\u001b[0m \u001b[38;5;28;01mdef\u001b[39;00m \u001b[38;5;21mcheck_len\u001b[39m(item, name):\n",
      "File \u001b[0;32m~/opt/anaconda3/lib/python3.9/site-packages/pandas/core/frame.py:3511\u001b[0m, in \u001b[0;36mDataFrame.__getitem__\u001b[0;34m(self, key)\u001b[0m\n\u001b[1;32m   3509\u001b[0m     \u001b[38;5;28;01mif\u001b[39;00m is_iterator(key):\n\u001b[1;32m   3510\u001b[0m         key \u001b[38;5;241m=\u001b[39m \u001b[38;5;28mlist\u001b[39m(key)\n\u001b[0;32m-> 3511\u001b[0m     indexer \u001b[38;5;241m=\u001b[39m \u001b[38;5;28;43mself\u001b[39;49m\u001b[38;5;241;43m.\u001b[39;49m\u001b[43mcolumns\u001b[49m\u001b[38;5;241;43m.\u001b[39;49m\u001b[43m_get_indexer_strict\u001b[49m\u001b[43m(\u001b[49m\u001b[43mkey\u001b[49m\u001b[43m,\u001b[49m\u001b[43m \u001b[49m\u001b[38;5;124;43m\"\u001b[39;49m\u001b[38;5;124;43mcolumns\u001b[39;49m\u001b[38;5;124;43m\"\u001b[39;49m\u001b[43m)\u001b[49m[\u001b[38;5;241m1\u001b[39m]\n\u001b[1;32m   3513\u001b[0m \u001b[38;5;66;03m# take() does not accept boolean indexers\u001b[39;00m\n\u001b[1;32m   3514\u001b[0m \u001b[38;5;28;01mif\u001b[39;00m \u001b[38;5;28mgetattr\u001b[39m(indexer, \u001b[38;5;124m\"\u001b[39m\u001b[38;5;124mdtype\u001b[39m\u001b[38;5;124m\"\u001b[39m, \u001b[38;5;28;01mNone\u001b[39;00m) \u001b[38;5;241m==\u001b[39m \u001b[38;5;28mbool\u001b[39m:\n",
      "File \u001b[0;32m~/opt/anaconda3/lib/python3.9/site-packages/pandas/core/indexes/base.py:5796\u001b[0m, in \u001b[0;36mIndex._get_indexer_strict\u001b[0;34m(self, key, axis_name)\u001b[0m\n\u001b[1;32m   5793\u001b[0m \u001b[38;5;28;01melse\u001b[39;00m:\n\u001b[1;32m   5794\u001b[0m     keyarr, indexer, new_indexer \u001b[38;5;241m=\u001b[39m \u001b[38;5;28mself\u001b[39m\u001b[38;5;241m.\u001b[39m_reindex_non_unique(keyarr)\n\u001b[0;32m-> 5796\u001b[0m \u001b[38;5;28;43mself\u001b[39;49m\u001b[38;5;241;43m.\u001b[39;49m\u001b[43m_raise_if_missing\u001b[49m\u001b[43m(\u001b[49m\u001b[43mkeyarr\u001b[49m\u001b[43m,\u001b[49m\u001b[43m \u001b[49m\u001b[43mindexer\u001b[49m\u001b[43m,\u001b[49m\u001b[43m \u001b[49m\u001b[43maxis_name\u001b[49m\u001b[43m)\u001b[49m\n\u001b[1;32m   5798\u001b[0m keyarr \u001b[38;5;241m=\u001b[39m \u001b[38;5;28mself\u001b[39m\u001b[38;5;241m.\u001b[39mtake(indexer)\n\u001b[1;32m   5799\u001b[0m \u001b[38;5;28;01mif\u001b[39;00m \u001b[38;5;28misinstance\u001b[39m(key, Index):\n\u001b[1;32m   5800\u001b[0m     \u001b[38;5;66;03m# GH 42790 - Preserve name from an Index\u001b[39;00m\n",
      "File \u001b[0;32m~/opt/anaconda3/lib/python3.9/site-packages/pandas/core/indexes/base.py:5856\u001b[0m, in \u001b[0;36mIndex._raise_if_missing\u001b[0;34m(self, key, indexer, axis_name)\u001b[0m\n\u001b[1;32m   5854\u001b[0m     \u001b[38;5;28;01mif\u001b[39;00m use_interval_msg:\n\u001b[1;32m   5855\u001b[0m         key \u001b[38;5;241m=\u001b[39m \u001b[38;5;28mlist\u001b[39m(key)\n\u001b[0;32m-> 5856\u001b[0m     \u001b[38;5;28;01mraise\u001b[39;00m \u001b[38;5;167;01mKeyError\u001b[39;00m(\u001b[38;5;124mf\u001b[39m\u001b[38;5;124m\"\u001b[39m\u001b[38;5;124mNone of [\u001b[39m\u001b[38;5;132;01m{\u001b[39;00mkey\u001b[38;5;132;01m}\u001b[39;00m\u001b[38;5;124m] are in the [\u001b[39m\u001b[38;5;132;01m{\u001b[39;00maxis_name\u001b[38;5;132;01m}\u001b[39;00m\u001b[38;5;124m]\u001b[39m\u001b[38;5;124m\"\u001b[39m)\n\u001b[1;32m   5858\u001b[0m not_found \u001b[38;5;241m=\u001b[39m \u001b[38;5;28mlist\u001b[39m(ensure_index(key)[missing_mask\u001b[38;5;241m.\u001b[39mnonzero()[\u001b[38;5;241m0\u001b[39m]]\u001b[38;5;241m.\u001b[39munique())\n\u001b[1;32m   5859\u001b[0m \u001b[38;5;28;01mraise\u001b[39;00m \u001b[38;5;167;01mKeyError\u001b[39;00m(\u001b[38;5;124mf\u001b[39m\u001b[38;5;124m\"\u001b[39m\u001b[38;5;132;01m{\u001b[39;00mnot_found\u001b[38;5;132;01m}\u001b[39;00m\u001b[38;5;124m not in index\u001b[39m\u001b[38;5;124m\"\u001b[39m)\n",
      "\u001b[0;31mKeyError\u001b[0m: \"None of [Index(['city', 'dayType'], dtype='object')] are in the [columns]\""
     ]
    }
   ],
   "source": [
    "#| eval: false\n",
    "\n",
    "random.seed(108)\n",
    "\n",
    "AirBnB_prices = AirBnB_prices.sample(frac = 1)\n",
    "AirBnB_prices = pd.get_dummies(AirBnB_prices, columns = ['city', 'dayType'])\n",
    "# ..."
   ]
  },
  {
   "cell_type": "markdown",
   "id": "27ded7cc-96d7-4c92-ba5d-3376d2222c9b",
   "metadata": {},
   "source": [
    "\\textcolor{blue}{Just note that you'd have to do this at the very beginning to make sure you're not destroying the relationships between the predictors and responses!}\n",
    "\n",
    "17. We can generalize this if we're a bit clever about the indexing. Walk through the lines of loop that will perform 5-Fold CV--can you see what is going on?"
   ]
  },
  {
   "cell_type": "code",
   "execution_count": 26,
   "id": "2e61ecbe-d839-4410-8f9b-11b53e2ac9e4",
   "metadata": {},
   "outputs": [],
   "source": [
    "resids_KFold = []\n",
    "\n",
    "for k in range(0, 5):\n",
    "  indk = range(round(k*n/5), round((k+1)*n/5)-1)\n",
    "\n",
    "  Xrows_out = X.loc[indk]\n",
    "  Xrows_in = X.drop(indk)\n",
    "\n",
    "  Yrows_out = Y.loc[indk]\n",
    "  Yrows_in = Y.drop(indk)\n",
    "  \n",
    "  modelKFold = sklearn.linear_model.LinearRegression(fit_intercept = True).fit(Xrows_in, Yrows_in)\n",
    "\n",
    "  predKFold = modelKFold.predict(Xrows_out)\n",
    "\n",
    "  residKFold = Yrows_out - predKFold\n",
    "  resids_KFold.append(residKFold**2)"
   ]
  },
  {
   "cell_type": "markdown",
   "id": "682c8041-a441-4e94-a0e7-8c2d67cff66b",
   "metadata": {},
   "source": [
    "\\textcolor{blue}{The only changes between leave-one-out and $K$-Fold cross validation is that you are taking multiple rows at a time. I got a little bit fancy with my loop to take out the rows based on the fold number (1, 2, etc.--remember that Python has zero indexing). This necessitates writing a line of code to randomly shuffle the indices and making some changes to adjust for the storage types, but it is largely the same (and runs so much faster!).}\n",
    "\n",
    "18. You can once again use the sum to aggregate the squared residuals and compare these to other metrics calculated using 5-fold cross validation. "
   ]
  },
  {
   "cell_type": "code",
   "execution_count": 27,
   "id": "cbda5d83-0141-4748-a76b-9eecccb24e26",
   "metadata": {},
   "outputs": [
    {
     "data": {
      "text/plain": [
       "2255974.828267703"
      ]
     },
     "execution_count": 27,
     "metadata": {},
     "output_type": "execute_result"
    }
   ],
   "source": [
    "resids_KFold[0].sum()"
   ]
  },
  {
   "cell_type": "markdown",
   "id": "c3855fb1-af7f-4026-9e4e-fa3a636e592f",
   "metadata": {},
   "source": [
    "It is good that you've programmed cross-validation by hand this one time. Out of all the things we've covered in class, cross validation is the one thing that I regularly write my own code for, rather than using a pre-packaged routine. That being said, for DATA119, I think it is okay to use a package that you trust. Let's look at the [`cross_val_score()` function in `sklearn`](https://scikit-learn.org/stable/modules/generated/sklearn.model_selection.cross_val_score.html#sklearn.model_selection.cross_val_score). 22. We have learned previously that to create plots with `plotnine` we need to create a dataframe. Create a dataframe with columns for `threshold` and each of the coefficients in the model--you may want to rename the columns for convenience later."
   ]
  },
  {
   "cell_type": "code",
   "execution_count": 28,
   "id": "6f995fa8-ee5a-462e-9c9d-50b15fef3adb",
   "metadata": {},
   "outputs": [],
   "source": [
    "from sklearn.model_selection import cross_val_score"
   ]
  },
  {
   "cell_type": "markdown",
   "id": "674e4770-c6a3-4335-8dfe-df5af8a90003",
   "metadata": {},
   "source": [
    "`cross_val_score()` accepts the following arguments:\n",
    "\n",
    "* `estimator`: estimator object implementing `fit`, the object to use to fit the data. We usually save this as `model` or something similar.\n",
    "* `X`: The data to fit. Can be for example a list, or an array--we have been using dataframes.\n",
    "* `y`: The target variable to try to predict in the case of supervised learning. We have been calling this the response. \n",
    "* ... (other arguments not important at the moment)\n",
    "* `scoring`: A \"str\" (see model evaluation documentation) or a scorer callable object / function with signature scorer(estimator, X, y) which should return only a single value. If `None`, the estimator’s default scorer (if available) is used.\n",
    "* `cvint`: Determines the cross-validation splitting strategy. Possible inputs for cv are:\n",
    "  + `None`, to use the default 5-fold cross validation,\n",
    "  + `int`, to specify the number of folds in a (Stratified)KFold,\n",
    "  + CV splitter\n",
    "  + An iterable that generates (train, test) splits as arrays of indices.\n",
    "  \n",
    "Hopefully you more or less know what to put in for `estimator`, `X`, and `y`. `cvint` is also more or less straightforward, I think we will be using `None` or `int` most of the time. The `scoring` method is more interesting! Look at the [documentation for `scoring`](https://scikit-learn.org/stable/modules/model_evaluation.html#scoring-parameter). There are many different ways to score, but hopefully you recognize two things on this page--first, the methods for scoring are different for classifiers and regression models (models with numerical responses). Second, there are a few terms you should be familiar with, like `roc`, `auc`, `accuracy`, `explained_variance`, etc. \n",
    "\n",
    "The closest method to what we covered in class is `neg_mean_squared_error`, with two minor differences. First--I showed you how to calculate the sum of squared errors, which we would want to minimize. By taking the negative value, we've converted this into something we want to maximize. Second--we are now looking at the mean of the squared errors--this is the same as the sum, just divided by the number of observations (a constant).\n",
    "\n",
    "19. The following code calculates a 5-Fold cross validated score for our model. Can you adapt it to produce a 10-Fold CV score? Make sure you are using `neg_mean_squared_error`. You may want to refer to your code from Step 3. "
   ]
  },
  {
   "cell_type": "code",
   "execution_count": 29,
   "id": "0b631643-fbe1-42b6-8110-287355fb4e5e",
   "metadata": {},
   "outputs": [],
   "source": [
    "#LinReg = sklearn.linear_model.LinearRegression(fit_intercept = True)\n",
    "#cross_val_score(LinReg, X, Y)"
   ]
  },
  {
   "cell_type": "markdown",
   "id": "15ba1f3b-7b43-4f88-834a-2fed7dc09e33",
   "metadata": {},
   "source": [
    "LinReg = sklearn.linear_model.LinearRegression(fit_intercept = True)\n",
    "cross_val_score(LinReg, X, Y, cv=10, scoring = \"neg_mean_squared_error\")"
   ]
  },
  {
   "cell_type": "code",
   "execution_count": 30,
   "id": "47434b40-3181-4db5-a2cd-fa6404891500",
   "metadata": {},
   "outputs": [
    {
     "data": {
      "text/plain": [
       "array([-13.88914859,  -0.74937436,  -0.13114437,  -0.10233902,\n",
       "        -0.12861481,  -0.16027365,  -0.1469238 ,  -0.11674324,\n",
       "        -0.10204996, -90.09704792])"
      ]
     },
     "execution_count": 30,
     "metadata": {},
     "output_type": "execute_result"
    }
   ],
   "source": [
    "LinReg = sklearn.linear_model.LinearRegression(fit_intercept = True)\n",
    "cross_val_score(LinReg, X, Y, cv=10, scoring = \"neg_mean_squared_error\")"
   ]
  },
  {
   "cell_type": "markdown",
   "id": "aa3078ab-82be-4d0b-8a02-d26573735ace",
   "metadata": {},
   "source": [
    "20. One more tiny step--`cross_val_score()` returns the scores for each fold. Can you aggregate them to produce one single metric?"
   ]
  },
  {
   "cell_type": "code",
   "execution_count": 31,
   "id": "9e341712-afce-4736-81f1-dffdb762d3ce",
   "metadata": {},
   "outputs": [
    {
     "data": {
      "text/plain": [
       "-10.562365971331989"
      ]
     },
     "execution_count": 31,
     "metadata": {},
     "output_type": "execute_result"
    }
   ],
   "source": [
    "cross_val_score(LinReg, X, Y, cv=10, scoring = \"neg_mean_squared_error\").sum()\n",
    "cross_val_score(LinReg, X, Y, cv=10, scoring = \"neg_mean_squared_error\").mean()"
   ]
  },
  {
   "cell_type": "markdown",
   "id": "82f3f232-8e8a-45cb-a46e-ae5b150e64df",
   "metadata": {},
   "source": [
    "\\textcolor{blue}{You can take either the sum or the mean, it's a matter of personal preference--just be consistent when scoring different models!}\n",
    "\n",
    "# Ridge Regression\n",
    "\n",
    "21. Now let's move onto fitting ridge regression. Remember that we need to standardize the data--you can still use `StandardScaler` from `sklearn` ([the documentation is here if you need it](https://scikit-learn.org/stable/modules/generated/sklearn.preprocessing.StandardScaler.html)), but it's important to note that you want to \"pretend\" that your training data is all that you have and your testing data is brand new. The testing data should not be accounted for when you are scaling the data! However, it does also need to be scaled using the means and standard deviations from the training data. See the code below for an example of the data scaling used in Fold 1. \n"
   ]
  },
  {
   "cell_type": "code",
   "execution_count": 32,
   "id": "eef127c1-53a9-4f8b-bc17-f276eee03e41",
   "metadata": {},
   "outputs": [],
   "source": [
    "Xrows_out = X.loc[ind1]\n",
    "Xrows_in = X.drop(ind1)\n",
    "\n",
    "Yrows_out = Y.loc[ind1]\n",
    "Yrows_in = Y.drop(ind1)\n",
    "\n",
    "from sklearn.preprocessing import StandardScaler\n",
    "\n",
    "scaler = StandardScaler()\n",
    "scaler.fit(Xrows_in)\n",
    "\n",
    "Xrows_in_pp = pd.DataFrame(scaler.transform(Xrows_in), columns = [['room_shared', 'room_private', 'person_capacity', 'host_is_superhost', 'multi', 'biz', 'cleanliness_rating', 'guest_satisfaction_overall', 'bedrooms', 'dist', 'metro_dist', 'attr_index', 'rest_index', 'lng', 'lat', 'city_athens', 'city_barcelona', 'city_berlin', 'city_budapest', 'city_lisbon', 'city_london', 'city_paris', 'city_rome', 'city_vienna', 'dayType_weekends']])\n",
    "Xrows_out_pp = pd.DataFrame(scaler.transform(Xrows_out), columns = [['room_shared', 'room_private', 'person_capacity', 'host_is_superhost', 'multi', 'biz', 'cleanliness_rating', 'guest_satisfaction_overall', 'bedrooms', 'dist', 'metro_dist', 'attr_index', 'rest_index', 'lng', 'lat', 'city_athens', 'city_barcelona', 'city_berlin', 'city_budapest', 'city_lisbon', 'city_london', 'city_paris', 'city_rome', 'city_vienna', 'dayType_weekends']])"
   ]
  },
  {
   "cell_type": "markdown",
   "id": "cc082442-6e03-4fb5-ae5c-e98db65156c0",
   "metadata": {},
   "source": [
    "\\textcolor{red}{Note--because we standardize, we do not have to include a constant term! We can re-define } `Xrows_in` \\textcolor{red}{and} `Xrows_out` \\textcolor{red}{to exclude that column.}\n",
    "\n",
    "22. Even though we aren't performing feature selection with ridge regression, it is still common to fit the models with all of the variables. The most straightforward way to do this is to use the `linear_model.Ridge` method from `sklearn`. Read [the documentation for `Ridge`](https://scikit-learn.org/stable/modules/generated/sklearn.linear_model.Ridge.html) and fit a model predicting the log of the AirBnB's price (ignore the threshold parameter for now). "
   ]
  },
  {
   "cell_type": "code",
   "execution_count": 33,
   "id": "635b74b8-fe97-42ca-9037-7c3b32e0b7fa",
   "metadata": {},
   "outputs": [],
   "source": [
    "model = sklearn.linear_model.Ridge()\n",
    "modelRidge = model.fit(Xrows_in_pp, Yrows_in)"
   ]
  },
  {
   "cell_type": "markdown",
   "id": "e41fbddf-b195-49f0-9974-34f82404822d",
   "metadata": {},
   "source": [
    "Once you read the documentation and successfully fit the model, you should find that it is relatively simple to add different thresholds. Remember that different software programs and even different functions have different names for the threshold parameter--in fact, the following are all different names for the same concept:\n",
    "\n",
    "* Threshold parameter\n",
    "* Regularization parameter\n",
    "* Tuning parameter (presented in the book [James, Gareth, Daniela Witten, Trevor Hastie, and Robert Tibshirani. An introduction to statistical learning. Vol. 112. New York: springer, 2013.](https://hastie.su.domains/ISLR2/ISLRv2_website.pdf))\n",
    "* $T$ (presented in the Week 4 LASSO notes on April 10)\n",
    "* $\\lambda$ (presented in the book on LASSO, [Hastie, Trevor, Robert Tibshirani, and Martin Wainwright. \"Statistical learning with sparsity.\" Monographs on statistics and applied probability 143 (2015): 143.](https://hastie.su.domains/StatLearnSparsity_files/SLS.pdf))\n",
    "* `C` (used in `sklearn.linear_model.LogisticRegression`, among others)\n",
    "* `alpha` (used in `sklearn.linear_model.Ridge()`, among others)\n",
    "\n",
    "Be careful to double, triple, quadruple check the `sklearn` documentation to figure out what you are supposed to be using! Note further that `C` is described as the inverse of regularization strength, so smaller values mean a more restrictive model (the opposite of what we have been considering). \n",
    "\n",
    "23. In the case of `.Ridge()`, we will be using `alpha` where `alpha = 0` is equivalent to least squares regression. Adapt the code from 20 to change the value of `alpha`, just to test the function. "
   ]
  },
  {
   "cell_type": "code",
   "execution_count": 34,
   "id": "8e4331e7-1659-41f8-94a5-3636a2594779",
   "metadata": {},
   "outputs": [],
   "source": [
    "model = sklearn.linear_model.Ridge(alpha = 0.5)\n",
    "modelRidge = model.fit(Xrows_in_pp, Yrows_in)"
   ]
  },
  {
   "cell_type": "markdown",
   "id": "2b751e78-aa0a-417c-9a30-e605da005dac",
   "metadata": {},
   "source": [
    "24. Now, we are ready to use cross validation to try and select the best `alpha` for our dataset. We could adapt the code we wrote in the previous section, but let's also consider a method built into `sklearn`--[sklearn.linear_model.RidgeCV](https://scikit-learn.org/stable/modules/generated/sklearn.linear_model.RidgeCV.html#sklearn.linear_model.RidgeCV). Review the documentation for the `cv` argument--you'll see there are actually options for all three CV methods we have learned so far:\n",
    "\n",
    "* \"An iterable yielding (train, test) splits as arrays of indices\" for a single split into a training and test set (I am less familiar with this option, and would recommend one of the other two), \n",
    "* `cv = K` where `K` is an integer for $K$-Fold CV, and\n",
    "* `cv = None` for efficient leave-one-out CV (likely much faster than what we programmed on our own).\n",
    "\n",
    "Can you edit the code below to produce a tuning parameter selected with 5-Fold CV?"
   ]
  },
  {
   "cell_type": "code",
   "execution_count": 35,
   "id": "c5f99940-e0c2-4615-8eea-65db30187c4f",
   "metadata": {},
   "outputs": [
    {
     "data": {
      "text/plain": [
       "array([-0.0700472 , -0.20323823,  0.11542893,  0.00790768,  0.02246542,\n",
       "        0.05374242,  0.03681328,  0.00778472,  0.09315624, -0.05562507,\n",
       "       -0.018874  ,  0.0887442 ,  0.05320236, -0.48246885,  0.3122737 ,\n",
       "        0.06907146, -0.04556856, -0.04110678, -0.10085089, -0.27270599,\n",
       "       -0.27039092, -0.1507358 , -0.09378913, -0.02443788,  0.01448841])"
      ]
     },
     "execution_count": 35,
     "metadata": {},
     "output_type": "execute_result"
    }
   ],
   "source": [
    "from sklearn.linear_model import RidgeCV\n",
    "from sklearn.preprocessing import StandardScaler\n",
    "\n",
    "scaler = StandardScaler()\n",
    "scaler.fit(X)\n",
    "\n",
    "X_pp = pd.DataFrame(scaler.transform(X), columns = [['room_shared', 'room_private', 'person_capacity', 'host_is_superhost', 'multi', 'biz', 'cleanliness_rating', 'guest_satisfaction_overall', 'bedrooms', 'dist', 'metro_dist', 'attr_index', 'rest_index', 'lng', 'lat', 'city_athens', 'city_barcelona', 'city_berlin', 'city_budapest', 'city_lisbon', 'city_london', 'city_paris', 'city_rome', 'city_vienna', 'dayType_weekends']])\n",
    "\n",
    "clf = RidgeCV(alphas = np.arange(0.1, 100, 1), cv = 5).fit(X_pp, Y)\n",
    "clf.score(X_pp, Y)\n",
    "clf.alpha_\n",
    "clf.coef_"
   ]
  },
  {
   "cell_type": "markdown",
   "id": "6a71a477-77f5-4a3a-aae5-acb3dcbcb016",
   "metadata": {},
   "source": [
    "\\textcolor{red}{Note that the example in the documentation for } `.RidgeCV` \\textcolor{red}{uses standardized data, so I've passed in standardized data here as well. }\n",
    "\n",
    "25. Note that the code in 24. produces only one set of coefficients with the chosen threshold--so we know what the threshold is, but we don't have the nice plots we are used to seeing. To do that, you can adapt last week's code. Edit the chunk below so that we are performing ridge regression rather than the LASSO, and produce the plots (note that I plotted the log of the inverse of `alpha` for the nicest plots). \n"
   ]
  },
  {
   "cell_type": "code",
   "execution_count": 40,
   "id": "04978143-6a05-4ce8-be56-7a986c37ae0e",
   "metadata": {},
   "outputs": [
    {
     "data": {
      "image/png": "[encoded data removed]",
      "text/plain": [
       "<Figure size 600x375 with 1 Axes>"
      ]
     },
     "metadata": {},
     "output_type": "display_data"
    },
    {
     "data": {
      "text/plain": [
       "<ggplot: (342800059)>"
      ]
     },
     "execution_count": 40,
     "metadata": {},
     "output_type": "execute_result"
    }
   ],
   "source": [
    "#coefs_lasso = pd.DataFrame()\n",
    "#auc_list = []\n",
    "\n",
    "#for threshold in Cs:\n",
    "  #model = sklearn.linear_model.LogisticRegression(penalty='l1', solver = 'liblinear', C=threshold)\n",
    "  #tempmodel = model.fit(X_train_pp, Y_train)\n",
    "  #coefs_lasso = pd.concat([coefs_lasso, pd.Series(tempmodel.coef_[0]).to_frame().T], ignore_index=True)\n",
    "  #pred = tempmodel.predict(X_test_pp)\n",
    "  #fpr, tpr, thresholds = metrics.roc_curve(Y_test, pred, pos_label=1)\n",
    "  #auc_list.append(metrics.auc(fpr, tpr))\n",
    "\n",
    "#arrests_lasso_plt = coefs_lasso\n",
    "#arrests_lasso_plt.rename(columns={0: 'year', 1: 'age',\n",
    "                                  #2: 'checks', 3: 'race_Black',\n",
    "                                  #4: 'sex_Male', 5: 'employed_Yes',\n",
    "                                  #6: 'citizen_Yes'}, inplace = True)\n",
    "\n",
    "#arrests_lasso_plt['Threshold'] = Cs\n",
    "\n",
    "#arrests_lasso_plt_melt = pd.melt(arrests_lasso_plt, id_vars = 'Threshold', \n",
    "                                #var_name = 'Variable', value_name = 'Coefficient')\n",
    "                                \n",
    "#max_T = arrests_lasso_plt_melt['Threshold'].loc[arrests_lasso_plt_melt.shape[0]-1]\n",
    "\n",
    "#plt_label = arrests_lasso_plt_melt[(arrests_lasso_plt_melt['Threshold'] == max_T)]\n",
    "\n",
    "#(p9.ggplot(arrests_lasso_plt_melt, p9.aes(x = 'Threshold', y = 'Coefficient', \n",
    "                                          #color = 'Variable')) +\n",
    "  #p9.geom_line() +\n",
    "  #p9.theme(legend_position = \"none\") +\n",
    "  #p9.geom_label(inherit_aes = False, data = plt_label, \n",
    "                #mapping = p9.aes(label = 'Variable', x = 0.2, \n",
    "                                 #y = 'Coefficient', color = 'Variable')))\n",
    "        \n",
    "alphas = np.arange(0.1, 100, 1)\n",
    "\n",
    "Threshold = []\n",
    "coefs_ridge = pd.DataFrame()\n",
    "\n",
    "for threshold in alphas:\n",
    "  model = sklearn.linear_model.Ridge(alpha = threshold)\n",
    "  tempmodel = model.fit(X_pp, Y)\n",
    "  coefs_ridge = pd.concat([coefs_ridge, pd.Series(tempmodel.coef_).to_frame().T])\n",
    "  Threshold.append(np.log(1/threshold))\n",
    "  \n",
    "\n",
    "AirBnB_ridge_plt = coefs_ridge\n",
    "AirBnB_ridge_plt.rename(columns={0: 'room_shared', 1: 'room_private', 2: 'person_capacity', \n",
    "                                 3: 'host_is_superhost', 4: 'multi', 5: 'biz', \n",
    "                                 6: 'cleanliness_rating', 7: 'guest_satisfaction_overall', 8: 'bedrooms', \n",
    "                                 9: 'dist', 10: 'metro_dist', 11: 'attr_index', \n",
    "                                 12: 'rest_index', 13: 'lng', 14: 'lat', \n",
    "                                 15: 'city_athens', 16: 'city_barcelona', 17: 'city_berlin', \n",
    "                                 18: 'city_budapest', 19: 'city_lisbon', 20: 'city_london', \n",
    "                                 21: 'city_paris', 22: 'city_rome', 23: 'city_vienna', \n",
    "                                 24: 'dayType_weekends'}, \n",
    "                                 inplace = True)\n",
    "\n",
    "AirBnB_ridge_plt['Threshold'] = Threshold\n",
    "\n",
    "AirBnB_ridge_plt_melt = pd.melt(AirBnB_ridge_plt, id_vars = 'Threshold', \n",
    "                                  var_name = 'Variable', value_name = 'Coefficient')\n",
    "                                  \n",
    "max_T = AirBnB_ridge_plt_melt['Threshold'].loc[0]\n",
    "\n",
    "plt_label = AirBnB_ridge_plt_melt[(AirBnB_ridge_plt_melt['Threshold'] == max_T)]\n",
    "\n",
    "import plotnine as p9\n",
    "\n",
    "(p9.ggplot(AirBnB_ridge_plt_melt, p9.aes(x = 'Threshold', y = 'Coefficient', color = 'Variable')) +\n",
    "       p9.geom_line() +\n",
    "       p9.scale_x_continuous(name = \"log(T)\", limits = [-4.61, 2.6]) + \n",
    "       p9.theme(legend_position = \"none\", figure_size = [6, 3.75]) +\n",
    "       p9.geom_label(inherit_aes = False, data = plt_label, ha = 'left',\n",
    "                     mapping = p9.aes(label = 'Variable', x = np.log(1/0.1), # \n",
    "                                      y = 'Coefficient', color = 'Variable', size = 1)))        "
   ]
  },
  {
   "cell_type": "markdown",
   "id": "b789d6b3-d8bb-4cf4-b78b-e2f4a0e9eaa4",
   "metadata": {},
   "source": [
    "26. One nice thing to add to this plot would be a vertical line indicating where the regularization parameter actually is so we can quickly draw conclusions. We can do so using the command `p9.geom_vline()` for **V**ertical line. Remember that we can pull the parameter out using `.alpha_`--try and add this line to the plot. Once you've done so, can you find out which variables are helpful? Which has the largest coefficient?"
   ]
  },
  {
   "cell_type": "code",
   "execution_count": 41,
   "id": "943935b0-da3c-4512-b13d-15418a4ef1cd",
   "metadata": {},
   "outputs": [
    {
     "data": {
      "image/png": "[encoded data removed]",
      "text/plain": [
       "<Figure size 600x375 with 1 Axes>"
      ]
     },
     "metadata": {},
     "output_type": "display_data"
    },
    {
     "data": {
      "text/plain": [
       "<ggplot: (342885117)>"
      ]
     },
     "execution_count": 41,
     "metadata": {},
     "output_type": "execute_result"
    }
   ],
   "source": [
    "(p9.ggplot(AirBnB_ridge_plt_melt, p9.aes(x = 'Threshold', y = 'Coefficient', color = 'Variable')) +\n",
    "       p9.geom_line() +\n",
    "       p9.scale_x_continuous(name = \"log(T)\", limits = [-4.61, 2.6]) + \n",
    "       p9.geom_vline(xintercept = np.log(1/clf.alpha_)) +\n",
    "       p9.theme(legend_position = \"none\", figure_size = [6, 3.75]) +\n",
    "       p9.geom_label(inherit_aes = False, data = plt_label, ha = 'left',\n",
    "                     mapping = p9.aes(label = 'Variable', x = np.log(1/0.1), # \n",
    "                                      y = 'Coefficient', color = 'Variable', size = 1)))"
   ]
  }
 ],
 "metadata": {
  "kernelspec": {
   "display_name": "Python 3 (ipykernel)",
   "language": "python",
   "name": "python3"
  },
  "language_info": {
   "codemirror_mode": {
    "name": "ipython",
    "version": 3
   },
   "file_extension": ".py",
   "mimetype": "text/x-python",
   "name": "python",
   "nbconvert_exporter": "python",
   "pygments_lexer": "ipython3",
   "version": "3.9.13"
  }
 },
 "nbformat": 4,
 "nbformat_minor": 5
}
